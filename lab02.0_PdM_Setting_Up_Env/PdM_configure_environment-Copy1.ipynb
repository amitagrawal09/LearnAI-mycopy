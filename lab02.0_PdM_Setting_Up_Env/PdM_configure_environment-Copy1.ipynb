{
 "cells": [
  {
   "cell_type": "markdown",
   "metadata": {},
   "source": [
    "Copyright (c) Microsoft Corporation. All rights reserved.\n",
    "\n",
    "Licensed under the MIT License."
   ]
  },
  {
   "cell_type": "markdown",
   "metadata": {},
   "source": [
    "# Python setup\n",
    "\n",
    "We will install the following Python packages on the DSVM. \n",
    "\n",
    "**Notes**: \n",
    "1. These steps are suggested with the assumption that you are using the kernel `Python [conda env:py36]` for this lab. If you are using a different kernel, please update all references to a conda environment below to the kernel you are using to run this notebook.\n",
    "2. If you cannot install these packages from Jupyter, please SSH (`ssh <username>@<ip.address.of.VM>`) into the DSVM from the command line and run these commands."
   ]
  },
  {
   "cell_type": "code",
   "execution_count": 1,
   "metadata": {},
   "outputs": [
    {
     "name": "stdout",
     "output_type": "stream",
     "text": [
      "Solving environment: ...working... done\n",
      "\n",
      "## Package Plan ##\n",
      "\n",
      "  environment location: /anaconda/envs/py36\n",
      "\n",
      "  added / updated specs: \n",
      "    - seaborn\n",
      "\n",
      "\n",
      "The following packages will be downloaded:\n",
      "\n",
      "    package                    |            build\n",
      "    ---------------------------|-----------------\n",
      "    patsy-0.5.1                |           py36_0         380 KB\n",
      "    pyqt-5.9.2                 |   py36h05f1152_2         5.6 MB\n",
      "    statsmodels-0.9.0          |   py36h035aef0_0         9.0 MB\n",
      "    pandas-0.23.4              |   py36h04863e7_0        10.1 MB\n",
      "    sip-4.19.8                 |   py36hf484d3e_0         290 KB\n",
      "    seaborn-0.9.0              |           py36_0         379 KB\n",
      "    matplotlib-3.0.0           |   py36h5429711_0         6.8 MB\n",
      "    certifi-2018.10.15         |           py36_0         139 KB\n",
      "    ------------------------------------------------------------\n",
      "                                           Total:        32.6 MB\n",
      "\n",
      "The following NEW packages will be INSTALLED:\n",
      "\n",
      "    pandas:      0.23.4-py36h04863e7_0 \n",
      "    patsy:       0.5.1-py36_0          \n",
      "    seaborn:     0.9.0-py36_0          \n",
      "    statsmodels: 0.9.0-py36h035aef0_0  \n",
      "\n",
      "The following packages will be UPDATED:\n",
      "\n",
      "    certifi:     2018.8.24-py36_1       --> 2018.10.15-py36_0    \n",
      "    matplotlib:  2.2.3-py36hb69df0a_0   --> 3.0.0-py36h5429711_0 \n",
      "    pyqt:        5.9.2-py36h22d08a2_1   --> 5.9.2-py36h05f1152_2 \n",
      "\n",
      "The following packages will be DOWNGRADED:\n",
      "\n",
      "    sip:         4.19.12-py36he6710b0_0 --> 4.19.8-py36hf484d3e_0\n",
      "\n",
      "Proceed ([y]/n)? Invalid choice: conda install --name py36 -f -c conda-forge jupyter_contrib_nbextensions\n",
      "Proceed ([y]/n)? Invalid choice: conda install --name py36 -f -c conda-forge jupyter_nbextensions_configurator\n",
      "Proceed ([y]/n)? \n",
      "\n",
      "Downloading and Extracting Packages\n",
      "Preparing transaction: ...working... done\n",
      "Verifying transaction: ...working... done\n",
      "Executing transaction: ...working... done\n"
     ]
    },
    {
     "name": "stderr",
     "output_type": "stream",
     "text": [
      "\r",
      "patsy-0.5.1          | 380 KB    |            |   0% \r",
      "patsy-0.5.1          | 380 KB    | #########1 |  92% \r",
      "patsy-0.5.1          | 380 KB    | ########## | 100% \n",
      "\r",
      "pyqt-5.9.2           | 5.6 MB    |            |   0% \r",
      "pyqt-5.9.2           | 5.6 MB    | #######5   |  76% \r",
      "pyqt-5.9.2           | 5.6 MB    | ########5  |  85% \r",
      "pyqt-5.9.2           | 5.6 MB    | #########2 |  93% \r",
      "pyqt-5.9.2           | 5.6 MB    | #########8 |  98% \r",
      "pyqt-5.9.2           | 5.6 MB    | ########## | 100% \n",
      "\r",
      "statsmodels-0.9.0    | 9.0 MB    |            |   0% \r",
      "statsmodels-0.9.0    | 9.0 MB    | 9          |  10% \r",
      "statsmodels-0.9.0    | 9.0 MB    | #######5   |  75% \r",
      "statsmodels-0.9.0    | 9.0 MB    | ########6  |  87% \r",
      "statsmodels-0.9.0    | 9.0 MB    | #########4 |  95% \r",
      "statsmodels-0.9.0    | 9.0 MB    | ########## | 100% \n",
      "\r",
      "pandas-0.23.4        | 10.1 MB   |            |   0% \r",
      "pandas-0.23.4        | 10.1 MB   | #####9     |  60% \r",
      "pandas-0.23.4        | 10.1 MB   | #######7   |  78% \r",
      "pandas-0.23.4        | 10.1 MB   | #########1 |  91% \r",
      "pandas-0.23.4        | 10.1 MB   | ########## | 100% \n",
      "\r",
      "sip-4.19.8           | 290 KB    |            |   0% \r",
      "sip-4.19.8           | 290 KB    | ########## | 100% \n",
      "\r",
      "seaborn-0.9.0        | 379 KB    |            |   0% \r",
      "seaborn-0.9.0        | 379 KB    | ########## | 100% \n",
      "\r",
      "matplotlib-3.0.0     | 6.8 MB    |            |   0% \r",
      "matplotlib-3.0.0     | 6.8 MB    | ######1    |  61% \r",
      "matplotlib-3.0.0     | 6.8 MB    | #######9   |  79% \r",
      "matplotlib-3.0.0     | 6.8 MB    | #########3 |  94% \r",
      "matplotlib-3.0.0     | 6.8 MB    | ########## | 100% \n",
      "\r",
      "certifi-2018.10.15   | 139 KB    |            |   0% \r",
      "certifi-2018.10.15   | 139 KB    | ########## | 100% \n"
     ]
    }
   ],
   "source": [
    "%%bash \n",
    "\n",
    "conda install --name py36 seaborn\n",
    "conda install --name py36 -f -c conda-forge jupyter_contrib_nbextensions\n",
    "conda install --name py36 -f -c conda-forge jupyter_nbextensions_configurator"
   ]
  },
  {
   "cell_type": "markdown",
   "metadata": {},
   "source": [
    "### Upgrade your azureml installation\n",
    "\n",
    "Hopefully you won't have to do this. Especially if you are in one of our sessions, you shouldn't have to do this. \n",
    "\n",
    "If you still need to do this, follow the following step:"
   ]
  },
  {
   "cell_type": "code",
   "execution_count": 4,
   "metadata": {},
   "outputs": [],
   "source": [
    "%%bash\n",
    "\n",
    "# you might have to uncomment the next line if you get a CommandNotFoundError\n",
    " . /anaconda/etc/profile.d/conda.sh\n",
    "\n",
    "conda activate py36 # if you just run activate you get permission denied"
   ]
  },
  {
   "cell_type": "code",
   "execution_count": 5,
   "metadata": {},
   "outputs": [
    {
     "name": "stdout",
     "output_type": "stream",
     "text": [
      "Collecting pip\n",
      "  Downloading https://files.pythonhosted.org/packages/c2/d7/90f34cb0d83a6c5631cf71dfe64cc1054598c843a92b400e55675cc2ac37/pip-18.1-py2.py3-none-any.whl (1.3MB)\n",
      "Installing collected packages: pip\n",
      "  Found existing installation: pip 18.0\n",
      "    Uninstalling pip-18.0:\n",
      "      Successfully uninstalled pip-18.0\n",
      "Successfully installed pip-18.1\n",
      "Collecting azureml-sdk[automl,notebooks]\n",
      "  Downloading https://files.pythonhosted.org/packages/78/1a/a312e326fe491f01a2fa26220066e3e8f2a33fef779f165694b09b522b79/azureml_sdk-0.1.74-py3-none-any.whl\n",
      "Collecting azureml-core==0.1.74.* (from azureml-sdk[automl,notebooks])\n",
      "  Downloading https://files.pythonhosted.org/packages/b4/e1/062c248f174389615422ad85c1fbd56b686c185743758fc5983957610bcf/azureml_core-0.1.74-py2.py3-none-any.whl (781kB)\n",
      "Collecting azureml-pipeline==0.1.74.* (from azureml-sdk[automl,notebooks])\n",
      "  Downloading https://files.pythonhosted.org/packages/d5/c8/f4ff3c32b3f6dc2291c5ab7f31a4c6a37098fcd46a315b6d08386d7cf891/azureml_pipeline-0.1.74-py3-none-any.whl\n",
      "Collecting azureml-train==0.1.74.* (from azureml-sdk[automl,notebooks])\n",
      "  Downloading https://files.pythonhosted.org/packages/6a/3a/442ca39f58c9ea60bd1463d95fd8f10a3db5be77ca251ef7e9277a384cf3/azureml_train-0.1.74-py3-none-any.whl\n",
      "Collecting azureml-train-automl==0.1.74.*; extra == \"automl\" (from azureml-sdk[automl,notebooks])\n",
      "  Downloading https://files.pythonhosted.org/packages/42/7e/a212dbe5585f9d21eac29d014582a1e13727576c46067afff1f54996007c/azureml_train_automl-0.1.74-py3-none-any.whl (146kB)\n",
      "Collecting azureml-train-widgets==0.1.74.*; extra == \"notebooks\" (from azureml-sdk[automl,notebooks])\n",
      "  Downloading https://files.pythonhosted.org/packages/5b/64/70f67d4efc7565d69d5c9e64f0724bd241164150dd8550060aedc5ea5de5/azureml_train_widgets-0.1.74-py3-none-any.whl (8.1MB)\n",
      "Requirement already satisfied, skipping upgrade: azure-mgmt-containerregistry>=2.0.0 in /data/anaconda/envs/py35/lib/python3.5/site-packages (from azureml-core==0.1.74.*->azureml-sdk[automl,notebooks]) (2.2.0)\n",
      "Requirement already satisfied, skipping upgrade: msrestazure>=0.4.33 in /data/anaconda/envs/py35/lib/python3.5/site-packages (from azureml-core==0.1.74.*->azureml-sdk[automl,notebooks]) (0.5.0)\n",
      "Requirement already satisfied, skipping upgrade: azure-storage-blob>=1.1.0 in /data/anaconda/envs/py35/lib/python3.5/site-packages (from azureml-core==0.1.74.*->azureml-sdk[automl,notebooks]) (1.3.1)\n",
      "Requirement already satisfied, skipping upgrade: azure-mgmt-storage>=1.5.0 in /data/anaconda/envs/py35/lib/python3.5/site-packages (from azureml-core==0.1.74.*->azureml-sdk[automl,notebooks]) (2.0.0)\n",
      "Collecting ruamel.yaml<=0.15.51,>=0.15.35 (from azureml-core==0.1.74.*->azureml-sdk[automl,notebooks])\n",
      "  Downloading https://files.pythonhosted.org/packages/45/34/4818c6936fbe2a8dbda9430eb50d7e2e035e24db0ee5b232c68c54cb0c44/ruamel.yaml-0.15.51-cp35-cp35m-manylinux1_x86_64.whl (620kB)\n",
      "Requirement already satisfied, skipping upgrade: azure-storage-nspkg>=3.0.0 in /data/anaconda/envs/py35/lib/python3.5/site-packages (from azureml-core==0.1.74.*->azureml-sdk[automl,notebooks]) (3.0.0)\n",
      "Collecting azure-cli-profile>=2.0.26 (from azureml-core==0.1.74.*->azureml-sdk[automl,notebooks])\n",
      "  Downloading https://files.pythonhosted.org/packages/c2/d3/fdc722a1b61857250a76027d6d73a50182c6d85132ddd65600a8993574ce/azure_cli_profile-2.1.2-py2.py3-none-any.whl\n",
      "Requirement already satisfied, skipping upgrade: contextlib2 in /data/anaconda/envs/py35/lib/python3.5/site-packages (from azureml-core==0.1.74.*->azureml-sdk[automl,notebooks]) (0.5.5)\n",
      "Collecting jsonpickle (from azureml-core==0.1.74.*->azureml-sdk[automl,notebooks])\n",
      "  Downloading https://files.pythonhosted.org/packages/ca/ce/97404d5aeb58e6155c216825c81b50f6eca8a5345c582317ae48391878f8/jsonpickle-1.0-py2.py3-none-any.whl\n",
      "Collecting SecretStorage<3.0.0 (from azureml-core==0.1.74.*->azureml-sdk[automl,notebooks])\n",
      "  Downloading https://files.pythonhosted.org/packages/a5/a5/0830cfe34a4cfd0d1c3c8b614ede1edb2aaf999091ac8548dd19cb352e79/SecretStorage-2.3.1.tar.gz\n",
      "Requirement already satisfied, skipping upgrade: azure-mgmt-keyvault>=0.40.0 in /data/anaconda/envs/py35/lib/python3.5/site-packages (from azureml-core==0.1.74.*->azureml-sdk[automl,notebooks]) (1.1.0)\n",
      "Collecting urllib3<1.24,>=1.23 (from azureml-core==0.1.74.*->azureml-sdk[automl,notebooks])\n",
      "  Downloading https://files.pythonhosted.org/packages/bd/c9/6fdd990019071a4a32a5e7cb78a1d92c53851ef4f56f62a3486e6a7d8ffb/urllib3-1.23-py2.py3-none-any.whl (133kB)\n",
      "Requirement already satisfied, skipping upgrade: pytz in /data/anaconda/envs/py35/lib/python3.5/site-packages (from azureml-core==0.1.74.*->azureml-sdk[automl,notebooks]) (2018.4)\n",
      "Requirement already satisfied, skipping upgrade: msrest>=0.5.1 in /data/anaconda/envs/py35/lib/python3.5/site-packages (from azureml-core==0.1.74.*->azureml-sdk[automl,notebooks]) (0.5.5)\n",
      "Requirement already satisfied, skipping upgrade: six>=1.11.0 in /data/anaconda/envs/py35/lib/python3.5/site-packages (from azureml-core==0.1.74.*->azureml-sdk[automl,notebooks]) (1.11.0)\n",
      "Collecting backports.tempfile (from azureml-core==0.1.74.*->azureml-sdk[automl,notebooks])\n",
      "  Downloading https://files.pythonhosted.org/packages/b4/5c/077f910632476281428fe254807952eb47ca78e720d059a46178c541e669/backports.tempfile-1.0-py2.py3-none-any.whl\n",
      "Requirement already satisfied, skipping upgrade: azure-mgmt-authorization>=0.40.0 in /data/anaconda/envs/py35/lib/python3.5/site-packages (from azureml-core==0.1.74.*->azureml-sdk[automl,notebooks]) (0.50.0)\n",
      "Collecting azure-cli-core>=2.0.38 (from azureml-core==0.1.74.*->azureml-sdk[automl,notebooks])\n",
      "  Downloading https://files.pythonhosted.org/packages/18/fa/4adcb8d2a7683ba972eb2b56d68f21cd0d5b43222c368c5ee6bc38cf2e4d/azure_cli_core-2.0.50-py2.py3-none-any.whl (107kB)\n",
      "Collecting docker (from azureml-core==0.1.74.*->azureml-sdk[automl,notebooks])\n",
      "  Downloading https://files.pythonhosted.org/packages/c2/76/b8091dc6d9db038af62ae88f228da656a84632cf5d7a84dcf54c613d3fd0/docker-3.5.1-py2.py3-none-any.whl (126kB)\n",
      "Requirement already satisfied, skipping upgrade: python-dateutil>=2.7.3 in /data/anaconda/envs/py35/lib/python3.5/site-packages (from azureml-core==0.1.74.*->azureml-sdk[automl,notebooks]) (2.7.3)\n",
      "Requirement already satisfied, skipping upgrade: azure-storage-common>=1.1.0 in /data/anaconda/envs/py35/lib/python3.5/site-packages (from azureml-core==0.1.74.*->azureml-sdk[automl,notebooks]) (1.3.0)\n",
      "Requirement already satisfied, skipping upgrade: azure-common>=1.1.12 in /data/anaconda/envs/py35/lib/python3.5/site-packages (from azureml-core==0.1.74.*->azureml-sdk[automl,notebooks]) (1.1.15)\n",
      "Collecting pathspec (from azureml-core==0.1.74.*->azureml-sdk[automl,notebooks])\n",
      "  Downloading https://files.pythonhosted.org/packages/84/2a/bfee636b1e2f7d6e30dd74f49201ccfa5c3cf322d44929ecc6c137c486c5/pathspec-0.5.9.tar.gz\n",
      "Collecting requests>=2.19.1 (from azureml-core==0.1.74.*->azureml-sdk[automl,notebooks])\n",
      "  Downloading https://files.pythonhosted.org/packages/ff/17/5cbb026005115301a8fb2f9b0e3e8d32313142fe8b617070e7baad20554f/requests-2.20.1-py2.py3-none-any.whl (57kB)\n",
      "Requirement already satisfied, skipping upgrade: PyJWT in /data/anaconda/envs/py35/lib/python3.5/site-packages (from azureml-core==0.1.74.*->azureml-sdk[automl,notebooks]) (1.6.4)\n",
      "Requirement already satisfied, skipping upgrade: azure-graphrbac>=0.40.0 in /data/anaconda/envs/py35/lib/python3.5/site-packages (from azureml-core==0.1.74.*->azureml-sdk[automl,notebooks]) (0.40.0)\n",
      "Requirement already satisfied, skipping upgrade: azure-mgmt-resource>=1.2.1 in /data/anaconda/envs/py35/lib/python3.5/site-packages (from azureml-core==0.1.74.*->azureml-sdk[automl,notebooks]) (2.0.0)\n",
      "Requirement already satisfied, skipping upgrade: cryptography!=1.9,!=2.0.*,!=2.1.*,!=2.2.* in /data/anaconda/envs/py35/lib/python3.5/site-packages (from azureml-core==0.1.74.*->azureml-sdk[automl,notebooks]) (2.3.1)\n",
      "Collecting ndg-httpsclient (from azureml-core==0.1.74.*->azureml-sdk[automl,notebooks])\n",
      "  Downloading https://files.pythonhosted.org/packages/fb/67/c2f508c00ed2a6911541494504b7cac16fe0b0473912568df65fd1801132/ndg_httpsclient-0.5.1-py3-none-any.whl\n",
      "Collecting azureml-pipeline-steps==0.1.74.* (from azureml-pipeline==0.1.74.*->azureml-sdk[automl,notebooks])\n",
      "  Downloading https://files.pythonhosted.org/packages/7f/d9/610f39e47627e39920fda2e5e0428be3f5c7c334efaaf9fa6f1b46709d22/azureml_pipeline_steps-0.1.74-py3-none-any.whl\n",
      "Collecting azureml-pipeline-core==0.1.74.* (from azureml-pipeline==0.1.74.*->azureml-sdk[automl,notebooks])\n",
      "  Downloading https://files.pythonhosted.org/packages/5a/9c/49a81ef1e0c4cdf8e0913f6414ddaa8c49f40b27233340ac637ddf82673d/azureml_pipeline_core-0.1.74-py3-none-any.whl (109kB)\n",
      "Collecting azureml-train-core==0.1.74.* (from azureml-train==0.1.74.*->azureml-sdk[automl,notebooks])\n",
      "  Downloading https://files.pythonhosted.org/packages/3c/6a/097c22b968f2b02e530a7cbd4e625148cdd19e84160383f7c8ffc9a3e501/azureml_train_core-0.1.74-py3-none-any.whl (63kB)\n",
      "Requirement already satisfied, skipping upgrade: lightgbm<=2.2.1,>=2.0.11 in /data/anaconda/envs/py35/lib/python3.5/site-packages (from azureml-train-automl==0.1.74.*; extra == \"automl\"->azureml-sdk[automl,notebooks]) (2.1.2)\n",
      "Collecting resource>=0.1.8 (from azureml-train-automl==0.1.74.*; extra == \"automl\"->azureml-sdk[automl,notebooks])\n",
      "  Downloading https://files.pythonhosted.org/packages/34/ad/9cd037c01c075f9a273c23557f8e71195d773d59d3881bbb26011d396c8b/Resource-0.2.1-py2.py3-none-any.whl\n",
      "Requirement already satisfied, skipping upgrade: scipy<=1.1.0,>=1.0.0 in /data/anaconda/envs/py35/lib/python3.5/site-packages (from azureml-train-automl==0.1.74.*; extra == \"automl\"->azureml-sdk[automl,notebooks]) (1.1.0)\n",
      "Collecting sklearn-pandas<=1.7.0,>=1.4.0 (from azureml-train-automl==0.1.74.*; extra == \"automl\"->azureml-sdk[automl,notebooks])\n",
      "  Downloading https://files.pythonhosted.org/packages/7e/9c/c94f46b40b86d2c77c46c4c1b858fc66c117b4390665eca28f2e0812db45/sklearn_pandas-1.7.0-py2.py3-none-any.whl\n",
      "Requirement already satisfied, skipping upgrade: pandas<=0.23.4,>=0.20.1 in /data/anaconda/envs/py35/lib/python3.5/site-packages (from azureml-train-automl==0.1.74.*; extra == \"automl\"->azureml-sdk[automl,notebooks]) (0.23.0)\n",
      "Requirement already satisfied, skipping upgrade: scikit-learn<=0.19.1,>=0.18.0 in /data/anaconda/envs/py35/lib/python3.5/site-packages (from azureml-train-automl==0.1.74.*; extra == \"automl\"->azureml-sdk[automl,notebooks]) (0.19.1)\n",
      "Collecting tensorflow==1.10.0 (from azureml-train-automl==0.1.74.*; extra == \"automl\"->azureml-sdk[automl,notebooks])\n",
      "  Downloading https://files.pythonhosted.org/packages/32/bb/46e6ceeae1a0aa8a0e21ec08b2d8456de19d733807a50ef4302fcb509ed9/tensorflow-1.10.0-cp35-cp35m-manylinux1_x86_64.whl (58.4MB)\n",
      "Collecting wheel==0.30.0 (from azureml-train-automl==0.1.74.*; extra == \"automl\"->azureml-sdk[automl,notebooks])\n",
      "  Downloading https://files.pythonhosted.org/packages/0c/80/16a85b47702a1f47a63c104c91abdd0a6704ee8ae3b4ce4afc49bc39f9d9/wheel-0.30.0-py2.py3-none-any.whl (49kB)\n",
      "Collecting azureml-telemetry==0.1.74.* (from azureml-train-automl==0.1.74.*; extra == \"automl\"->azureml-sdk[automl,notebooks])\n",
      "  Downloading https://files.pythonhosted.org/packages/f7/b4/35b593f672476842586c5d7980bcf257d970882f6504497faf281f7aebad/azureml_telemetry-0.1.74-py3-none-any.whl\n",
      "Requirement already satisfied, skipping upgrade: numpy==1.14.5 in /data/anaconda/envs/py35/lib/python3.5/site-packages (from azureml-train-automl==0.1.74.*; extra == \"automl\"->azureml-sdk[automl,notebooks]) (1.14.5)\n",
      "Collecting azureml-dataprep<0.4.0,~=0.3rc (from azureml-train-automl==0.1.74.*; extra == \"automl\"->azureml-sdk[automl,notebooks])\n",
      "  Downloading https://files.pythonhosted.org/packages/7f/b4/4ce35bc1320e13aad61b9a15ff29fb4c6c472d0399e3508c15c23b4b3172/azureml_dataprep-0.3.0-py3-none-any.whl (14.7MB)\n",
      "Requirement already satisfied, skipping upgrade: ipywidgets>=7.0.0 in /data/anaconda/envs/py35/lib/python3.5/site-packages (from azureml-train-widgets==0.1.74.*; extra == \"notebooks\"->azureml-sdk[automl,notebooks]) (7.2.1)\n",
      "Requirement already satisfied, skipping upgrade: azure-mgmt-nspkg>=2.0.0 in /data/anaconda/envs/py35/lib/python3.5/site-packages (from azure-mgmt-containerregistry>=2.0.0->azureml-core==0.1.74.*->azureml-sdk[automl,notebooks]) (2.0.0)\n",
      "Requirement already satisfied, skipping upgrade: adal<2.0.0,>=0.6.0 in /data/anaconda/envs/py35/lib/python3.5/site-packages (from msrestazure>=0.4.33->azureml-core==0.1.74.*->azureml-sdk[automl,notebooks]) (1.1.0)\n",
      "Requirement already satisfied, skipping upgrade: azure-nspkg>=2.0.0 in /data/anaconda/envs/py35/lib/python3.5/site-packages (from azure-storage-nspkg>=3.0.0->azureml-core==0.1.74.*->azureml-sdk[automl,notebooks]) (2.0.0)\n",
      "Collecting azure-cli-command-modules-nspkg>=2.0.0 (from azure-cli-profile>=2.0.26->azureml-core==0.1.74.*->azureml-sdk[automl,notebooks])\n",
      "  Downloading https://files.pythonhosted.org/packages/e6/c9/cdeeeabc550848e2a07caa66cba28aa057d23b6feaa824ceafd32c3f2226/azure_cli_command_modules_nspkg-2.0.2-py2.py3-none-any.whl\n",
      "Requirement already satisfied, skipping upgrade: isodate>=0.6.0 in /data/anaconda/envs/py35/lib/python3.5/site-packages (from msrest>=0.5.1->azureml-core==0.1.74.*->azureml-sdk[automl,notebooks]) (0.6.0)\n",
      "Requirement already satisfied, skipping upgrade: requests-oauthlib>=0.5.0 in /data/anaconda/envs/py35/lib/python3.5/site-packages (from msrest>=0.5.1->azureml-core==0.1.74.*->azureml-sdk[automl,notebooks]) (1.0.0)\n",
      "Requirement already satisfied, skipping upgrade: certifi>=2017.4.17 in /data/anaconda/envs/py35/lib/python3.5/site-packages (from msrest>=0.5.1->azureml-core==0.1.74.*->azureml-sdk[automl,notebooks]) (2018.8.24)\n",
      "Collecting backports.weakref (from backports.tempfile->azureml-core==0.1.74.*->azureml-sdk[automl,notebooks])\n",
      "  Downloading https://files.pythonhosted.org/packages/88/ec/f598b633c3d5ffe267aaada57d961c94fdfa183c5c3ebda2b6d151943db6/backports.weakref-1.0.post1-py2.py3-none-any.whl\n",
      "Collecting antlr4-python3-runtime; python_version >= \"3.0\" (from azure-cli-core>=2.0.38->azureml-core==0.1.74.*->azureml-sdk[automl,notebooks])\n",
      "  Downloading https://files.pythonhosted.org/packages/3e/96/aba01b2948ec67f237cd387c022820835ae0d8db5cab4bd404b351660b5e/antlr4-python3-runtime-4.7.1.tar.gz (111kB)\n",
      "Collecting knack==0.4.5 (from azure-cli-core>=2.0.38->azureml-core==0.1.74.*->azureml-sdk[automl,notebooks])\n",
      "  Downloading https://files.pythonhosted.org/packages/02/89/1ea05831b95d6bdc8880acdd0304a915156eb5f94aeab0fd36649a940c45/knack-0.4.5-py2.py3-none-any.whl (49kB)\n",
      "Collecting paramiko>=2.0.8 (from azure-cli-core>=2.0.38->azureml-core==0.1.74.*->azureml-sdk[automl,notebooks])\n",
      "  Downloading https://files.pythonhosted.org/packages/cf/ae/94e70d49044ccc234bfdba20114fa947d7ba6eb68a2e452d89b920e62227/paramiko-2.4.2-py2.py3-none-any.whl (193kB)\n",
      "Collecting azure-cli-nspkg>=2.0.0 (from azure-cli-core>=2.0.38->azureml-core==0.1.74.*->azureml-sdk[automl,notebooks])\n",
      "  Downloading https://files.pythonhosted.org/packages/a7/85/601ef6484bf7a722daa76a4383c4ccfd4980b74ed6c2895392f53ed210d5/azure_cli_nspkg-3.0.3-py2.py3-none-any.whl\n",
      "Requirement already satisfied, skipping upgrade: colorama>=0.3.9 in /data/anaconda/envs/py35/lib/python3.5/site-packages (from azure-cli-core>=2.0.38->azureml-core==0.1.74.*->azureml-sdk[automl,notebooks]) (0.3.9)\n",
      "Collecting pyyaml~=3.13 (from azure-cli-core>=2.0.38->azureml-core==0.1.74.*->azureml-sdk[automl,notebooks])\n",
      "  Downloading https://files.pythonhosted.org/packages/9e/a3/1d13970c3f36777c583f136c136f804d70f500168edc1edea6daa7200769/PyYAML-3.13.tar.gz (270kB)\n",
      "Collecting argcomplete>=1.8.0 (from azure-cli-core>=2.0.38->azureml-core==0.1.74.*->azureml-sdk[automl,notebooks])\n",
      "  Downloading https://files.pythonhosted.org/packages/31/88/ba8d8684a8a27749250c66ff7c2b408fdbc29b50da61200338ff9b2607bf/argcomplete-1.9.4-py2.py3-none-any.whl\n",
      "Requirement already satisfied, skipping upgrade: pyopenssl>=17.1.0 in /data/anaconda/envs/py35/lib/python3.5/site-packages (from azure-cli-core>=2.0.38->azureml-core==0.1.74.*->azureml-sdk[automl,notebooks]) (18.0.0)\n",
      "Requirement already satisfied, skipping upgrade: pip in /data/anaconda/envs/py35/lib/python3.5/site-packages (from azure-cli-core>=2.0.38->azureml-core==0.1.74.*->azureml-sdk[automl,notebooks]) (18.1)\n",
      "Requirement already satisfied, skipping upgrade: jmespath in /data/anaconda/envs/py35/lib/python3.5/site-packages (from azure-cli-core>=2.0.38->azureml-core==0.1.74.*->azureml-sdk[automl,notebooks]) (0.9.3)\n",
      "Requirement already satisfied, skipping upgrade: pygments in /data/anaconda/envs/py35/lib/python3.5/site-packages (from azure-cli-core>=2.0.38->azureml-core==0.1.74.*->azureml-sdk[automl,notebooks]) (2.2.0)\n",
      "Collecting humanfriendly>=4.7 (from azure-cli-core>=2.0.38->azureml-core==0.1.74.*->azureml-sdk[automl,notebooks])\n",
      "  Downloading https://files.pythonhosted.org/packages/79/1e/13d96248e3fcaa7777b61fa889feab44865c85e524bbd667acfa0d8b66e3/humanfriendly-4.17-py2.py3-none-any.whl (72kB)\n",
      "Collecting azure-cli-telemetry (from azure-cli-core>=2.0.38->azureml-core==0.1.74.*->azureml-sdk[automl,notebooks])\n",
      "  Downloading https://files.pythonhosted.org/packages/71/4c/da5ebe9300ecdc850031372f81229383c46a70e83dee8e77f58aa6fd0546/azure_cli_telemetry-1.0.0-py2.py3-none-any.whl\n",
      "Requirement already satisfied, skipping upgrade: tabulate<=0.8.2,>=0.7.7 in /data/anaconda/envs/py35/lib/python3.5/site-packages (from azure-cli-core>=2.0.38->azureml-core==0.1.74.*->azureml-sdk[automl,notebooks]) (0.8.2)\n",
      "Collecting websocket-client>=0.32.0 (from docker->azureml-core==0.1.74.*->azureml-sdk[automl,notebooks])\n",
      "  Downloading https://files.pythonhosted.org/packages/26/2d/f749a5c82f6192d77ed061a38e02001afcba55fe8477336d26a950ab17ce/websocket_client-0.54.0-py2.py3-none-any.whl (200kB)\n",
      "Collecting docker-pycreds>=0.3.0 (from docker->azureml-core==0.1.74.*->azureml-sdk[automl,notebooks])\n",
      "  Downloading https://files.pythonhosted.org/packages/ea/bf/7e70aeebc40407fbdb96fa9f79fc8e4722ea889a99378303e3bcc73f4ab5/docker_pycreds-0.3.0-py2.py3-none-any.whl\n",
      "Requirement already satisfied, skipping upgrade: idna<2.8,>=2.5 in /data/anaconda/envs/py35/lib/python3.5/site-packages (from requests>=2.19.1->azureml-core==0.1.74.*->azureml-sdk[automl,notebooks]) (2.6)\n",
      "Requirement already satisfied, skipping upgrade: chardet<3.1.0,>=3.0.2 in /data/anaconda/envs/py35/lib/python3.5/site-packages (from requests>=2.19.1->azureml-core==0.1.74.*->azureml-sdk[automl,notebooks]) (3.0.4)\n",
      "Requirement already satisfied, skipping upgrade: asn1crypto>=0.21.0 in /data/anaconda/envs/py35/lib/python3.5/site-packages (from cryptography!=1.9,!=2.0.*,!=2.1.*,!=2.2.*->azureml-core==0.1.74.*->azureml-sdk[automl,notebooks]) (0.24.0)\n",
      "Requirement already satisfied, skipping upgrade: cffi!=1.11.3,>=1.7 in /data/anaconda/envs/py35/lib/python3.5/site-packages (from cryptography!=1.9,!=2.0.*,!=2.1.*,!=2.2.*->azureml-core==0.1.74.*->azureml-sdk[automl,notebooks]) (1.11.5)\n",
      "Collecting pyasn1>=0.1.1 (from ndg-httpsclient->azureml-core==0.1.74.*->azureml-sdk[automl,notebooks])\n",
      "  Downloading https://files.pythonhosted.org/packages/d1/a1/7790cc85db38daa874f6a2e6308131b9953feb1367f2ae2d1123bb93a9f5/pyasn1-0.4.4-py2.py3-none-any.whl (72kB)\n",
      "Collecting azureml-train-restclients-hyperdrive==0.1.74.* (from azureml-train-core==0.1.74.*->azureml-train==0.1.74.*->azureml-sdk[automl,notebooks])\n",
      "  Downloading https://files.pythonhosted.org/packages/07/fe/64e7590f4528f61469700559e72936e4c7f3ccb2dbbc8327ff9ab154ede0/azureml_train_restclients_hyperdrive-0.1.74-py3-none-any.whl\n",
      "Collecting JsonForm>=0.0.2 (from resource>=0.1.8->azureml-train-automl==0.1.74.*; extra == \"automl\"->azureml-sdk[automl,notebooks])\n",
      "  Downloading https://files.pythonhosted.org/packages/4f/b7/b9491ba4b709d0616fab15a89f8efe4d3a7924652e1fdd4f15303e9ecdf0/JsonForm-0.0.2.tar.gz\n",
      "Collecting python-easyconfig>=0.1.0 (from resource>=0.1.8->azureml-train-automl==0.1.74.*; extra == \"automl\"->azureml-sdk[automl,notebooks])\n",
      "  Downloading https://files.pythonhosted.org/packages/b1/86/1138081cca360a02066eedaf301d0f358c35e0e0d67572acf9d6354edca9/Python_EasyConfig-0.1.7-py2.py3-none-any.whl\n",
      "Collecting JsonSir>=0.0.2 (from resource>=0.1.8->azureml-train-automl==0.1.74.*; extra == \"automl\"->azureml-sdk[automl,notebooks])\n",
      "  Downloading https://files.pythonhosted.org/packages/aa/bf/5c00c1dafaa3ca2c32e7641d9c2c6f9d6d76e127bde00eb600333a60c5bc/JsonSir-0.0.2.tar.gz\n",
      "Requirement already satisfied, skipping upgrade: protobuf>=3.6.0 in /data/anaconda/envs/py35/lib/python3.5/site-packages (from tensorflow==1.10.0->azureml-train-automl==0.1.74.*; extra == \"automl\"->azureml-sdk[automl,notebooks]) (3.6.1)\n",
      "Requirement already satisfied, skipping upgrade: setuptools<=39.1.0 in /data/anaconda/envs/py35/lib/python3.5/site-packages (from tensorflow==1.10.0->azureml-train-automl==0.1.74.*; extra == \"automl\"->azureml-sdk[automl,notebooks]) (39.1.0)\n",
      "Requirement already satisfied, skipping upgrade: termcolor>=1.1.0 in /data/anaconda/envs/py35/lib/python3.5/site-packages (from tensorflow==1.10.0->azureml-train-automl==0.1.74.*; extra == \"automl\"->azureml-sdk[automl,notebooks]) (1.1.0)\n",
      "Requirement already satisfied, skipping upgrade: grpcio>=1.8.6 in /data/anaconda/envs/py35/lib/python3.5/site-packages (from tensorflow==1.10.0->azureml-train-automl==0.1.74.*; extra == \"automl\"->azureml-sdk[automl,notebooks]) (1.15.0)\n",
      "Requirement already satisfied, skipping upgrade: absl-py>=0.1.6 in /data/anaconda/envs/py35/lib/python3.5/site-packages (from tensorflow==1.10.0->azureml-train-automl==0.1.74.*; extra == \"automl\"->azureml-sdk[automl,notebooks]) (0.5.0)\n",
      "Requirement already satisfied, skipping upgrade: gast>=0.2.0 in /data/anaconda/envs/py35/lib/python3.5/site-packages (from tensorflow==1.10.0->azureml-train-automl==0.1.74.*; extra == \"automl\"->azureml-sdk[automl,notebooks]) (0.2.0)\n",
      "Requirement already satisfied, skipping upgrade: tensorboard<1.11.0,>=1.10.0 in /data/anaconda/envs/py35/lib/python3.5/site-packages (from tensorflow==1.10.0->azureml-train-automl==0.1.74.*; extra == \"automl\"->azureml-sdk[automl,notebooks]) (1.10.0)\n",
      "Requirement already satisfied, skipping upgrade: astor>=0.6.0 in /data/anaconda/envs/py35/lib/python3.5/site-packages (from tensorflow==1.10.0->azureml-train-automl==0.1.74.*; extra == \"automl\"->azureml-sdk[automl,notebooks]) (0.7.1)\n",
      "Requirement already satisfied, skipping upgrade: applicationinsights in /data/anaconda/envs/py35/lib/python3.5/site-packages (from azureml-telemetry==0.1.74.*->azureml-train-automl==0.1.74.*; extra == \"automl\"->azureml-sdk[automl,notebooks]) (0.11.6)\n",
      "Collecting azureml-dataprep-native<11.0.0,>=10.4.0 (from azureml-dataprep<0.4.0,~=0.3rc->azureml-train-automl==0.1.74.*; extra == \"automl\"->azureml-sdk[automl,notebooks])\n",
      "  Downloading https://files.pythonhosted.org/packages/12/1c/8c7f8347dd68ad82bb7bfed6e2e4c49307d170305a22daa9b669ba98e5c3/azureml_dataprep_native-10.4.0-cp35-cp35m-manylinux1_x86_64.whl (1.3MB)\n",
      "Collecting dotnetcore2==2.1.0 (from azureml-dataprep<0.4.0,~=0.3rc->azureml-train-automl==0.1.74.*; extra == \"automl\"->azureml-sdk[automl,notebooks])\n",
      "  Downloading https://files.pythonhosted.org/packages/21/2f/eb05a02b10d21966959c32def6ac43cfd0f5f8f6f7441b2a1b6b1ce530db/dotnetcore2-2.1.0-py3-none-manylinux1_x86_64.whl (28.7MB)\n",
      "Requirement already satisfied, skipping upgrade: ipykernel>=4.5.1 in /data/anaconda/envs/py35/lib/python3.5/site-packages (from ipywidgets>=7.0.0->azureml-train-widgets==0.1.74.*; extra == \"notebooks\"->azureml-sdk[automl,notebooks]) (4.8.2)\n",
      "Requirement already satisfied, skipping upgrade: traitlets>=4.3.1 in /data/anaconda/envs/py35/lib/python3.5/site-packages (from ipywidgets>=7.0.0->azureml-train-widgets==0.1.74.*; extra == \"notebooks\"->azureml-sdk[automl,notebooks]) (4.3.2)\n",
      "Requirement already satisfied, skipping upgrade: nbformat>=4.2.0 in /data/anaconda/envs/py35/lib/python3.5/site-packages (from ipywidgets>=7.0.0->azureml-train-widgets==0.1.74.*; extra == \"notebooks\"->azureml-sdk[automl,notebooks]) (4.4.0)\n",
      "Requirement already satisfied, skipping upgrade: widgetsnbextension~=3.2.0 in /data/anaconda/envs/py35/lib/python3.5/site-packages (from ipywidgets>=7.0.0->azureml-train-widgets==0.1.74.*; extra == \"notebooks\"->azureml-sdk[automl,notebooks]) (3.2.1)\n",
      "Requirement already satisfied, skipping upgrade: ipython>=4.0.0 in /data/anaconda/envs/py35/lib/python3.5/site-packages (from ipywidgets>=7.0.0->azureml-train-widgets==0.1.74.*; extra == \"notebooks\"->azureml-sdk[automl,notebooks]) (6.4.0)\n",
      "Requirement already satisfied, skipping upgrade: oauthlib>=0.6.2 in /data/anaconda/envs/py35/lib/python3.5/site-packages (from requests-oauthlib>=0.5.0->msrest>=0.5.1->azureml-core==0.1.74.*->azureml-sdk[automl,notebooks]) (2.1.0)\n",
      "Collecting bcrypt>=3.1.3 (from paramiko>=2.0.8->azure-cli-core>=2.0.38->azureml-core==0.1.74.*->azureml-sdk[automl,notebooks])\n",
      "  Downloading https://files.pythonhosted.org/packages/72/8d/57da727cbb4ddf0295b0665a93bd8f46fbbd2a48b76cbb0896ca7d27301f/bcrypt-3.1.4-cp35-cp35m-manylinux1_x86_64.whl (54kB)\n",
      "Collecting pynacl>=1.0.1 (from paramiko>=2.0.8->azure-cli-core>=2.0.38->azureml-core==0.1.74.*->azureml-sdk[automl,notebooks])\n",
      "  Downloading https://files.pythonhosted.org/packages/27/15/2cd0a203f318c2240b42cd9dd13c931ddd61067809fee3479f44f086103e/PyNaCl-1.3.0-cp34-abi3-manylinux1_x86_64.whl (759kB)\n",
      "Collecting portalocker==1.2.1 (from azure-cli-telemetry->azure-cli-core>=2.0.38->azureml-core==0.1.74.*->azureml-sdk[automl,notebooks])\n",
      "  Downloading https://files.pythonhosted.org/packages/57/41/05e79e5516db1cc0c967b3202388cde729f871c871b0a07bf24ff11adfcf/portalocker-1.2.1-py2.py3-none-any.whl\n",
      "Requirement already satisfied, skipping upgrade: pycparser in /data/anaconda/envs/py35/lib/python3.5/site-packages (from cffi!=1.11.3,>=1.7->cryptography!=1.9,!=2.0.*,!=2.1.*,!=2.2.*->azureml-core==0.1.74.*->azureml-sdk[automl,notebooks]) (2.18)\n",
      "Requirement already satisfied, skipping upgrade: jsonschema in /data/anaconda/envs/py35/lib/python3.5/site-packages (from JsonForm>=0.0.2->resource>=0.1.8->azureml-train-automl==0.1.74.*; extra == \"automl\"->azureml-sdk[automl,notebooks]) (2.6.0)\n",
      "Requirement already satisfied, skipping upgrade: werkzeug>=0.11.10 in /data/anaconda/envs/py35/lib/python3.5/site-packages (from tensorboard<1.11.0,>=1.10.0->tensorflow==1.10.0->azureml-train-automl==0.1.74.*; extra == \"automl\"->azureml-sdk[automl,notebooks]) (0.14.1)\n",
      "Requirement already satisfied, skipping upgrade: markdown>=2.6.8 in /data/anaconda/envs/py35/lib/python3.5/site-packages (from tensorboard<1.11.0,>=1.10.0->tensorflow==1.10.0->azureml-train-automl==0.1.74.*; extra == \"automl\"->azureml-sdk[automl,notebooks]) (2.6.11)\n",
      "Collecting distro==1.2.0 (from dotnetcore2==2.1.0->azureml-dataprep<0.4.0,~=0.3rc->azureml-train-automl==0.1.74.*; extra == \"automl\"->azureml-sdk[automl,notebooks])\n",
      "  Downloading https://files.pythonhosted.org/packages/c1/e4/933159b5f7f9f5b7ae463e76f58da84a30d0943ab3c162c366a9ad95f01e/distro-1.2.0-py2.py3-none-any.whl\n",
      "Requirement already satisfied, skipping upgrade: jupyter_client in /data/anaconda/envs/py35/lib/python3.5/site-packages (from ipykernel>=4.5.1->ipywidgets>=7.0.0->azureml-train-widgets==0.1.74.*; extra == \"notebooks\"->azureml-sdk[automl,notebooks]) (5.2.3)\n",
      "Requirement already satisfied, skipping upgrade: tornado>=4.0 in /data/anaconda/envs/py35/lib/python3.5/site-packages (from ipykernel>=4.5.1->ipywidgets>=7.0.0->azureml-train-widgets==0.1.74.*; extra == \"notebooks\"->azureml-sdk[automl,notebooks]) (5.0.2)\n",
      "Requirement already satisfied, skipping upgrade: ipython_genutils in /data/anaconda/envs/py35/lib/python3.5/site-packages (from traitlets>=4.3.1->ipywidgets>=7.0.0->azureml-train-widgets==0.1.74.*; extra == \"notebooks\"->azureml-sdk[automl,notebooks]) (0.2.0)\n",
      "Requirement already satisfied, skipping upgrade: decorator in /data/anaconda/envs/py35/lib/python3.5/site-packages (from traitlets>=4.3.1->ipywidgets>=7.0.0->azureml-train-widgets==0.1.74.*; extra == \"notebooks\"->azureml-sdk[automl,notebooks]) (4.3.0)\n",
      "Requirement already satisfied, skipping upgrade: jupyter_core in /data/anaconda/envs/py35/lib/python3.5/site-packages (from nbformat>=4.2.0->ipywidgets>=7.0.0->azureml-train-widgets==0.1.74.*; extra == \"notebooks\"->azureml-sdk[automl,notebooks]) (4.4.0)\n",
      "Requirement already satisfied, skipping upgrade: notebook>=4.4.1 in /data/anaconda/envs/py35/lib/python3.5/site-packages (from widgetsnbextension~=3.2.0->ipywidgets>=7.0.0->azureml-train-widgets==0.1.74.*; extra == \"notebooks\"->azureml-sdk[automl,notebooks]) (5.5.0)\n",
      "Requirement already satisfied, skipping upgrade: jedi>=0.10 in /data/anaconda/envs/py35/lib/python3.5/site-packages (from ipython>=4.0.0->ipywidgets>=7.0.0->azureml-train-widgets==0.1.74.*; extra == \"notebooks\"->azureml-sdk[automl,notebooks]) (0.12.0)\n",
      "Requirement already satisfied, skipping upgrade: pickleshare in /data/anaconda/envs/py35/lib/python3.5/site-packages (from ipython>=4.0.0->ipywidgets>=7.0.0->azureml-train-widgets==0.1.74.*; extra == \"notebooks\"->azureml-sdk[automl,notebooks]) (0.7.4)\n",
      "Requirement already satisfied, skipping upgrade: simplegeneric>0.8 in /data/anaconda/envs/py35/lib/python3.5/site-packages (from ipython>=4.0.0->ipywidgets>=7.0.0->azureml-train-widgets==0.1.74.*; extra == \"notebooks\"->azureml-sdk[automl,notebooks]) (0.8.1)\n",
      "Requirement already satisfied, skipping upgrade: pexpect; sys_platform != \"win32\" in /data/anaconda/envs/py35/lib/python3.5/site-packages (from ipython>=4.0.0->ipywidgets>=7.0.0->azureml-train-widgets==0.1.74.*; extra == \"notebooks\"->azureml-sdk[automl,notebooks]) (4.5.0)\n",
      "Requirement already satisfied, skipping upgrade: prompt-toolkit<2.0.0,>=1.0.15 in /data/anaconda/envs/py35/lib/python3.5/site-packages (from ipython>=4.0.0->ipywidgets>=7.0.0->azureml-train-widgets==0.1.74.*; extra == \"notebooks\"->azureml-sdk[automl,notebooks]) (1.0.15)\n",
      "Requirement already satisfied, skipping upgrade: backcall in /data/anaconda/envs/py35/lib/python3.5/site-packages (from ipython>=4.0.0->ipywidgets>=7.0.0->azureml-train-widgets==0.1.74.*; extra == \"notebooks\"->azureml-sdk[automl,notebooks]) (0.1.0)\n",
      "Requirement already satisfied, skipping upgrade: pyzmq>=13 in /data/anaconda/envs/py35/lib/python3.5/site-packages (from jupyter_client->ipykernel>=4.5.1->ipywidgets>=7.0.0->azureml-train-widgets==0.1.74.*; extra == \"notebooks\"->azureml-sdk[automl,notebooks]) (17.0.0)\n",
      "Requirement already satisfied, skipping upgrade: Send2Trash in /data/anaconda/envs/py35/lib/python3.5/site-packages (from notebook>=4.4.1->widgetsnbextension~=3.2.0->ipywidgets>=7.0.0->azureml-train-widgets==0.1.74.*; extra == \"notebooks\"->azureml-sdk[automl,notebooks]) (1.5.0)\n",
      "Requirement already satisfied, skipping upgrade: nbconvert in /data/anaconda/envs/py35/lib/python3.5/site-packages (from notebook>=4.4.1->widgetsnbextension~=3.2.0->ipywidgets>=7.0.0->azureml-train-widgets==0.1.74.*; extra == \"notebooks\"->azureml-sdk[automl,notebooks]) (5.3.1)\n",
      "Requirement already satisfied, skipping upgrade: terminado>=0.8.1 in /data/anaconda/envs/py35/lib/python3.5/site-packages (from notebook>=4.4.1->widgetsnbextension~=3.2.0->ipywidgets>=7.0.0->azureml-train-widgets==0.1.74.*; extra == \"notebooks\"->azureml-sdk[automl,notebooks]) (0.8.1)\n",
      "Requirement already satisfied, skipping upgrade: jinja2 in /data/anaconda/envs/py35/lib/python3.5/site-packages (from notebook>=4.4.1->widgetsnbextension~=3.2.0->ipywidgets>=7.0.0->azureml-train-widgets==0.1.74.*; extra == \"notebooks\"->azureml-sdk[automl,notebooks]) (2.10)\n",
      "Requirement already satisfied, skipping upgrade: parso>=0.2.0 in /data/anaconda/envs/py35/lib/python3.5/site-packages (from jedi>=0.10->ipython>=4.0.0->ipywidgets>=7.0.0->azureml-train-widgets==0.1.74.*; extra == \"notebooks\"->azureml-sdk[automl,notebooks]) (0.2.0)\n",
      "Requirement already satisfied, skipping upgrade: ptyprocess>=0.5 in /data/anaconda/envs/py35/lib/python3.5/site-packages (from pexpect; sys_platform != \"win32\"->ipython>=4.0.0->ipywidgets>=7.0.0->azureml-train-widgets==0.1.74.*; extra == \"notebooks\"->azureml-sdk[automl,notebooks]) (0.5.2)\n",
      "Requirement already satisfied, skipping upgrade: wcwidth in /data/anaconda/envs/py35/lib/python3.5/site-packages (from prompt-toolkit<2.0.0,>=1.0.15->ipython>=4.0.0->ipywidgets>=7.0.0->azureml-train-widgets==0.1.74.*; extra == \"notebooks\"->azureml-sdk[automl,notebooks]) (0.1.7)\n",
      "Requirement already satisfied, skipping upgrade: mistune>=0.7.4 in /data/anaconda/envs/py35/lib/python3.5/site-packages (from nbconvert->notebook>=4.4.1->widgetsnbextension~=3.2.0->ipywidgets>=7.0.0->azureml-train-widgets==0.1.74.*; extra == \"notebooks\"->azureml-sdk[automl,notebooks]) (0.8.3)\n",
      "Requirement already satisfied, skipping upgrade: entrypoints>=0.2.2 in /data/anaconda/envs/py35/lib/python3.5/site-packages (from nbconvert->notebook>=4.4.1->widgetsnbextension~=3.2.0->ipywidgets>=7.0.0->azureml-train-widgets==0.1.74.*; extra == \"notebooks\"->azureml-sdk[automl,notebooks]) (0.2.3)\n",
      "Requirement already satisfied, skipping upgrade: bleach in /data/anaconda/envs/py35/lib/python3.5/site-packages (from nbconvert->notebook>=4.4.1->widgetsnbextension~=3.2.0->ipywidgets>=7.0.0->azureml-train-widgets==0.1.74.*; extra == \"notebooks\"->azureml-sdk[automl,notebooks]) (2.1.3)\n",
      "Requirement already satisfied, skipping upgrade: pandocfilters>=1.4.1 in /data/anaconda/envs/py35/lib/python3.5/site-packages (from nbconvert->notebook>=4.4.1->widgetsnbextension~=3.2.0->ipywidgets>=7.0.0->azureml-train-widgets==0.1.74.*; extra == \"notebooks\"->azureml-sdk[automl,notebooks]) (1.4.2)\n",
      "Requirement already satisfied, skipping upgrade: testpath in /data/anaconda/envs/py35/lib/python3.5/site-packages (from nbconvert->notebook>=4.4.1->widgetsnbextension~=3.2.0->ipywidgets>=7.0.0->azureml-train-widgets==0.1.74.*; extra == \"notebooks\"->azureml-sdk[automl,notebooks]) (0.3.1)\n",
      "Requirement already satisfied, skipping upgrade: MarkupSafe>=0.23 in /data/anaconda/envs/py35/lib/python3.5/site-packages (from jinja2->notebook>=4.4.1->widgetsnbextension~=3.2.0->ipywidgets>=7.0.0->azureml-train-widgets==0.1.74.*; extra == \"notebooks\"->azureml-sdk[automl,notebooks]) (1.0)\n",
      "Requirement already satisfied, skipping upgrade: html5lib!=1.0b1,!=1.0b2,!=1.0b3,!=1.0b4,!=1.0b5,!=1.0b6,!=1.0b7,!=1.0b8,>=0.99999999pre in /data/anaconda/envs/py35/lib/python3.5/site-packages (from bleach->nbconvert->notebook>=4.4.1->widgetsnbextension~=3.2.0->ipywidgets>=7.0.0->azureml-train-widgets==0.1.74.*; extra == \"notebooks\"->azureml-sdk[automl,notebooks]) (1.0.1)\n",
      "Requirement already satisfied, skipping upgrade: webencodings in /data/anaconda/envs/py35/lib/python3.5/site-packages (from html5lib!=1.0b1,!=1.0b2,!=1.0b3,!=1.0b4,!=1.0b5,!=1.0b6,!=1.0b7,!=1.0b8,>=0.99999999pre->bleach->nbconvert->notebook>=4.4.1->widgetsnbextension~=3.2.0->ipywidgets>=7.0.0->azureml-train-widgets==0.1.74.*; extra == \"notebooks\"->azureml-sdk[automl,notebooks]) (0.5.1)\n",
      "Building wheels for collected packages: SecretStorage, pathspec, antlr4-python3-runtime, pyyaml, JsonForm, JsonSir\n",
      "  Running setup.py bdist_wheel for SecretStorage: started\n",
      "  Running setup.py bdist_wheel for SecretStorage: finished with status 'done'\n",
      "  Stored in directory: /home/dsvmuser/.cache/pip/wheels/4e/5b/1b/be8c8a830a0243af85b2946a0aece2c6743d7f7f946977ed67\n",
      "  Running setup.py bdist_wheel for pathspec: started\n",
      "  Running setup.py bdist_wheel for pathspec: finished with status 'done'\n",
      "  Stored in directory: /home/dsvmuser/.cache/pip/wheels/45/cb/7e/ce6e6062c69446e39e328170524ca8213498bc66a74c6a210b\n",
      "  Running setup.py bdist_wheel for antlr4-python3-runtime: started\n",
      "  Running setup.py bdist_wheel for antlr4-python3-runtime: finished with status 'done'\n",
      "  Stored in directory: /home/dsvmuser/.cache/pip/wheels/ef/f6/18/ad300e691236a3408a99edc750484b56e8d6b11b2c38eacb10\n",
      "  Running setup.py bdist_wheel for pyyaml: started\n",
      "  Running setup.py bdist_wheel for pyyaml: finished with status 'done'\n",
      "  Stored in directory: /home/dsvmuser/.cache/pip/wheels/ad/da/0c/74eb680767247273e2cf2723482cb9c924fe70af57c334513f\n",
      "  Running setup.py bdist_wheel for JsonForm: started\n",
      "  Running setup.py bdist_wheel for JsonForm: finished with status 'done'\n",
      "  Stored in directory: /home/dsvmuser/.cache/pip/wheels/e8/74/51/42c2d41c02bdc6f0e604476b7e4293b8c98d0bcbfa1dff78c8\n",
      "  Running setup.py bdist_wheel for JsonSir: started\n",
      "  Running setup.py bdist_wheel for JsonSir: finished with status 'done'\n",
      "  Stored in directory: /home/dsvmuser/.cache/pip/wheels/ee/30/5c/3a3b5e1386c8db9a3be5f5c3933644ae0533c1351c6a8eb4b5\n",
      "Successfully built SecretStorage pathspec antlr4-python3-runtime pyyaml JsonForm JsonSir\n",
      "Installing collected packages: ruamel.yaml, azure-cli-nspkg, azure-cli-command-modules-nspkg, antlr4-python3-runtime, pyyaml, argcomplete, knack, bcrypt, pyasn1, pynacl, paramiko, wheel, humanfriendly, urllib3, requests, portalocker, azure-cli-telemetry, azure-cli-core, azure-cli-profile, jsonpickle, SecretStorage, backports.weakref, backports.tempfile, websocket-client, docker-pycreds, docker, pathspec, ndg-httpsclient, azureml-core, azureml-pipeline-core, azureml-telemetry, azureml-train-restclients-hyperdrive, azureml-train-core, azureml-pipeline-steps, azureml-pipeline, azureml-train, JsonForm, python-easyconfig, JsonSir, resource, sklearn-pandas, tensorflow, azureml-dataprep-native, distro, dotnetcore2, azureml-dataprep, azureml-train-automl, azureml-train-widgets, azureml-sdk\n",
      "  Found existing installation: ruamel.yaml 0.15.66\n",
      "    Uninstalling ruamel.yaml-0.15.66:\n",
      "      Successfully uninstalled ruamel.yaml-0.15.66\n",
      "  Found existing installation: PyYAML 3.12\n"
     ]
    },
    {
     "name": "stderr",
     "output_type": "stream",
     "text": [
      "mxnet-model-server 0.4 requires mxnet-mkl>=1.2, which is not installed.\n",
      "mxnet-model-server 0.4 has requirement onnx==1.1.1, but you'll have onnx 1.2.3 which is incompatible.\n",
      "mxnet 1.3.0 has requirement requests<2.19.0,>=2.18.4, but you'll have requests 2.20.1 which is incompatible.\n",
      "azure-cli-core 2.0.50 has requirement adal>=1.2.0, but you'll have adal 1.1.0 which is incompatible.\n",
      "autovizwidget 0.12.5 has requirement plotly<3.0,>=1.10.0, but you'll have plotly 3.2.1 which is incompatible.\n",
      "blobxfer 1.5.0 has requirement requests==2.19.1, but you'll have requests 2.20.1 which is incompatible.\n",
      "blobxfer 1.5.0 has requirement ruamel.yaml==0.15.66, but you'll have ruamel-yaml 0.15.51 which is incompatible.\n",
      "Cannot uninstall 'PyYAML'. It is a distutils installed project and thus we cannot accurately determine which files belong to it which would lead to only a partial uninstall.\n"
     ]
    }
   ],
   "source": [
    "%%bash\n",
    "\n",
    "pip install --upgrade pip\n",
    "pip install --upgrade azureml-sdk[automl,notebooks] # I had to run it twice before it worked"
   ]
  },
  {
   "cell_type": "markdown",
   "metadata": {},
   "source": [
    "# Creating an AML Workspace\n",
    "\n",
    "In this example we create an Azure Machine Learning Workspace and initialize the notebook directory to easily use this workspace.  Typically we only need to run this once per notebook directory, and all other notebooks in this directory or any sub-directories will automatically use the settings indicate here.\n",
    "\n",
    "\n",
    "## Prerequisites:\n",
    "\n",
    "Before running this notebook, we run the `automl_setup` script described in README.md.\n"
   ]
  },
  {
   "cell_type": "markdown",
   "metadata": {},
   "source": [
    "### Connect to your Azure Subscription\n",
    "\n",
    "In order to use an AML Workspace, we first need access to an Azure subscription.\n",
    "\n",
    "We first login to azure and follow prompts to authenticate. Once we authenticate from the browser, we should see a list of subscriptions you have access to."
   ]
  },
  {
   "cell_type": "code",
   "execution_count": 7,
   "metadata": {},
   "outputs": [
    {
     "name": "stdout",
     "output_type": "stream",
     "text": [
      "\u001b[33mTo sign in, use a web browser to open the page https://microsoft.com/devicelogin and enter the code F3DCR8GB8 to authenticate.\u001b[0m\n",
      "[\n",
      "  {\n",
      "    \"cloudName\": \"AzureCloud\",\n",
      "    \"id\": \"507d3cfb-2fe3-47d6-8366-5e5cfed2dc8e\",\n",
      "    \"isDefault\": true,\n",
      "    \"name\": \"MS Partner Labs A-03\",\n",
      "    \"state\": \"Enabled\",\n",
      "    \"tenantId\": \"03363749-29d6-4915-933a-8a647804605d\",\n",
      "    \"user\": {\n",
      "      \"name\": \"odl_user_40451@mspartnerlabs.onmicrosoft.com\",\n",
      "      \"type\": \"user\"\n",
      "    }\n",
      "  }\n",
      "]\n"
     ]
    }
   ],
   "source": [
    "!az login"
   ]
  },
  {
   "cell_type": "markdown",
   "metadata": {},
   "source": [
    "We can also list all our available subscriptions, using `-o table` to show results in a clean tabulated format."
   ]
  },
  {
   "cell_type": "code",
   "execution_count": 8,
   "metadata": {},
   "outputs": [
    {
     "name": "stdout",
     "output_type": "stream",
     "text": [
      "Name                  CloudName    SubscriptionId                        State    IsDefault\r\n",
      "--------------------  -----------  ------------------------------------  -------  -----------\r\n",
      "MS Partner Labs A-03  AzureCloud   507d3cfb-2fe3-47d6-8366-5e5cfed2dc8e  Enabled  True\r\n"
     ]
    }
   ],
   "source": [
    "!az account list -o table"
   ]
  },
  {
   "cell_type": "markdown",
   "metadata": {},
   "source": [
    "We need to check that your subscription is correct (the one where column called `IsDefault` is set to `True`). If not, we need to change the default subscription using `az account set -s <subscription-id>`."
   ]
  },
  {
   "cell_type": "code",
   "execution_count": 10,
   "metadata": {},
   "outputs": [],
   "source": [
    "!az account set -s 507d3cfb-2fe3-47d6-8366-5e5cfed2dc8e"
   ]
  },
  {
   "cell_type": "markdown",
   "metadata": {},
   "source": [
    "Let's now confirm that our subscription changed."
   ]
  },
  {
   "cell_type": "code",
   "execution_count": 11,
   "metadata": {},
   "outputs": [
    {
     "name": "stdout",
     "output_type": "stream",
     "text": [
      "EnvironmentName    IsDefault    Name                  State    TenantId\r\n",
      "-----------------  -----------  --------------------  -------  ------------------------------------\r\n",
      "AzureCloud         True         MS Partner Labs A-03  Enabled  03363749-29d6-4915-933a-8a647804605d\r\n"
     ]
    }
   ],
   "source": [
    "!az account show -o table"
   ]
  },
  {
   "cell_type": "markdown",
   "metadata": {},
   "source": [
    "### Register Machine Learning Services Resource Provider\n",
    "\n",
    "This step is required to use the Azure ML services backing the SDK."
   ]
  },
  {
   "cell_type": "code",
   "execution_count": 12,
   "metadata": {},
   "outputs": [
    {
     "name": "stdout",
     "output_type": "stream",
     "text": [
      "\u001b[31mThe client 'odl_user_40451@mspartnerlabs.onmicrosoft.com' with object id '1182300c-7d66-4687-94e5-ba6be827b750' does not have authorization to perform action 'Microsoft.MachineLearningServices/register/action' over scope '/subscriptions/507d3cfb-2fe3-47d6-8366-5e5cfed2dc8e'.\u001b[0m\r\n"
     ]
    }
   ],
   "source": [
    "# register the new RP\n",
    "!az provider register -n Microsoft.MachineLearningServices -o table"
   ]
  },
  {
   "cell_type": "code",
   "execution_count": 13,
   "metadata": {},
   "outputs": [
    {
     "name": "stdout",
     "output_type": "stream",
     "text": [
      "Namespace                          RegistrationState\r\n",
      "---------------------------------  -------------------\r\n",
      "Microsoft.MachineLearningServices  Registered\r\n"
     ]
    }
   ],
   "source": [
    "# check the registration status\n",
    "!az provider show -n Microsoft.MachineLearningServices -o table"
   ]
  },
  {
   "cell_type": "markdown",
   "metadata": {},
   "source": [
    "### Check core SDK version number for validate your installation and for debugging purposes"
   ]
  },
  {
   "cell_type": "code",
   "execution_count": 14,
   "metadata": {},
   "outputs": [
    {
     "name": "stdout",
     "output_type": "stream",
     "text": [
      "SDK Version: 0.1.59\n"
     ]
    }
   ],
   "source": [
    "import azureml.core\n",
    "\n",
    "print(\"SDK Version:\", azureml.core.VERSION)"
   ]
  },
  {
   "cell_type": "markdown",
   "metadata": {},
   "source": [
    "## Initialize an Azure ML Workspace\n",
    "### What is an Azure ML Workspace and why do I need one?\n",
    "\n",
    "> An AML Workspace is an Azure resource that organaizes and coordinates the actions of many other Azure resources to assist in executing and sharing machine learning workflows.  In particular, an AML Workspace coordinates storage, databases, and compute resources providing added functionality for machine learning experimentation, operationalization, and the monitoring of operationalized models.\n",
    "\n",
    "To create or access an Azure ML Workspace, you will need to import the AML library and specify the following information:\n",
    "- Your subscription id. Use *id* value from *az account show* output above. \n",
    "- The resource group name. Resource group organizes Azure resources and provides default region for the resources in the group. You can either specify a new one, in which case it gets created for your Workspace, or use an existing one or create a new one from [Azure portal](https://portal.azure.com)\n",
    "- A name for your workspace. You can choose one.\n",
    "- Your workspace region.\n",
    "\n",
    "> For workspace region, we prefer you use `eastus2` or `eastus2euap` (only if you have access to EUAP) for most scenarios. Other supported regions include `westcentralus`, `southeastasia`, `westeurope`, `australiaeast`, although their support might lag behind `eastus2` and `eastus2euap`."
   ]
  },
  {
   "cell_type": "markdown",
   "metadata": {},
   "source": [
    "Let's begin by creating a new resource group in a given region. replace `<workspacename>` with the desired name of your workspace."
   ]
  },
  {
   "cell_type": "code",
   "execution_count": 15,
   "metadata": {
    "scrolled": true
   },
   "outputs": [
    {
     "name": "stdout",
     "output_type": "stream",
     "text": [
      "/bin/sh: -c: line 0: syntax error near unexpected token `newline'\r\n",
      "/bin/sh: -c: line 0: ` az group create -n <GROUP_NAME> -l <GROUP_REGION>'\r\n"
     ]
    }
   ],
   "source": [
    "! az group create -n <GROUP_NAME> -l <GROUP_REGION>"
   ]
  },
  {
   "cell_type": "markdown",
   "metadata": {},
   "source": [
    "Let's suppose we have a python script that stores our subscription ID, resource group, workspace name and region. If no such file exists, we can create one by running the below script, which will output to a file called `./aml_config/mycreds.py`"
   ]
  },
  {
   "cell_type": "code",
   "execution_count": 20,
   "metadata": {},
   "outputs": [],
   "source": [
    "!mkdir ./aml_config"
   ]
  },
  {
   "cell_type": "code",
   "execution_count": 21,
   "metadata": {
    "scrolled": true
   },
   "outputs": [
    {
     "name": "stdout",
     "output_type": "stream",
     "text": [
      "Writing ./aml_config/mycreds.py\n"
     ]
    }
   ],
   "source": [
    "\n",
    "%%writefile ./aml_config/mycreds.py\n",
    "subscription_id = '507d3cfb-2fe3-47d6-8366-5e5cfed2dc8e'\n",
    "resource_group ='ODL-ai-detect-anomalies-40451-01'\n",
    "workspace_name = 'amitworkspace'\n",
    "workspace_region = 'South Central US'"
   ]
  },
  {
   "cell_type": "markdown",
   "metadata": {},
   "source": [
    "We can now simply run the above script."
   ]
  },
  {
   "cell_type": "code",
   "execution_count": 22,
   "metadata": {},
   "outputs": [],
   "source": [
    "%run ./aml_config/mycreds.py"
   ]
  },
  {
   "cell_type": "markdown",
   "metadata": {},
   "source": [
    "Alternatively, we could also create environment variables with this information. If no such variables exist, the snippet below will create them."
   ]
  },
  {
   "cell_type": "code",
   "execution_count": 23,
   "metadata": {},
   "outputs": [
    {
     "name": "stdout",
     "output_type": "stream",
     "text": [
      "env: SUBSCRIPTION_ID=507d3cfb-2fe3-47d6-8366-5e5cfed2dc8e\n",
      "env: RESOURCE_GROUP=ODL-ai-detect-anomalies-40451-01\n",
      "env: WORKSPACE_NAME=amitworkspace\n",
      "env: WORKSPACE_REGION=South Central US\n"
     ]
    }
   ],
   "source": [
    "%set_env SUBSCRIPTION_ID=$subscription_id\n",
    "%set_env RESOURCE_GROUP=$resource_group\n",
    "%set_env WORKSPACE_NAME=$workspace_name\n",
    "%set_env WORKSPACE_REGION=$workspace_region"
   ]
  },
  {
   "cell_type": "markdown",
   "metadata": {},
   "source": [
    "Let's make sure the environment variables were created for us."
   ]
  },
  {
   "cell_type": "code",
   "execution_count": 24,
   "metadata": {},
   "outputs": [
    {
     "data": {
      "text/plain": [
       "{'PATH': '/anaconda/envs/py35/bin:/home/dsvmuser/bin:/home/dsvmuser/.local/bin:/anaconda/envs/py35/bin:/usr/local/sbin:/usr/local/bin:/usr/sbin:/usr/bin:/sbin:/bin:/usr/games:/usr/local/games:/snap/bin:/opt/caffe/build/install/bin/:/usr/local/cuda/bin:/dsvm/tools/cntk/cntk/bin:/usr/local/cuda/bin:/dsvm/tools/cntk/cntk/bin:/dsvm/tools/spark/current/bin:/opt/mssql-tools/bin',\n",
       " 'LD_LIBRARY_PATH': '/opt/intel/compilers_and_libraries_2018.1.163/linux/tbb/lib/intel64_lin/gcc4.7:/opt/intel/compilers_and_libraries_2018.1.163/linux/compiler/lib/intel64_lin:/opt/intel/compilers_and_libraries_2018.1.163/linux/mkl/lib/intel64_lin::/usr/local/cuda/lib64:/usr/local/cuda/extras/CUPTI/lib64/:/usr/local/cuda/lib64:/usr/local/cuda/extras/CUPTI/lib64/',\n",
       " 'LOGNAME': 'dsvmuser',\n",
       " 'LIBRARY_PATH': '/opt/intel/compilers_and_libraries_2018.1.163/linux/tbb/lib/intel64_lin/gcc4.7:/opt/intel/compilers_and_libraries_2018.1.163/linux/compiler/lib/intel64_lin:/opt/intel/compilers_and_libraries_2018.1.163/linux/mkl/lib/intel64_lin:/usr/local/cuda/lib64:/usr/local/cuda/extras/CUPTI/lib64/:/usr/local/cuda/lib64:/usr/local/cuda/extras/CUPTI/lib64/:',\n",
       " 'NLSPATH': '/opt/intel/compilers_and_libraries_2018.1.163/linux/mkl/lib/intel64_lin/locale/%l_%t/%N',\n",
       " 'SPARK_HOME': '/dsvm/tools/spark/current',\n",
       " 'CUPIT_LIB_PATH': '/usr/local/cuda/extras/CUPTI/lib64/',\n",
       " 'SSH_CONNECTION': '167.220.2.132 12525 10.0.0.4 22',\n",
       " 'CPATH': '/opt/intel/compilers_and_libraries_2018.1.163/linux/mkl/include:',\n",
       " 'CAFFE_ROOT': '/opt/caffe',\n",
       " 'LANG': 'en_US.UTF-8',\n",
       " 'SSH_TTY': '/dev/pts/0',\n",
       " 'OLDPWD': '/home/dsvmuser/.jupyter',\n",
       " 'AZURE_EXTENSION_DIR': '/opt/az/extensions',\n",
       " 'MAIL': '/var/mail/dsvmuser',\n",
       " 'LS_COLORS': 'rs=0:di=01;34:ln=01;36:mh=00:pi=40;33:so=01;35:do=01;35:bd=40;33;01:cd=40;33;01:or=40;31;01:mi=00:su=37;41:sg=30;43:ca=30;41:tw=30;42:ow=34;42:st=37;44:ex=01;32:*.tar=01;31:*.tgz=01;31:*.arc=01;31:*.arj=01;31:*.taz=01;31:*.lha=01;31:*.lz4=01;31:*.lzh=01;31:*.lzma=01;31:*.tlz=01;31:*.txz=01;31:*.tzo=01;31:*.t7z=01;31:*.zip=01;31:*.z=01;31:*.Z=01;31:*.dz=01;31:*.gz=01;31:*.lrz=01;31:*.lz=01;31:*.lzo=01;31:*.xz=01;31:*.bz2=01;31:*.bz=01;31:*.tbz=01;31:*.tbz2=01;31:*.tz=01;31:*.deb=01;31:*.rpm=01;31:*.jar=01;31:*.war=01;31:*.ear=01;31:*.sar=01;31:*.rar=01;31:*.alz=01;31:*.ace=01;31:*.zoo=01;31:*.cpio=01;31:*.7z=01;31:*.rz=01;31:*.cab=01;31:*.jpg=01;35:*.jpeg=01;35:*.gif=01;35:*.bmp=01;35:*.pbm=01;35:*.pgm=01;35:*.ppm=01;35:*.tga=01;35:*.xbm=01;35:*.xpm=01;35:*.tif=01;35:*.tiff=01;35:*.png=01;35:*.svg=01;35:*.svgz=01;35:*.mng=01;35:*.pcx=01;35:*.mov=01;35:*.mpg=01;35:*.mpeg=01;35:*.m2v=01;35:*.mkv=01;35:*.webm=01;35:*.ogm=01;35:*.mp4=01;35:*.m4v=01;35:*.mp4v=01;35:*.vob=01;35:*.qt=01;35:*.nuv=01;35:*.wmv=01;35:*.asf=01;35:*.rm=01;35:*.rmvb=01;35:*.flc=01;35:*.avi=01;35:*.fli=01;35:*.flv=01;35:*.gl=01;35:*.dl=01;35:*.xcf=01;35:*.xwd=01;35:*.yuv=01;35:*.cgm=01;35:*.emf=01;35:*.ogv=01;35:*.ogx=01;35:*.aac=00;36:*.au=00;36:*.flac=00;36:*.m4a=00;36:*.mid=00;36:*.midi=00;36:*.mka=00;36:*.mp3=00;36:*.mpc=00;36:*.ogg=00;36:*.ra=00;36:*.wav=00;36:*.oga=00;36:*.opus=00;36:*.spx=00;36:*.xspf=00;36:',\n",
       " 'CONDA_DEFAULT_ENV': 'py35',\n",
       " '_': '/anaconda/envs/py35/bin/jupyter',\n",
       " 'CONDA_PREFIX': '/anaconda/envs/py35',\n",
       " 'SCALA_HOME': '/usr/share/scala',\n",
       " 'CONDA_PYTHON_EXE': '/anaconda/bin/python',\n",
       " 'TERM': 'xterm-color',\n",
       " 'NODE_PATH': '/usr/lib/node_modules',\n",
       " 'LESSCLOSE': '/usr/bin/lesspipe %s %s',\n",
       " 'CUDA_ROOT': '/usr/local/cuda',\n",
       " 'PWD': '/home/dsvmuser',\n",
       " 'PKG_CONFIG_PATH': '/opt/intel/compilers_and_libraries_2018.1.163/linux/mkl/bin/pkgconfig:',\n",
       " 'XDG_DATA_DIRS': '/usr/local/share:/usr/share:/var/lib/snapd/desktop',\n",
       " 'CONDA_SHLVL': '1',\n",
       " 'PYTHONPATH': '/opt/caffe/python:/opt/caffe2/build:',\n",
       " 'MXNET_HOME': '/data/mxnet',\n",
       " 'SHLVL': '1',\n",
       " 'PYSPARK_PYTHON': '/anaconda/bin/python',\n",
       " 'XDG_RUNTIME_DIR': '/run/user/1003',\n",
       " 'JPY_PARENT_PID': '15631',\n",
       " 'HOME': '/home/dsvmuser',\n",
       " 'CONDA_PROMPT_MODIFIER': '(py35) ',\n",
       " 'USER': 'dsvmuser',\n",
       " 'SHELL': '/bin/bash',\n",
       " 'CONDA_EXE': '/anaconda/bin/conda',\n",
       " 'LESSOPEN': '| /usr/bin/lesspipe %s',\n",
       " 'XDG_SESSION_ID': '1',\n",
       " 'SSH_CLIENT': '167.220.2.132 12525 22',\n",
       " 'JAVA_HOME': '/usr/lib/jvm/java-1.8.0-openjdk-amd64',\n",
       " 'CLICOLOR': '1',\n",
       " 'PAGER': 'cat',\n",
       " 'GIT_PAGER': 'cat',\n",
       " 'MPLBACKEND': 'module://ipykernel.pylab.backend_inline',\n",
       " 'SUBSCRIPTION_ID': '507d3cfb-2fe3-47d6-8366-5e5cfed2dc8e',\n",
       " 'RESOURCE_GROUP': 'ODL-ai-detect-anomalies-40451-01',\n",
       " 'WORKSPACE_NAME': 'amitworkspace',\n",
       " 'WORKSPACE_REGION': 'South Central US'}"
      ]
     },
     "execution_count": 24,
     "metadata": {},
     "output_type": "execute_result"
    }
   ],
   "source": [
    "%env"
   ]
  },
  {
   "cell_type": "markdown",
   "metadata": {},
   "source": [
    "## Creating a workspace\n",
    "\n",
    "If we already have access to an AML workspace, we can skip this cell.  Otherwise, this cell will create an AML workspace under the subscription provided (assuming we have the correct permissions for the given subscription ID).\n",
    "\n",
    "This will fail when:\n",
    "1. The workspace already exists\n",
    "2. You do not have permission to create a workspace in the resource group\n",
    "3. You are not a subscription owner or contributor and no Azure ML workspaces have ever been created in this subscription\n",
    "\n",
    "If workspace creation fails for any reason other than already existing, please work with your IT admin to provide you with the appropriate permissions or to provision the required resources.\n",
    "\n",
    "**Note** The workspace creation can take several minutes."
   ]
  },
  {
   "cell_type": "code",
   "execution_count": 25,
   "metadata": {},
   "outputs": [],
   "source": [
    "import os\n",
    "\n",
    "subscription_id = os.environ.get(\"SUBSCRIPTION_ID\")\n",
    "resource_group = os.environ.get(\"RESOURCE_GROUP\")\n",
    "workspace_name = os.environ.get(\"WORKSPACE_NAME\")\n",
    "workspace_region = os.environ.get(\"WORKSPACE_REGION\")"
   ]
  },
  {
   "cell_type": "code",
   "execution_count": 26,
   "metadata": {},
   "outputs": [
    {
     "data": {
      "text/plain": [
       "{'id': '/subscriptions/507d3cfb-2fe3-47d6-8366-5e5cfed2dc8e/resourceGroups/ODL-ai-detect-anomalies-40451-01/providers/Microsoft.MachineLearningServices/workspaces/amitworkspace',\n",
       " 'name': 'amitworkspace',\n",
       " 'location': 'southcentralus',\n",
       " 'type': 'Microsoft.MachineLearningServices/workspaces',\n",
       " 'description': '',\n",
       " 'friendlyName': 'amitworkspace',\n",
       " 'containerRegistry': '/subscriptions/507d3cfb-2fe3-47d6-8366-5e5cfed2dc8e/resourcegroups/odl-ai-detect-anomalies-40451-01/providers/microsoft.containerregistry/registries/amitworkacrhgbvqwdk',\n",
       " 'keyVault': '/subscriptions/507d3cfb-2fe3-47d6-8366-5e5cfed2dc8e/resourcegroups/odl-ai-detect-anomalies-40451-01/providers/microsoft.keyvault/vaults/amitworkkeyvaulttblkeyrc',\n",
       " 'applicationInsights': '/subscriptions/507d3cfb-2fe3-47d6-8366-5e5cfed2dc8e/resourcegroups/odl-ai-detect-anomalies-40451-01/providers/microsoft.insights/components/amitworkinsightsflacptwu',\n",
       " 'batchaiWorkspace': '/subscriptions/507d3cfb-2fe3-47d6-8366-5e5cfed2dc8e/resourcegroups/odl-ai-detect-anomalies-40451-01/providers/microsoft.batchai/workspaces/amitworkbatchai_uyegqyul',\n",
       " 'identityPrincipalId': '16ba8fb5-faf3-44c2-b4f4-1fe3094bcc05',\n",
       " 'identityTenantId': '03363749-29d6-4915-933a-8a647804605d',\n",
       " 'identityType': 'SystemAssigned',\n",
       " 'storageAccount': '/subscriptions/507d3cfb-2fe3-47d6-8366-5e5cfed2dc8e/resourcegroups/odl-ai-detect-anomalies-40451-01/providers/microsoft.storage/storageaccounts/amitworkstoragekhyqqouu'}"
      ]
     },
     "execution_count": 26,
     "metadata": {},
     "output_type": "execute_result"
    }
   ],
   "source": [
    "# import the Workspace class and check the azureml SDK version\n",
    "from azureml.core import Workspace, Experiment\n",
    "\n",
    "ws = Workspace.create(name = workspace_name,\n",
    "                      subscription_id = subscription_id,\n",
    "                      resource_group = resource_group, \n",
    "                      location = workspace_region,\n",
    "                      exist_ok = True)\n",
    "ws.get_details()"
   ]
  },
  {
   "cell_type": "markdown",
   "metadata": {},
   "source": [
    "Alternatively, we can also follow the instructions [here](https://docs.microsoft.com/en-us/azure/machine-learning/service/how-to-configure-environment) to create an Azure ML Workspace from the Azure portal."
   ]
  },
  {
   "cell_type": "markdown",
   "metadata": {},
   "source": [
    "Once we have a workspace, we can create a config file for it using `write_config()`."
   ]
  },
  {
   "cell_type": "code",
   "execution_count": 27,
   "metadata": {},
   "outputs": [
    {
     "name": "stdout",
     "output_type": "stream",
     "text": [
      "Wrote the config file config.json to: /data/home/dsvmuser/LearnAI-ADPM/lab02.0_PdM_Setting_Up_Env/aml_config/config.json\n",
      "Library configuration succeeded\n"
     ]
    }
   ],
   "source": [
    "try:\n",
    "   ws = Workspace(subscription_id = subscription_id, resource_group = resource_group, workspace_name = workspace_name)\n",
    "   ws.write_config()\n",
    "   print('Library configuration succeeded')\n",
    "except:\n",
    "   print('Workspace not found')"
   ]
  },
  {
   "cell_type": "markdown",
   "metadata": {},
   "source": [
    "If we ran the above code successfully, we should have a new file called `aml_config/config.json`."
   ]
  },
  {
   "cell_type": "code",
   "execution_count": 29,
   "metadata": {},
   "outputs": [
    {
     "name": "stdout",
     "output_type": "stream",
     "text": [
      "{\r\n",
      "    \"subscription_id\": \"507d3cfb-2fe3-47d6-8366-5e5cfed2dc8e\",\r\n",
      "    \"resource_group\": \"ODL-ai-detect-anomalies-40451-01\",\r\n",
      "    \"workspace_name\": \"amitworkspace\"\r\n",
      "}"
     ]
    }
   ],
   "source": [
    "!cat /data/home/dsvmuser/LearnAI-ADPM/lab02.0_PdM_Setting_Up_Env/aml_config/config.json"
   ]
  },
  {
   "cell_type": "markdown",
   "metadata": {},
   "source": [
    "## Configuring your local environment"
   ]
  },
  {
   "cell_type": "markdown",
   "metadata": {},
   "source": [
    "From now on, we can then load the workspace from this config file from any notebook in the current directory by simply running `from_config()`."
   ]
  },
  {
   "cell_type": "code",
   "execution_count": 30,
   "metadata": {},
   "outputs": [
    {
     "name": "stdout",
     "output_type": "stream",
     "text": [
      "Found the config file in: /data/home/dsvmuser/LearnAI-ADPM/lab02.0_PdM_Setting_Up_Env/aml_config/config.json\n"
     ]
    },
    {
     "data": {
      "text/plain": [
       "{'id': '/subscriptions/507d3cfb-2fe3-47d6-8366-5e5cfed2dc8e/resourceGroups/ODL-ai-detect-anomalies-40451-01/providers/Microsoft.MachineLearningServices/workspaces/amitworkspace',\n",
       " 'name': 'amitworkspace',\n",
       " 'location': 'southcentralus',\n",
       " 'type': 'Microsoft.MachineLearningServices/workspaces',\n",
       " 'description': '',\n",
       " 'friendlyName': 'amitworkspace',\n",
       " 'containerRegistry': '/subscriptions/507d3cfb-2fe3-47d6-8366-5e5cfed2dc8e/resourcegroups/odl-ai-detect-anomalies-40451-01/providers/microsoft.containerregistry/registries/amitworkacrhgbvqwdk',\n",
       " 'keyVault': '/subscriptions/507d3cfb-2fe3-47d6-8366-5e5cfed2dc8e/resourcegroups/odl-ai-detect-anomalies-40451-01/providers/microsoft.keyvault/vaults/amitworkkeyvaulttblkeyrc',\n",
       " 'applicationInsights': '/subscriptions/507d3cfb-2fe3-47d6-8366-5e5cfed2dc8e/resourcegroups/odl-ai-detect-anomalies-40451-01/providers/microsoft.insights/components/amitworkinsightsflacptwu',\n",
       " 'batchaiWorkspace': '/subscriptions/507d3cfb-2fe3-47d6-8366-5e5cfed2dc8e/resourcegroups/odl-ai-detect-anomalies-40451-01/providers/microsoft.batchai/workspaces/amitworkbatchai_uyegqyul',\n",
       " 'identityPrincipalId': '16ba8fb5-faf3-44c2-b4f4-1fe3094bcc05',\n",
       " 'identityTenantId': '03363749-29d6-4915-933a-8a647804605d',\n",
       " 'identityType': 'SystemAssigned',\n",
       " 'storageAccount': '/subscriptions/507d3cfb-2fe3-47d6-8366-5e5cfed2dc8e/resourcegroups/odl-ai-detect-anomalies-40451-01/providers/microsoft.storage/storageaccounts/amitworkstoragekhyqqouu'}"
      ]
     },
     "execution_count": 30,
     "metadata": {},
     "output_type": "execute_result"
    }
   ],
   "source": [
    "# load workspace configuratio from ./aml_config/config.json file.\n",
    "my_workspace = Workspace.from_config()\n",
    "my_workspace.get_details()"
   ]
  },
  {
   "cell_type": "markdown",
   "metadata": {},
   "source": [
    "## Create a folder to host all sample projects\n",
    "Lastly, create a folder where all the sample projects will be hosted."
   ]
  },
  {
   "cell_type": "code",
   "execution_count": 31,
   "metadata": {},
   "outputs": [
    {
     "name": "stdout",
     "output_type": "stream",
     "text": [
      "/data/home/dsvmuser/LearnAI-ADPM/lab02.0_PdM_Setting_Up_Env\r\n"
     ]
    }
   ],
   "source": [
    "!pwd"
   ]
  },
  {
   "cell_type": "code",
   "execution_count": 32,
   "metadata": {},
   "outputs": [],
   "source": [
    "import os\n",
    "\n",
    "sample_projects_folder = '.'\n",
    "\n",
    "if not os.path.isdir(sample_projects_folder):\n",
    "    os.mkdir(sample_projects_folder)"
   ]
  },
  {
   "cell_type": "markdown",
   "metadata": {},
   "source": [
    "Create an experiment to track the runs in your workspace. A workspace can have muliple experiments; an experiment must belongn to a workspace."
   ]
  },
  {
   "cell_type": "code",
   "execution_count": 33,
   "metadata": {},
   "outputs": [],
   "source": [
    "experiment_name = 'pred-maint-basic'\n",
    "\n",
    "exp = Experiment(workspace=my_workspace, name=experiment_name)"
   ]
  },
  {
   "cell_type": "markdown",
   "metadata": {},
   "source": [
    "# The end"
   ]
  },
  {
   "cell_type": "markdown",
   "metadata": {},
   "source": [
    "Copyright (c) Microsoft Corporation. All rights reserved.\n",
    "\n",
    "Licensed under the MIT License."
   ]
  }
 ],
 "metadata": {
  "kernelspec": {
   "display_name": "Python [conda env:py36]",
   "language": "python",
   "name": "conda-env-py36-py"
  },
  "language_info": {
   "codemirror_mode": {
    "name": "ipython",
    "version": 3
   },
   "file_extension": ".py",
   "mimetype": "text/x-python",
   "name": "python",
   "nbconvert_exporter": "python",
   "pygments_lexer": "ipython3",
   "version": "3.6.6"
  }
 },
 "nbformat": 4,
 "nbformat_minor": 2
}
