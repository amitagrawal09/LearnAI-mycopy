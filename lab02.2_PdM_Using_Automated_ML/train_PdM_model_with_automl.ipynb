{
 "cells": [
  {
   "cell_type": "markdown",
   "metadata": {},
   "source": [
    "Copyright (c) Microsoft Corporation. All rights reserved.\n",
    "\n",
    "Licensed under the MIT License."
   ]
  },
  {
   "cell_type": "markdown",
   "metadata": {},
   "source": [
    "# Classification using Automated ML\n",
    "\n",
    "In this example we use Azure ML's Automated ML functionality to improve on the classifier we built earlier. Automated ML handles the task of building many models from a wide variety of algorithms and choosing a good set of hyper-parameters for them. We then select best model (or one that meets our criteria) and deploy it as a web service."
   ]
  },
  {
   "cell_type": "markdown",
   "metadata": {},
   "source": [
    "## Load and prepare experiment"
   ]
  },
  {
   "cell_type": "markdown",
   "metadata": {},
   "source": [
    "As part of the setup we have already created an AML workspace. Let's load the workspace and create an experiment."
   ]
  },
  {
   "cell_type": "code",
   "execution_count": 12,
   "metadata": {},
   "outputs": [],
   "source": [
    "import json\n",
    "import logging\n",
    "import os\n",
    "import random\n",
    "\n",
    "from matplotlib import pyplot as plt\n",
    "from matplotlib.pyplot import imshow\n",
    "import numpy as np\n",
    "import pandas as pd\n",
    "from sklearn import datasets\n",
    "\n",
    "from sklearn.metrics import classification_report\n",
    "from sklearn.metrics import confusion_matrix\n",
    "from sklearn.metrics import roc_auc_score\n",
    "\n",
    "import azureml.core\n",
    "from azureml.core.experiment import Experiment\n",
    "from azureml.core.workspace import Workspace\n",
    "from azureml.train.automl import AutoMLConfig\n",
    "from azureml.train.automl.run import AutoMLRun"
   ]
  },
  {
   "cell_type": "markdown",
   "metadata": {},
   "source": [
    "We load the workspace directly from the config file we created in the early part of the course."
   ]
  },
  {
   "cell_type": "code",
   "execution_count": 13,
   "metadata": {},
   "outputs": [
    {
     "name": "stdout",
     "output_type": "stream",
     "text": [
      "Found the config file in: /data/home/dsvmuser/LearnAI-ADPM/lab02.0_PdM_Setting_Up_Env/aml_config/config.json\n"
     ]
    },
    {
     "data": {
      "text/html": [
       "<div>\n",
       "<style scoped>\n",
       "    .dataframe tbody tr th:only-of-type {\n",
       "        vertical-align: middle;\n",
       "    }\n",
       "\n",
       "    .dataframe tbody tr th {\n",
       "        vertical-align: top;\n",
       "    }\n",
       "\n",
       "    .dataframe thead th {\n",
       "        text-align: right;\n",
       "    }\n",
       "</style>\n",
       "<table border=\"1\" class=\"dataframe\">\n",
       "  <thead>\n",
       "    <tr style=\"text-align: right;\">\n",
       "      <th></th>\n",
       "      <th></th>\n",
       "    </tr>\n",
       "  </thead>\n",
       "  <tbody>\n",
       "    <tr>\n",
       "      <th>SDK version</th>\n",
       "      <td>0.1.74</td>\n",
       "    </tr>\n",
       "    <tr>\n",
       "      <th>Subscription ID</th>\n",
       "      <td>507d3cfb-2fe3-47d6-8366-5e5cfed2dc8e</td>\n",
       "    </tr>\n",
       "    <tr>\n",
       "      <th>Workspace</th>\n",
       "      <td>amitworkspace</td>\n",
       "    </tr>\n",
       "    <tr>\n",
       "      <th>Resource Group</th>\n",
       "      <td>ODL-ai-detect-anomalies-40451-01</td>\n",
       "    </tr>\n",
       "    <tr>\n",
       "      <th>Location</th>\n",
       "      <td>southcentralus</td>\n",
       "    </tr>\n",
       "    <tr>\n",
       "      <th>Project Directory</th>\n",
       "      <td>.</td>\n",
       "    </tr>\n",
       "    <tr>\n",
       "      <th>Experiment Name</th>\n",
       "      <td>pred-maint-automl</td>\n",
       "    </tr>\n",
       "  </tbody>\n",
       "</table>\n",
       "</div>"
      ],
      "text/plain": [
       "                                                       \n",
       "SDK version        0.1.74                              \n",
       "Subscription ID    507d3cfb-2fe3-47d6-8366-5e5cfed2dc8e\n",
       "Workspace          amitworkspace                       \n",
       "Resource Group     ODL-ai-detect-anomalies-40451-01    \n",
       "Location           southcentralus                      \n",
       "Project Directory  .                                   \n",
       "Experiment Name    pred-maint-automl                   "
      ]
     },
     "execution_count": 13,
     "metadata": {},
     "output_type": "execute_result"
    }
   ],
   "source": [
    "config_path = '../lab02.0_PdM_Setting_Up_Env/aml_config/config.json'\n",
    "ws = Workspace.from_config(config_path)\n",
    "\n",
    "experiment_name =  'pred-maint-automl' # choose a name for experiment\n",
    "project_folder = '.' # project folder\n",
    "\n",
    "experiment=Experiment(ws, experiment_name)\n",
    "\n",
    "output = {}\n",
    "output['SDK version'] = azureml.core.VERSION\n",
    "output['Subscription ID'] = ws.subscription_id\n",
    "output['Workspace'] = ws.name\n",
    "output['Resource Group'] = ws.resource_group\n",
    "output['Location'] = ws.location\n",
    "output['Project Directory'] = project_folder\n",
    "output['Experiment Name'] = experiment.name\n",
    "pd.set_option('display.max_colwidth', -1)\n",
    "pd.DataFrame(data=output, index=['']).T"
   ]
  },
  {
   "cell_type": "markdown",
   "metadata": {},
   "source": [
    "Opt in for diagnostics for better experience, quality, and security of future releases:"
   ]
  },
  {
   "cell_type": "code",
   "execution_count": 14,
   "metadata": {},
   "outputs": [],
   "source": [
    "from azureml.telemetry import set_diagnostics_collection\n",
    "set_diagnostics_collection(send_diagnostics=True)"
   ]
  },
  {
   "cell_type": "markdown",
   "metadata": {},
   "source": [
    "## Instantiate config file"
   ]
  },
  {
   "cell_type": "markdown",
   "metadata": {},
   "source": [
    "We now instantiate a `AutoMLConfig` object. This defines the settings and data used to run the experiment.\n",
    "\n",
    "|Property|Description|\n",
    "|-|-|\n",
    "|**task**|classification or regression|\n",
    "|**primary_metric**|This is the metric that you want to optimize.<br> Classification supports the following primary metrics <br><i>accuracy</i><br><i>AUC_weighted</i><br><i>balanced_accuracy</i><br><i>average_precision_score_weighted</i><br><i>precision_score_weighted</i>|\n",
    "|**max_time_sec**|Time limit in seconds for each iterations|\n",
    "|**iterations**|Number of iterations. In each iteration Auto ML trains the data with a specific pipeline|\n",
    "|**n_cross_validations**|Number of cross validation splits|\n",
    "|**X**|(sparse) array-like, shape = [n_samples, n_features]|\n",
    "|**y**|(sparse) array-like, shape = [n_samples, ], [n_samples, n_classes]<br>Multi-class targets. An indicator matrix turns on multilabel classification.  This should be an array of integers. |\n",
    "|**path**|Relative path to the project folder.  AutoML stores configuration files for the experiment under this folder. You can specify a new empty folder. |"
   ]
  },
  {
   "cell_type": "code",
   "execution_count": 15,
   "metadata": {},
   "outputs": [
    {
     "name": "stdout",
     "output_type": "stream",
     "text": [
      "Requirement already up-to-date: pip in /data/anaconda/envs/py36/lib/python3.6/site-packages (18.1)\n",
      "Requirement already up-to-date: azureml-sdk[automl,notebooks] in /data/anaconda/envs/py36/lib/python3.6/site-packages (0.1.74)\n",
      "Requirement already satisfied, skipping upgrade: azureml-train==0.1.74.* in /data/anaconda/envs/py36/lib/python3.6/site-packages (from azureml-sdk[automl,notebooks]) (0.1.74)\n",
      "Requirement already satisfied, skipping upgrade: azureml-pipeline==0.1.74.* in /data/anaconda/envs/py36/lib/python3.6/site-packages (from azureml-sdk[automl,notebooks]) (0.1.74)\n",
      "Requirement already satisfied, skipping upgrade: azureml-core==0.1.74.* in /data/anaconda/envs/py36/lib/python3.6/site-packages (from azureml-sdk[automl,notebooks]) (0.1.74)\n",
      "Requirement already satisfied, skipping upgrade: azureml-train-automl==0.1.74.*; extra == \"automl\" in /data/anaconda/envs/py36/lib/python3.6/site-packages (from azureml-sdk[automl,notebooks]) (0.1.74)\n",
      "Requirement already satisfied, skipping upgrade: azureml-train-widgets==0.1.74.*; extra == \"notebooks\" in /data/anaconda/envs/py36/lib/python3.6/site-packages (from azureml-sdk[automl,notebooks]) (0.1.74)\n",
      "Requirement already satisfied, skipping upgrade: azureml-train-core==0.1.74.* in /data/anaconda/envs/py36/lib/python3.6/site-packages (from azureml-train==0.1.74.*->azureml-sdk[automl,notebooks]) (0.1.74)\n",
      "Requirement already satisfied, skipping upgrade: azureml-pipeline-core==0.1.74.* in /data/anaconda/envs/py36/lib/python3.6/site-packages (from azureml-pipeline==0.1.74.*->azureml-sdk[automl,notebooks]) (0.1.74)\n",
      "Requirement already satisfied, skipping upgrade: azureml-pipeline-steps==0.1.74.* in /data/anaconda/envs/py36/lib/python3.6/site-packages (from azureml-pipeline==0.1.74.*->azureml-sdk[automl,notebooks]) (0.1.74)\n",
      "Requirement already satisfied, skipping upgrade: python-dateutil>=2.7.3 in /data/anaconda/envs/py36/lib/python3.6/site-packages (from azureml-core==0.1.74.*->azureml-sdk[automl,notebooks]) (2.7.3)\n",
      "Requirement already satisfied, skipping upgrade: azure-mgmt-keyvault>=0.40.0 in /data/anaconda/envs/py36/lib/python3.6/site-packages (from azureml-core==0.1.74.*->azureml-sdk[automl,notebooks]) (1.1.0)\n",
      "Requirement already satisfied, skipping upgrade: azure-mgmt-storage>=1.5.0 in /data/anaconda/envs/py36/lib/python3.6/site-packages (from azureml-core==0.1.74.*->azureml-sdk[automl,notebooks]) (2.0.0)\n",
      "Requirement already satisfied, skipping upgrade: ruamel.yaml<=0.15.51,>=0.15.35 in /data/anaconda/envs/py36/lib/python3.6/site-packages (from azureml-core==0.1.74.*->azureml-sdk[automl,notebooks]) (0.15.51)\n",
      "Requirement already satisfied, skipping upgrade: azure-mgmt-containerregistry>=2.0.0 in /data/anaconda/envs/py36/lib/python3.6/site-packages (from azureml-core==0.1.74.*->azureml-sdk[automl,notebooks]) (2.2.0)\n",
      "Requirement already satisfied, skipping upgrade: cryptography!=1.9,!=2.0.*,!=2.1.*,!=2.2.* in /data/anaconda/envs/py36/lib/python3.6/site-packages (from azureml-core==0.1.74.*->azureml-sdk[automl,notebooks]) (2.3.1)\n",
      "Requirement already satisfied, skipping upgrade: pathspec in /data/anaconda/envs/py36/lib/python3.6/site-packages (from azureml-core==0.1.74.*->azureml-sdk[automl,notebooks]) (0.5.9)\n",
      "Requirement already satisfied, skipping upgrade: msrestazure>=0.4.33 in /data/anaconda/envs/py36/lib/python3.6/site-packages (from azureml-core==0.1.74.*->azureml-sdk[automl,notebooks]) (0.5.0)\n",
      "Requirement already satisfied, skipping upgrade: azure-cli-core>=2.0.38 in /data/anaconda/envs/py36/lib/python3.6/site-packages (from azureml-core==0.1.74.*->azureml-sdk[automl,notebooks]) (2.0.45)\n",
      "Requirement already satisfied, skipping upgrade: azure-storage-blob>=1.1.0 in /data/anaconda/envs/py36/lib/python3.6/site-packages (from azureml-core==0.1.74.*->azureml-sdk[automl,notebooks]) (1.3.1)\n",
      "Requirement already satisfied, skipping upgrade: PyJWT in /data/anaconda/envs/py36/lib/python3.6/site-packages (from azureml-core==0.1.74.*->azureml-sdk[automl,notebooks]) (1.6.4)\n",
      "Requirement already satisfied, skipping upgrade: azure-cli-profile>=2.0.26 in /data/anaconda/envs/py36/lib/python3.6/site-packages (from azureml-core==0.1.74.*->azureml-sdk[automl,notebooks]) (2.1.1)\n",
      "Requirement already satisfied, skipping upgrade: azure-storage-nspkg>=3.0.0 in /data/anaconda/envs/py36/lib/python3.6/site-packages (from azureml-core==0.1.74.*->azureml-sdk[automl,notebooks]) (3.0.0)\n",
      "Requirement already satisfied, skipping upgrade: azure-mgmt-authorization>=0.40.0 in /data/anaconda/envs/py36/lib/python3.6/site-packages (from azureml-core==0.1.74.*->azureml-sdk[automl,notebooks]) (0.50.0)\n",
      "Requirement already satisfied, skipping upgrade: azure-storage-common>=1.1.0 in /data/anaconda/envs/py36/lib/python3.6/site-packages (from azureml-core==0.1.74.*->azureml-sdk[automl,notebooks]) (1.3.0)\n",
      "Requirement already satisfied, skipping upgrade: ndg-httpsclient in /data/anaconda/envs/py36/lib/python3.6/site-packages (from azureml-core==0.1.74.*->azureml-sdk[automl,notebooks]) (0.5.1)\n",
      "Requirement already satisfied, skipping upgrade: six>=1.11.0 in /data/anaconda/envs/py36/lib/python3.6/site-packages (from azureml-core==0.1.74.*->azureml-sdk[automl,notebooks]) (1.11.0)\n",
      "Requirement already satisfied, skipping upgrade: SecretStorage<3.0.0 in /data/anaconda/envs/py36/lib/python3.6/site-packages (from azureml-core==0.1.74.*->azureml-sdk[automl,notebooks]) (2.3.1)\n",
      "Requirement already satisfied, skipping upgrade: azure-mgmt-resource>=1.2.1 in /data/anaconda/envs/py36/lib/python3.6/site-packages (from azureml-core==0.1.74.*->azureml-sdk[automl,notebooks]) (2.0.0)\n",
      "Requirement already satisfied, skipping upgrade: jsonpickle in /data/anaconda/envs/py36/lib/python3.6/site-packages (from azureml-core==0.1.74.*->azureml-sdk[automl,notebooks]) (0.9.6)\n",
      "Requirement already satisfied, skipping upgrade: urllib3<1.24,>=1.23 in /data/anaconda/envs/py36/lib/python3.6/site-packages (from azureml-core==0.1.74.*->azureml-sdk[automl,notebooks]) (1.23)\n",
      "Requirement already satisfied, skipping upgrade: requests>=2.19.1 in /data/anaconda/envs/py36/lib/python3.6/site-packages (from azureml-core==0.1.74.*->azureml-sdk[automl,notebooks]) (2.19.1)\n",
      "Requirement already satisfied, skipping upgrade: azure-common>=1.1.12 in /data/anaconda/envs/py36/lib/python3.6/site-packages (from azureml-core==0.1.74.*->azureml-sdk[automl,notebooks]) (1.1.15)\n",
      "Requirement already satisfied, skipping upgrade: pytz in /data/anaconda/envs/py36/lib/python3.6/site-packages (from azureml-core==0.1.74.*->azureml-sdk[automl,notebooks]) (2018.5)\n",
      "Requirement already satisfied, skipping upgrade: backports.tempfile in /data/anaconda/envs/py36/lib/python3.6/site-packages (from azureml-core==0.1.74.*->azureml-sdk[automl,notebooks]) (1.0)\n",
      "Requirement already satisfied, skipping upgrade: contextlib2 in /data/anaconda/envs/py36/lib/python3.6/site-packages (from azureml-core==0.1.74.*->azureml-sdk[automl,notebooks]) (0.5.5)\n",
      "Requirement already satisfied, skipping upgrade: azure-graphrbac>=0.40.0 in /data/anaconda/envs/py36/lib/python3.6/site-packages (from azureml-core==0.1.74.*->azureml-sdk[automl,notebooks]) (0.40.0)\n",
      "Requirement already satisfied, skipping upgrade: msrest>=0.5.1 in /data/anaconda/envs/py36/lib/python3.6/site-packages (from azureml-core==0.1.74.*->azureml-sdk[automl,notebooks]) (0.5.5)\n",
      "Requirement already satisfied, skipping upgrade: docker in /data/anaconda/envs/py36/lib/python3.6/site-packages (from azureml-core==0.1.74.*->azureml-sdk[automl,notebooks]) (3.5.0)\n",
      "Requirement already satisfied, skipping upgrade: pandas<=0.23.4,>=0.20.1 in /data/anaconda/envs/py36/lib/python3.6/site-packages (from azureml-train-automl==0.1.74.*; extra == \"automl\"->azureml-sdk[automl,notebooks]) (0.23.4)\n",
      "Requirement already satisfied, skipping upgrade: lightgbm<=2.2.1,>=2.0.11 in /data/anaconda/envs/py36/lib/python3.6/site-packages (from azureml-train-automl==0.1.74.*; extra == \"automl\"->azureml-sdk[automl,notebooks]) (2.2.0)\n",
      "Requirement already satisfied, skipping upgrade: scikit-learn<=0.19.1,>=0.18.0 in /data/anaconda/envs/py36/lib/python3.6/site-packages (from azureml-train-automl==0.1.74.*; extra == \"automl\"->azureml-sdk[automl,notebooks]) (0.19.1)\n",
      "Requirement already satisfied, skipping upgrade: sklearn-pandas<=1.7.0,>=1.4.0 in /data/anaconda/envs/py36/lib/python3.6/site-packages (from azureml-train-automl==0.1.74.*; extra == \"automl\"->azureml-sdk[automl,notebooks]) (1.7.0)\n",
      "Requirement already satisfied, skipping upgrade: scipy<=1.1.0,>=1.0.0 in /data/anaconda/envs/py36/lib/python3.6/site-packages (from azureml-train-automl==0.1.74.*; extra == \"automl\"->azureml-sdk[automl,notebooks]) (1.1.0)\n",
      "Requirement already satisfied, skipping upgrade: azureml-telemetry==0.1.74.* in /data/anaconda/envs/py36/lib/python3.6/site-packages (from azureml-train-automl==0.1.74.*; extra == \"automl\"->azureml-sdk[automl,notebooks]) (0.1.74)\n",
      "Requirement already satisfied, skipping upgrade: tensorflow==1.10.0 in /data/anaconda/envs/py36/lib/python3.6/site-packages (from azureml-train-automl==0.1.74.*; extra == \"automl\"->azureml-sdk[automl,notebooks]) (1.10.0)\n",
      "Requirement already satisfied, skipping upgrade: resource>=0.1.8 in /data/anaconda/envs/py36/lib/python3.6/site-packages (from azureml-train-automl==0.1.74.*; extra == \"automl\"->azureml-sdk[automl,notebooks]) (0.2.1)\n",
      "Requirement already satisfied, skipping upgrade: numpy==1.14.5 in /data/anaconda/envs/py36/lib/python3.6/site-packages (from azureml-train-automl==0.1.74.*; extra == \"automl\"->azureml-sdk[automl,notebooks]) (1.14.5)\n",
      "Requirement already satisfied, skipping upgrade: azureml-dataprep<0.4.0,~=0.3rc in /data/anaconda/envs/py36/lib/python3.6/site-packages (from azureml-train-automl==0.1.74.*; extra == \"automl\"->azureml-sdk[automl,notebooks]) (0.3.0)\n",
      "Requirement already satisfied, skipping upgrade: wheel==0.30.0 in /data/anaconda/envs/py36/lib/python3.6/site-packages (from azureml-train-automl==0.1.74.*; extra == \"automl\"->azureml-sdk[automl,notebooks]) (0.30.0)\n",
      "Requirement already satisfied, skipping upgrade: ipywidgets>=7.0.0 in /data/anaconda/envs/py36/lib/python3.6/site-packages (from azureml-train-widgets==0.1.74.*; extra == \"notebooks\"->azureml-sdk[automl,notebooks]) (7.4.2)\n",
      "Requirement already satisfied, skipping upgrade: azureml-train-restclients-hyperdrive==0.1.74.* in /data/anaconda/envs/py36/lib/python3.6/site-packages (from azureml-train-core==0.1.74.*->azureml-train==0.1.74.*->azureml-sdk[automl,notebooks]) (0.1.74)\n",
      "Requirement already satisfied, skipping upgrade: certifi in /data/anaconda/envs/py36/lib/python3.6/site-packages (from azureml-pipeline-steps==0.1.74.*->azureml-pipeline==0.1.74.*->azureml-sdk[automl,notebooks]) (2018.10.15)\n",
      "Requirement already satisfied, skipping upgrade: azure-mgmt-nspkg>=2.0.0 in /data/anaconda/envs/py36/lib/python3.6/site-packages (from azure-mgmt-keyvault>=0.40.0->azureml-core==0.1.74.*->azureml-sdk[automl,notebooks]) (2.0.0)\n",
      "Requirement already satisfied, skipping upgrade: idna>=2.1 in /data/anaconda/envs/py36/lib/python3.6/site-packages (from cryptography!=1.9,!=2.0.*,!=2.1.*,!=2.2.*->azureml-core==0.1.74.*->azureml-sdk[automl,notebooks]) (2.7)\n",
      "Requirement already satisfied, skipping upgrade: asn1crypto>=0.21.0 in /data/anaconda/envs/py36/lib/python3.6/site-packages (from cryptography!=1.9,!=2.0.*,!=2.1.*,!=2.2.*->azureml-core==0.1.74.*->azureml-sdk[automl,notebooks]) (0.24.0)\n",
      "Requirement already satisfied, skipping upgrade: cffi!=1.11.3,>=1.7 in /data/anaconda/envs/py36/lib/python3.6/site-packages (from cryptography!=1.9,!=2.0.*,!=2.1.*,!=2.2.*->azureml-core==0.1.74.*->azureml-sdk[automl,notebooks]) (1.11.5)\n",
      "Requirement already satisfied, skipping upgrade: adal<2.0.0,>=0.6.0 in /data/anaconda/envs/py36/lib/python3.6/site-packages (from msrestazure>=0.4.33->azureml-core==0.1.74.*->azureml-sdk[automl,notebooks]) (1.1.0)\n",
      "Requirement already satisfied, skipping upgrade: argcomplete>=1.8.0 in /data/anaconda/envs/py36/lib/python3.6/site-packages (from azure-cli-core>=2.0.38->azureml-core==0.1.74.*->azureml-sdk[automl,notebooks]) (1.9.4)\n",
      "Requirement already satisfied, skipping upgrade: paramiko>=2.0.8 in /data/anaconda/envs/py36/lib/python3.6/site-packages (from azure-cli-core>=2.0.38->azureml-core==0.1.74.*->azureml-sdk[automl,notebooks]) (2.4.2)\n",
      "Requirement already satisfied, skipping upgrade: antlr4-python3-runtime in /data/anaconda/envs/py36/lib/python3.6/site-packages (from azure-cli-core>=2.0.38->azureml-core==0.1.74.*->azureml-sdk[automl,notebooks]) (4.7.1)\n",
      "Requirement already satisfied, skipping upgrade: jmespath in /data/anaconda/envs/py36/lib/python3.6/site-packages (from azure-cli-core>=2.0.38->azureml-core==0.1.74.*->azureml-sdk[automl,notebooks]) (0.9.3)\n",
      "Requirement already satisfied, skipping upgrade: pyopenssl>=17.1.0 in /data/anaconda/envs/py36/lib/python3.6/site-packages (from azure-cli-core>=2.0.38->azureml-core==0.1.74.*->azureml-sdk[automl,notebooks]) (18.0.0)\n",
      "Requirement already satisfied, skipping upgrade: tabulate<=0.8.2,>=0.7.7 in /data/anaconda/envs/py36/lib/python3.6/site-packages (from azure-cli-core>=2.0.38->azureml-core==0.1.74.*->azureml-sdk[automl,notebooks]) (0.8.2)\n",
      "Requirement already satisfied, skipping upgrade: azure-cli-telemetry in /data/anaconda/envs/py36/lib/python3.6/site-packages (from azure-cli-core>=2.0.38->azureml-core==0.1.74.*->azureml-sdk[automl,notebooks]) (1.0.0)\n",
      "Requirement already satisfied, skipping upgrade: pip in /data/anaconda/envs/py36/lib/python3.6/site-packages (from azure-cli-core>=2.0.38->azureml-core==0.1.74.*->azureml-sdk[automl,notebooks]) (18.1)\n",
      "Requirement already satisfied, skipping upgrade: pygments in /data/anaconda/envs/py36/lib/python3.6/site-packages (from azure-cli-core>=2.0.38->azureml-core==0.1.74.*->azureml-sdk[automl,notebooks]) (2.2.0)\n",
      "Requirement already satisfied, skipping upgrade: knack==0.4.2 in /data/anaconda/envs/py36/lib/python3.6/site-packages (from azure-cli-core>=2.0.38->azureml-core==0.1.74.*->azureml-sdk[automl,notebooks]) (0.4.2)\n",
      "Requirement already satisfied, skipping upgrade: pyyaml~=3.13 in /data/anaconda/envs/py36/lib/python3.6/site-packages (from azure-cli-core>=2.0.38->azureml-core==0.1.74.*->azureml-sdk[automl,notebooks]) (3.13)\n",
      "Requirement already satisfied, skipping upgrade: humanfriendly>=4.7 in /data/anaconda/envs/py36/lib/python3.6/site-packages (from azure-cli-core>=2.0.38->azureml-core==0.1.74.*->azureml-sdk[automl,notebooks]) (4.16.1)\n",
      "Requirement already satisfied, skipping upgrade: azure-cli-nspkg>=2.0.0 in /data/anaconda/envs/py36/lib/python3.6/site-packages (from azure-cli-core>=2.0.38->azureml-core==0.1.74.*->azureml-sdk[automl,notebooks]) (3.0.3)\n",
      "Requirement already satisfied, skipping upgrade: colorama>=0.3.9 in /data/anaconda/envs/py36/lib/python3.6/site-packages (from azure-cli-core>=2.0.38->azureml-core==0.1.74.*->azureml-sdk[automl,notebooks]) (0.3.9)\n",
      "Requirement already satisfied, skipping upgrade: azure-cli-command-modules-nspkg>=2.0.0 in /data/anaconda/envs/py36/lib/python3.6/site-packages (from azure-cli-profile>=2.0.26->azureml-core==0.1.74.*->azureml-sdk[automl,notebooks]) (2.0.2)\n",
      "Requirement already satisfied, skipping upgrade: azure-nspkg>=2.0.0 in /data/anaconda/envs/py36/lib/python3.6/site-packages (from azure-storage-nspkg>=3.0.0->azureml-core==0.1.74.*->azureml-sdk[automl,notebooks]) (2.0.0)\n",
      "Requirement already satisfied, skipping upgrade: pyasn1>=0.1.1 in /data/anaconda/envs/py36/lib/python3.6/site-packages (from ndg-httpsclient->azureml-core==0.1.74.*->azureml-sdk[automl,notebooks]) (0.4.4)\n",
      "Requirement already satisfied, skipping upgrade: chardet<3.1.0,>=3.0.2 in /data/anaconda/envs/py36/lib/python3.6/site-packages (from requests>=2.19.1->azureml-core==0.1.74.*->azureml-sdk[automl,notebooks]) (3.0.4)\n",
      "Requirement already satisfied, skipping upgrade: backports.weakref in /data/anaconda/envs/py36/lib/python3.6/site-packages (from backports.tempfile->azureml-core==0.1.74.*->azureml-sdk[automl,notebooks]) (1.0.post1)\n",
      "Requirement already satisfied, skipping upgrade: requests-oauthlib>=0.5.0 in /data/anaconda/envs/py36/lib/python3.6/site-packages (from msrest>=0.5.1->azureml-core==0.1.74.*->azureml-sdk[automl,notebooks]) (1.0.0)\n",
      "Requirement already satisfied, skipping upgrade: isodate>=0.6.0 in /data/anaconda/envs/py36/lib/python3.6/site-packages (from msrest>=0.5.1->azureml-core==0.1.74.*->azureml-sdk[automl,notebooks]) (0.6.0)\n",
      "Requirement already satisfied, skipping upgrade: docker-pycreds>=0.3.0 in /data/anaconda/envs/py36/lib/python3.6/site-packages (from docker->azureml-core==0.1.74.*->azureml-sdk[automl,notebooks]) (0.3.0)\n",
      "Requirement already satisfied, skipping upgrade: websocket-client>=0.32.0 in /data/anaconda/envs/py36/lib/python3.6/site-packages (from docker->azureml-core==0.1.74.*->azureml-sdk[automl,notebooks]) (0.53.0)\n",
      "Requirement already satisfied, skipping upgrade: applicationinsights in /data/anaconda/envs/py36/lib/python3.6/site-packages (from azureml-telemetry==0.1.74.*->azureml-train-automl==0.1.74.*; extra == \"automl\"->azureml-sdk[automl,notebooks]) (0.11.6)\n",
      "Requirement already satisfied, skipping upgrade: setuptools<=39.1.0 in /data/anaconda/envs/py36/lib/python3.6/site-packages (from tensorflow==1.10.0->azureml-train-automl==0.1.74.*; extra == \"automl\"->azureml-sdk[automl,notebooks]) (39.1.0)\n",
      "Requirement already satisfied, skipping upgrade: astor>=0.6.0 in /data/anaconda/envs/py36/lib/python3.6/site-packages (from tensorflow==1.10.0->azureml-train-automl==0.1.74.*; extra == \"automl\"->azureml-sdk[automl,notebooks]) (0.7.1)\n",
      "Requirement already satisfied, skipping upgrade: gast>=0.2.0 in /data/anaconda/envs/py36/lib/python3.6/site-packages (from tensorflow==1.10.0->azureml-train-automl==0.1.74.*; extra == \"automl\"->azureml-sdk[automl,notebooks]) (0.2.0)\n",
      "Requirement already satisfied, skipping upgrade: termcolor>=1.1.0 in /data/anaconda/envs/py36/lib/python3.6/site-packages (from tensorflow==1.10.0->azureml-train-automl==0.1.74.*; extra == \"automl\"->azureml-sdk[automl,notebooks]) (1.1.0)\n",
      "Requirement already satisfied, skipping upgrade: protobuf>=3.6.0 in /data/anaconda/envs/py36/lib/python3.6/site-packages (from tensorflow==1.10.0->azureml-train-automl==0.1.74.*; extra == \"automl\"->azureml-sdk[automl,notebooks]) (3.6.1)\n",
      "Requirement already satisfied, skipping upgrade: grpcio>=1.8.6 in /data/anaconda/envs/py36/lib/python3.6/site-packages (from tensorflow==1.10.0->azureml-train-automl==0.1.74.*; extra == \"automl\"->azureml-sdk[automl,notebooks]) (1.15.0)\n",
      "Requirement already satisfied, skipping upgrade: tensorboard<1.11.0,>=1.10.0 in /data/anaconda/envs/py36/lib/python3.6/site-packages (from tensorflow==1.10.0->azureml-train-automl==0.1.74.*; extra == \"automl\"->azureml-sdk[automl,notebooks]) (1.10.0)\n",
      "Requirement already satisfied, skipping upgrade: absl-py>=0.1.6 in /data/anaconda/envs/py36/lib/python3.6/site-packages (from tensorflow==1.10.0->azureml-train-automl==0.1.74.*; extra == \"automl\"->azureml-sdk[automl,notebooks]) (0.5.0)\n",
      "Requirement already satisfied, skipping upgrade: python-easyconfig>=0.1.0 in /data/anaconda/envs/py36/lib/python3.6/site-packages (from resource>=0.1.8->azureml-train-automl==0.1.74.*; extra == \"automl\"->azureml-sdk[automl,notebooks]) (0.1.7)\n",
      "Requirement already satisfied, skipping upgrade: JsonForm>=0.0.2 in /data/anaconda/envs/py36/lib/python3.6/site-packages (from resource>=0.1.8->azureml-train-automl==0.1.74.*; extra == \"automl\"->azureml-sdk[automl,notebooks]) (0.0.2)\n",
      "Requirement already satisfied, skipping upgrade: JsonSir>=0.0.2 in /data/anaconda/envs/py36/lib/python3.6/site-packages (from resource>=0.1.8->azureml-train-automl==0.1.74.*; extra == \"automl\"->azureml-sdk[automl,notebooks]) (0.0.2)\n",
      "Requirement already satisfied, skipping upgrade: dotnetcore2==2.1.0 in /data/anaconda/envs/py36/lib/python3.6/site-packages (from azureml-dataprep<0.4.0,~=0.3rc->azureml-train-automl==0.1.74.*; extra == \"automl\"->azureml-sdk[automl,notebooks]) (2.1.0)\n",
      "Requirement already satisfied, skipping upgrade: azureml-dataprep-native<11.0.0,>=10.4.0 in /data/anaconda/envs/py36/lib/python3.6/site-packages (from azureml-dataprep<0.4.0,~=0.3rc->azureml-train-automl==0.1.74.*; extra == \"automl\"->azureml-sdk[automl,notebooks]) (10.4.0)\n",
      "Requirement already satisfied, skipping upgrade: nbformat>=4.2.0 in /data/anaconda/envs/py36/lib/python3.6/site-packages (from ipywidgets>=7.0.0->azureml-train-widgets==0.1.74.*; extra == \"notebooks\"->azureml-sdk[automl,notebooks]) (4.4.0)\n",
      "Requirement already satisfied, skipping upgrade: widgetsnbextension~=3.4.0 in /data/anaconda/envs/py36/lib/python3.6/site-packages (from ipywidgets>=7.0.0->azureml-train-widgets==0.1.74.*; extra == \"notebooks\"->azureml-sdk[automl,notebooks]) (3.4.2)\n",
      "Requirement already satisfied, skipping upgrade: ipykernel>=4.5.1 in /data/anaconda/envs/py36/lib/python3.6/site-packages (from ipywidgets>=7.0.0->azureml-train-widgets==0.1.74.*; extra == \"notebooks\"->azureml-sdk[automl,notebooks]) (4.9.0)\n",
      "Requirement already satisfied, skipping upgrade: traitlets>=4.3.1 in /data/anaconda/envs/py36/lib/python3.6/site-packages (from ipywidgets>=7.0.0->azureml-train-widgets==0.1.74.*; extra == \"notebooks\"->azureml-sdk[automl,notebooks]) (4.3.2)\n",
      "Requirement already satisfied, skipping upgrade: ipython>=4.0.0; python_version >= \"3.3\" in /data/anaconda/envs/py36/lib/python3.6/site-packages (from ipywidgets>=7.0.0->azureml-train-widgets==0.1.74.*; extra == \"notebooks\"->azureml-sdk[automl,notebooks]) (6.5.0)\n",
      "Requirement already satisfied, skipping upgrade: pycparser in /data/anaconda/envs/py36/lib/python3.6/site-packages (from cffi!=1.11.3,>=1.7->cryptography!=1.9,!=2.0.*,!=2.1.*,!=2.2.*->azureml-core==0.1.74.*->azureml-sdk[automl,notebooks]) (2.18)\n",
      "Requirement already satisfied, skipping upgrade: pynacl>=1.0.1 in /data/anaconda/envs/py36/lib/python3.6/site-packages (from paramiko>=2.0.8->azure-cli-core>=2.0.38->azureml-core==0.1.74.*->azureml-sdk[automl,notebooks]) (1.2.1)\n",
      "Requirement already satisfied, skipping upgrade: bcrypt>=3.1.3 in /data/anaconda/envs/py36/lib/python3.6/site-packages (from paramiko>=2.0.8->azure-cli-core>=2.0.38->azureml-core==0.1.74.*->azureml-sdk[automl,notebooks]) (3.1.4)\n",
      "Requirement already satisfied, skipping upgrade: portalocker==1.2.1 in /data/anaconda/envs/py36/lib/python3.6/site-packages (from azure-cli-telemetry->azure-cli-core>=2.0.38->azureml-core==0.1.74.*->azureml-sdk[automl,notebooks]) (1.2.1)\n",
      "Requirement already satisfied, skipping upgrade: oauthlib>=0.6.2 in /data/anaconda/envs/py36/lib/python3.6/site-packages (from requests-oauthlib>=0.5.0->msrest>=0.5.1->azureml-core==0.1.74.*->azureml-sdk[automl,notebooks]) (2.1.0)\n",
      "Requirement already satisfied, skipping upgrade: werkzeug>=0.11.10 in /data/anaconda/envs/py36/lib/python3.6/site-packages (from tensorboard<1.11.0,>=1.10.0->tensorflow==1.10.0->azureml-train-automl==0.1.74.*; extra == \"automl\"->azureml-sdk[automl,notebooks]) (0.14.1)\n",
      "Requirement already satisfied, skipping upgrade: markdown>=2.6.8 in /data/anaconda/envs/py36/lib/python3.6/site-packages (from tensorboard<1.11.0,>=1.10.0->tensorflow==1.10.0->azureml-train-automl==0.1.74.*; extra == \"automl\"->azureml-sdk[automl,notebooks]) (2.6.11)\n",
      "Requirement already satisfied, skipping upgrade: jsonschema in /data/anaconda/envs/py36/lib/python3.6/site-packages (from JsonForm>=0.0.2->resource>=0.1.8->azureml-train-automl==0.1.74.*; extra == \"automl\"->azureml-sdk[automl,notebooks]) (2.6.0)\n",
      "Requirement already satisfied, skipping upgrade: distro==1.2.0 in /data/anaconda/envs/py36/lib/python3.6/site-packages (from dotnetcore2==2.1.0->azureml-dataprep<0.4.0,~=0.3rc->azureml-train-automl==0.1.74.*; extra == \"automl\"->azureml-sdk[automl,notebooks]) (1.2.0)\n",
      "Requirement already satisfied, skipping upgrade: ipython_genutils in /data/anaconda/envs/py36/lib/python3.6/site-packages (from nbformat>=4.2.0->ipywidgets>=7.0.0->azureml-train-widgets==0.1.74.*; extra == \"notebooks\"->azureml-sdk[automl,notebooks]) (0.2.0)\n",
      "Requirement already satisfied, skipping upgrade: jupyter_core in /data/anaconda/envs/py36/lib/python3.6/site-packages (from nbformat>=4.2.0->ipywidgets>=7.0.0->azureml-train-widgets==0.1.74.*; extra == \"notebooks\"->azureml-sdk[automl,notebooks]) (4.4.0)\n",
      "Requirement already satisfied, skipping upgrade: notebook>=4.4.1 in /data/anaconda/envs/py36/lib/python3.6/site-packages (from widgetsnbextension~=3.4.0->ipywidgets>=7.0.0->azureml-train-widgets==0.1.74.*; extra == \"notebooks\"->azureml-sdk[automl,notebooks]) (5.6.0)\n",
      "Requirement already satisfied, skipping upgrade: jupyter_client in /data/anaconda/envs/py36/lib/python3.6/site-packages (from ipykernel>=4.5.1->ipywidgets>=7.0.0->azureml-train-widgets==0.1.74.*; extra == \"notebooks\"->azureml-sdk[automl,notebooks]) (5.2.3)\n",
      "Requirement already satisfied, skipping upgrade: tornado>=4.0 in /data/anaconda/envs/py36/lib/python3.6/site-packages (from ipykernel>=4.5.1->ipywidgets>=7.0.0->azureml-train-widgets==0.1.74.*; extra == \"notebooks\"->azureml-sdk[automl,notebooks]) (5.1)\n",
      "Requirement already satisfied, skipping upgrade: decorator in /data/anaconda/envs/py36/lib/python3.6/site-packages (from traitlets>=4.3.1->ipywidgets>=7.0.0->azureml-train-widgets==0.1.74.*; extra == \"notebooks\"->azureml-sdk[automl,notebooks]) (4.3.0)\n",
      "Requirement already satisfied, skipping upgrade: simplegeneric>0.8 in /data/anaconda/envs/py36/lib/python3.6/site-packages (from ipython>=4.0.0; python_version >= \"3.3\"->ipywidgets>=7.0.0->azureml-train-widgets==0.1.74.*; extra == \"notebooks\"->azureml-sdk[automl,notebooks]) (0.8.1)\n",
      "Requirement already satisfied, skipping upgrade: prompt-toolkit<2.0.0,>=1.0.15 in /data/anaconda/envs/py36/lib/python3.6/site-packages (from ipython>=4.0.0; python_version >= \"3.3\"->ipywidgets>=7.0.0->azureml-train-widgets==0.1.74.*; extra == \"notebooks\"->azureml-sdk[automl,notebooks]) (1.0.15)\n",
      "Requirement already satisfied, skipping upgrade: jedi>=0.10 in /data/anaconda/envs/py36/lib/python3.6/site-packages (from ipython>=4.0.0; python_version >= \"3.3\"->ipywidgets>=7.0.0->azureml-train-widgets==0.1.74.*; extra == \"notebooks\"->azureml-sdk[automl,notebooks]) (0.12.1)\n",
      "Requirement already satisfied, skipping upgrade: backcall in /data/anaconda/envs/py36/lib/python3.6/site-packages (from ipython>=4.0.0; python_version >= \"3.3\"->ipywidgets>=7.0.0->azureml-train-widgets==0.1.74.*; extra == \"notebooks\"->azureml-sdk[automl,notebooks]) (0.1.0)\n",
      "Requirement already satisfied, skipping upgrade: pexpect; sys_platform != \"win32\" in /data/anaconda/envs/py36/lib/python3.6/site-packages (from ipython>=4.0.0; python_version >= \"3.3\"->ipywidgets>=7.0.0->azureml-train-widgets==0.1.74.*; extra == \"notebooks\"->azureml-sdk[automl,notebooks]) (4.6.0)\n",
      "Requirement already satisfied, skipping upgrade: pickleshare in /data/anaconda/envs/py36/lib/python3.6/site-packages (from ipython>=4.0.0; python_version >= \"3.3\"->ipywidgets>=7.0.0->azureml-train-widgets==0.1.74.*; extra == \"notebooks\"->azureml-sdk[automl,notebooks]) (0.7.4)\n",
      "Requirement already satisfied, skipping upgrade: pyzmq>=17 in /data/anaconda/envs/py36/lib/python3.6/site-packages (from notebook>=4.4.1->widgetsnbextension~=3.4.0->ipywidgets>=7.0.0->azureml-train-widgets==0.1.74.*; extra == \"notebooks\"->azureml-sdk[automl,notebooks]) (17.1.2)\n",
      "Requirement already satisfied, skipping upgrade: jinja2 in /data/anaconda/envs/py36/lib/python3.6/site-packages (from notebook>=4.4.1->widgetsnbextension~=3.4.0->ipywidgets>=7.0.0->azureml-train-widgets==0.1.74.*; extra == \"notebooks\"->azureml-sdk[automl,notebooks]) (2.10)\n",
      "Requirement already satisfied, skipping upgrade: terminado>=0.8.1 in /data/anaconda/envs/py36/lib/python3.6/site-packages (from notebook>=4.4.1->widgetsnbextension~=3.4.0->ipywidgets>=7.0.0->azureml-train-widgets==0.1.74.*; extra == \"notebooks\"->azureml-sdk[automl,notebooks]) (0.8.1)\n",
      "Requirement already satisfied, skipping upgrade: nbconvert in /data/anaconda/envs/py36/lib/python3.6/site-packages (from notebook>=4.4.1->widgetsnbextension~=3.4.0->ipywidgets>=7.0.0->azureml-train-widgets==0.1.74.*; extra == \"notebooks\"->azureml-sdk[automl,notebooks]) (5.3.1)\n",
      "Requirement already satisfied, skipping upgrade: prometheus-client in /data/anaconda/envs/py36/lib/python3.6/site-packages (from notebook>=4.4.1->widgetsnbextension~=3.4.0->ipywidgets>=7.0.0->azureml-train-widgets==0.1.74.*; extra == \"notebooks\"->azureml-sdk[automl,notebooks]) (0.3.1)\n",
      "Requirement already satisfied, skipping upgrade: Send2Trash in /data/anaconda/envs/py36/lib/python3.6/site-packages (from notebook>=4.4.1->widgetsnbextension~=3.4.0->ipywidgets>=7.0.0->azureml-train-widgets==0.1.74.*; extra == \"notebooks\"->azureml-sdk[automl,notebooks]) (1.5.0)\n",
      "Requirement already satisfied, skipping upgrade: wcwidth in /data/anaconda/envs/py36/lib/python3.6/site-packages (from prompt-toolkit<2.0.0,>=1.0.15->ipython>=4.0.0; python_version >= \"3.3\"->ipywidgets>=7.0.0->azureml-train-widgets==0.1.74.*; extra == \"notebooks\"->azureml-sdk[automl,notebooks]) (0.1.7)\n",
      "Requirement already satisfied, skipping upgrade: parso>=0.3.0 in /data/anaconda/envs/py36/lib/python3.6/site-packages (from jedi>=0.10->ipython>=4.0.0; python_version >= \"3.3\"->ipywidgets>=7.0.0->azureml-train-widgets==0.1.74.*; extra == \"notebooks\"->azureml-sdk[automl,notebooks]) (0.3.1)\n",
      "Requirement already satisfied, skipping upgrade: ptyprocess>=0.5 in /data/anaconda/envs/py36/lib/python3.6/site-packages (from pexpect; sys_platform != \"win32\"->ipython>=4.0.0; python_version >= \"3.3\"->ipywidgets>=7.0.0->azureml-train-widgets==0.1.74.*; extra == \"notebooks\"->azureml-sdk[automl,notebooks]) (0.6.0)\n",
      "Requirement already satisfied, skipping upgrade: MarkupSafe>=0.23 in /data/anaconda/envs/py36/lib/python3.6/site-packages (from jinja2->notebook>=4.4.1->widgetsnbextension~=3.4.0->ipywidgets>=7.0.0->azureml-train-widgets==0.1.74.*; extra == \"notebooks\"->azureml-sdk[automl,notebooks]) (1.0)\n",
      "Requirement already satisfied, skipping upgrade: pandocfilters>=1.4.1 in /data/anaconda/envs/py36/lib/python3.6/site-packages (from nbconvert->notebook>=4.4.1->widgetsnbextension~=3.4.0->ipywidgets>=7.0.0->azureml-train-widgets==0.1.74.*; extra == \"notebooks\"->azureml-sdk[automl,notebooks]) (1.4.2)\n",
      "Requirement already satisfied, skipping upgrade: entrypoints>=0.2.2 in /data/anaconda/envs/py36/lib/python3.6/site-packages (from nbconvert->notebook>=4.4.1->widgetsnbextension~=3.4.0->ipywidgets>=7.0.0->azureml-train-widgets==0.1.74.*; extra == \"notebooks\"->azureml-sdk[automl,notebooks]) (0.2.3)\n",
      "Requirement already satisfied, skipping upgrade: bleach in /data/anaconda/envs/py36/lib/python3.6/site-packages (from nbconvert->notebook>=4.4.1->widgetsnbextension~=3.4.0->ipywidgets>=7.0.0->azureml-train-widgets==0.1.74.*; extra == \"notebooks\"->azureml-sdk[automl,notebooks]) (2.1.4)\n",
      "Requirement already satisfied, skipping upgrade: mistune>=0.7.4 in /data/anaconda/envs/py36/lib/python3.6/site-packages (from nbconvert->notebook>=4.4.1->widgetsnbextension~=3.4.0->ipywidgets>=7.0.0->azureml-train-widgets==0.1.74.*; extra == \"notebooks\"->azureml-sdk[automl,notebooks]) (0.8.3)\n",
      "Requirement already satisfied, skipping upgrade: testpath in /data/anaconda/envs/py36/lib/python3.6/site-packages (from nbconvert->notebook>=4.4.1->widgetsnbextension~=3.4.0->ipywidgets>=7.0.0->azureml-train-widgets==0.1.74.*; extra == \"notebooks\"->azureml-sdk[automl,notebooks]) (0.3.1)\n",
      "Requirement already satisfied, skipping upgrade: html5lib!=1.0b1,!=1.0b2,!=1.0b3,!=1.0b4,!=1.0b5,!=1.0b6,!=1.0b7,!=1.0b8,>=0.99999999pre in /data/anaconda/envs/py36/lib/python3.6/site-packages (from bleach->nbconvert->notebook>=4.4.1->widgetsnbextension~=3.4.0->ipywidgets>=7.0.0->azureml-train-widgets==0.1.74.*; extra == \"notebooks\"->azureml-sdk[automl,notebooks]) (1.0.1)\n",
      "Requirement already satisfied, skipping upgrade: webencodings in /data/anaconda/envs/py36/lib/python3.6/site-packages (from html5lib!=1.0b1,!=1.0b2,!=1.0b3,!=1.0b4,!=1.0b5,!=1.0b6,!=1.0b7,!=1.0b8,>=0.99999999pre->bleach->nbconvert->notebook>=4.4.1->widgetsnbextension~=3.4.0->ipywidgets>=7.0.0->azureml-train-widgets==0.1.74.*; extra == \"notebooks\"->azureml-sdk[automl,notebooks]) (0.5.1)\n"
     ]
    }
   ],
   "source": [
    "%%bash\n",
    "\n",
    "# you might have to uncomment the next line if you get a CommandNotFoundError\n",
    " . /anaconda/etc/profile.d/conda.sh\n",
    "\n",
    "conda activate py36 # if you just run activate you get permission denied\n",
    "\n",
    "\n",
    "\n",
    "pip install --upgrade pip\n",
    "pip install --upgrade azureml-sdk[automl,notebooks] # I had to run it twice before it worked"
   ]
  },
  {
   "cell_type": "code",
   "execution_count": 16,
   "metadata": {},
   "outputs": [
    {
     "name": "stdout",
     "output_type": "stream",
     "text": [
      "SDK Version: 0.1.74\n"
     ]
    }
   ],
   "source": [
    "import azureml.core\n",
    "\n",
    "print(\"SDK Version:\", azureml.core.VERSION)"
   ]
  },
  {
   "cell_type": "code",
   "execution_count": 17,
   "metadata": {},
   "outputs": [],
   "source": [
    "%store -r X_train\n",
    "%store -r X_test\n",
    "%store -r y_train\n",
    "%store -r y_test"
   ]
  },
  {
   "cell_type": "code",
   "execution_count": 18,
   "metadata": {},
   "outputs": [
    {
     "data": {
      "text/html": [
       "<div>\n",
       "<style scoped>\n",
       "    .dataframe tbody tr th:only-of-type {\n",
       "        vertical-align: middle;\n",
       "    }\n",
       "\n",
       "    .dataframe tbody tr th {\n",
       "        vertical-align: top;\n",
       "    }\n",
       "\n",
       "    .dataframe thead th {\n",
       "        text-align: right;\n",
       "    }\n",
       "</style>\n",
       "<table border=\"1\" class=\"dataframe\">\n",
       "  <thead>\n",
       "    <tr style=\"text-align: right;\">\n",
       "      <th></th>\n",
       "      <th>volt_ma_3</th>\n",
       "      <th>rotate_ma_3</th>\n",
       "      <th>pressure_ma_3</th>\n",
       "      <th>vibration_ma_3</th>\n",
       "      <th>volt_sd_3</th>\n",
       "      <th>rotate_sd_3</th>\n",
       "      <th>pressure_sd_3</th>\n",
       "      <th>vibration_sd_3</th>\n",
       "      <th>volt_ma_12</th>\n",
       "      <th>rotate_ma_12</th>\n",
       "      <th>...</th>\n",
       "      <th>m_4</th>\n",
       "      <th>dm_1</th>\n",
       "      <th>dm_2</th>\n",
       "      <th>dm_3</th>\n",
       "      <th>dm_4</th>\n",
       "      <th>df_1</th>\n",
       "      <th>df_2</th>\n",
       "      <th>df_3</th>\n",
       "      <th>df_4</th>\n",
       "      <th>age</th>\n",
       "    </tr>\n",
       "  </thead>\n",
       "  <tbody>\n",
       "    <tr>\n",
       "      <th>0</th>\n",
       "      <td>170.028993</td>\n",
       "      <td>449.533798</td>\n",
       "      <td>94.592122</td>\n",
       "      <td>40.893502</td>\n",
       "      <td>6.721032</td>\n",
       "      <td>67.849599</td>\n",
       "      <td>18.934956</td>\n",
       "      <td>5.874970</td>\n",
       "      <td>166.967614</td>\n",
       "      <td>429.934546</td>\n",
       "      <td>...</td>\n",
       "      <td>1.0</td>\n",
       "      <td>0.0</td>\n",
       "      <td>0.0</td>\n",
       "      <td>0.0</td>\n",
       "      <td>0.0</td>\n",
       "      <td>0.0</td>\n",
       "      <td>0.0</td>\n",
       "      <td>0.0</td>\n",
       "      <td>0.0</td>\n",
       "      <td>18</td>\n",
       "    </tr>\n",
       "    <tr>\n",
       "      <th>1</th>\n",
       "      <td>164.192565</td>\n",
       "      <td>403.949857</td>\n",
       "      <td>105.687417</td>\n",
       "      <td>34.255891</td>\n",
       "      <td>7.596570</td>\n",
       "      <td>50.120452</td>\n",
       "      <td>8.555032</td>\n",
       "      <td>7.662229</td>\n",
       "      <td>166.967614</td>\n",
       "      <td>429.934546</td>\n",
       "      <td>...</td>\n",
       "      <td>0.0</td>\n",
       "      <td>3.0</td>\n",
       "      <td>3.0</td>\n",
       "      <td>3.0</td>\n",
       "      <td>3.0</td>\n",
       "      <td>3.0</td>\n",
       "      <td>3.0</td>\n",
       "      <td>3.0</td>\n",
       "      <td>3.0</td>\n",
       "      <td>18</td>\n",
       "    </tr>\n",
       "    <tr>\n",
       "      <th>2</th>\n",
       "      <td>168.134445</td>\n",
       "      <td>435.781707</td>\n",
       "      <td>107.793709</td>\n",
       "      <td>41.239405</td>\n",
       "      <td>10.124584</td>\n",
       "      <td>55.084734</td>\n",
       "      <td>5.909721</td>\n",
       "      <td>5.169304</td>\n",
       "      <td>166.967614</td>\n",
       "      <td>429.934546</td>\n",
       "      <td>...</td>\n",
       "      <td>0.0</td>\n",
       "      <td>6.0</td>\n",
       "      <td>6.0</td>\n",
       "      <td>6.0</td>\n",
       "      <td>6.0</td>\n",
       "      <td>6.0</td>\n",
       "      <td>6.0</td>\n",
       "      <td>6.0</td>\n",
       "      <td>6.0</td>\n",
       "      <td>18</td>\n",
       "    </tr>\n",
       "    <tr>\n",
       "      <th>3</th>\n",
       "      <td>165.514453</td>\n",
       "      <td>430.472823</td>\n",
       "      <td>101.703289</td>\n",
       "      <td>40.373739</td>\n",
       "      <td>4.673269</td>\n",
       "      <td>42.047278</td>\n",
       "      <td>4.554047</td>\n",
       "      <td>2.106108</td>\n",
       "      <td>166.967614</td>\n",
       "      <td>429.934546</td>\n",
       "      <td>...</td>\n",
       "      <td>0.0</td>\n",
       "      <td>9.0</td>\n",
       "      <td>9.0</td>\n",
       "      <td>9.0</td>\n",
       "      <td>9.0</td>\n",
       "      <td>9.0</td>\n",
       "      <td>9.0</td>\n",
       "      <td>9.0</td>\n",
       "      <td>9.0</td>\n",
       "      <td>18</td>\n",
       "    </tr>\n",
       "    <tr>\n",
       "      <th>4</th>\n",
       "      <td>168.809347</td>\n",
       "      <td>437.111120</td>\n",
       "      <td>90.911060</td>\n",
       "      <td>41.738542</td>\n",
       "      <td>14.752132</td>\n",
       "      <td>47.048609</td>\n",
       "      <td>4.244158</td>\n",
       "      <td>2.207884</td>\n",
       "      <td>166.662702</td>\n",
       "      <td>426.828877</td>\n",
       "      <td>...</td>\n",
       "      <td>0.0</td>\n",
       "      <td>12.0</td>\n",
       "      <td>12.0</td>\n",
       "      <td>12.0</td>\n",
       "      <td>12.0</td>\n",
       "      <td>12.0</td>\n",
       "      <td>12.0</td>\n",
       "      <td>12.0</td>\n",
       "      <td>12.0</td>\n",
       "      <td>18</td>\n",
       "    </tr>\n",
       "  </tbody>\n",
       "</table>\n",
       "<p>5 rows × 37 columns</p>\n",
       "</div>"
      ],
      "text/plain": [
       "    volt_ma_3  rotate_ma_3  pressure_ma_3  vibration_ma_3  volt_sd_3  \\\n",
       "0  170.028993  449.533798   94.592122      40.893502       6.721032    \n",
       "1  164.192565  403.949857   105.687417     34.255891       7.596570    \n",
       "2  168.134445  435.781707   107.793709     41.239405       10.124584   \n",
       "3  165.514453  430.472823   101.703289     40.373739       4.673269    \n",
       "4  168.809347  437.111120   90.911060      41.738542       14.752132   \n",
       "\n",
       "   rotate_sd_3  pressure_sd_3  vibration_sd_3  volt_ma_12  rotate_ma_12 ...   \\\n",
       "0  67.849599    18.934956      5.874970        166.967614  429.934546   ...    \n",
       "1  50.120452    8.555032       7.662229        166.967614  429.934546   ...    \n",
       "2  55.084734    5.909721       5.169304        166.967614  429.934546   ...    \n",
       "3  42.047278    4.554047       2.106108        166.967614  429.934546   ...    \n",
       "4  47.048609    4.244158       2.207884        166.662702  426.828877   ...    \n",
       "\n",
       "   m_4  dm_1  dm_2  dm_3  dm_4  df_1  df_2  df_3  df_4  age  \n",
       "0  1.0  0.0   0.0   0.0   0.0   0.0   0.0   0.0   0.0   18   \n",
       "1  0.0  3.0   3.0   3.0   3.0   3.0   3.0   3.0   3.0   18   \n",
       "2  0.0  6.0   6.0   6.0   6.0   6.0   6.0   6.0   6.0   18   \n",
       "3  0.0  9.0   9.0   9.0   9.0   9.0   9.0   9.0   9.0   18   \n",
       "4  0.0  12.0  12.0  12.0  12.0  12.0  12.0  12.0  12.0  18   \n",
       "\n",
       "[5 rows x 37 columns]"
      ]
     },
     "execution_count": 18,
     "metadata": {},
     "output_type": "execute_result"
    }
   ],
   "source": [
    "X_train.head()"
   ]
  },
  {
   "cell_type": "code",
   "execution_count": 19,
   "metadata": {},
   "outputs": [
    {
     "data": {
      "text/html": [
       "<div>\n",
       "<style scoped>\n",
       "    .dataframe tbody tr th:only-of-type {\n",
       "        vertical-align: middle;\n",
       "    }\n",
       "\n",
       "    .dataframe tbody tr th {\n",
       "        vertical-align: top;\n",
       "    }\n",
       "\n",
       "    .dataframe thead th {\n",
       "        text-align: right;\n",
       "    }\n",
       "</style>\n",
       "<table border=\"1\" class=\"dataframe\">\n",
       "  <thead>\n",
       "    <tr style=\"text-align: right;\">\n",
       "      <th></th>\n",
       "      <th>y_1</th>\n",
       "      <th>y_2</th>\n",
       "      <th>y_3</th>\n",
       "      <th>y_4</th>\n",
       "    </tr>\n",
       "  </thead>\n",
       "  <tbody>\n",
       "    <tr>\n",
       "      <th>0</th>\n",
       "      <td>0</td>\n",
       "      <td>0</td>\n",
       "      <td>0</td>\n",
       "      <td>0</td>\n",
       "    </tr>\n",
       "    <tr>\n",
       "      <th>1</th>\n",
       "      <td>0</td>\n",
       "      <td>0</td>\n",
       "      <td>0</td>\n",
       "      <td>0</td>\n",
       "    </tr>\n",
       "    <tr>\n",
       "      <th>2</th>\n",
       "      <td>0</td>\n",
       "      <td>0</td>\n",
       "      <td>0</td>\n",
       "      <td>0</td>\n",
       "    </tr>\n",
       "    <tr>\n",
       "      <th>3</th>\n",
       "      <td>0</td>\n",
       "      <td>0</td>\n",
       "      <td>0</td>\n",
       "      <td>0</td>\n",
       "    </tr>\n",
       "    <tr>\n",
       "      <th>4</th>\n",
       "      <td>0</td>\n",
       "      <td>0</td>\n",
       "      <td>0</td>\n",
       "      <td>0</td>\n",
       "    </tr>\n",
       "  </tbody>\n",
       "</table>\n",
       "</div>"
      ],
      "text/plain": [
       "   y_1  y_2  y_3  y_4\n",
       "0  0    0    0    0  \n",
       "1  0    0    0    0  \n",
       "2  0    0    0    0  \n",
       "3  0    0    0    0  \n",
       "4  0    0    0    0  "
      ]
     },
     "execution_count": 19,
     "metadata": {},
     "output_type": "execute_result"
    }
   ],
   "source": [
    "y_train.head()"
   ]
  },
  {
   "cell_type": "markdown",
   "metadata": {},
   "source": [
    "Here are the metrics we can choose to optimize our model over."
   ]
  },
  {
   "cell_type": "code",
   "execution_count": 20,
   "metadata": {},
   "outputs": [
    {
     "data": {
      "text/plain": [
       "{'AUC_weighted',\n",
       " 'accuracy',\n",
       " 'average_precision_score_weighted',\n",
       " 'balanced_accuracy',\n",
       " 'precision_score_weighted'}"
      ]
     },
     "execution_count": 20,
     "metadata": {},
     "output_type": "execute_result"
    }
   ],
   "source": [
    "azureml.train.automl.constants.Metric.CLASSIFICATION_PRIMARY_SET"
   ]
  },
  {
   "cell_type": "markdown",
   "metadata": {},
   "source": [
    "We now set up a configuration file for the automated ML training experiment. It contains details for how the experiment should run."
   ]
  },
  {
   "cell_type": "code",
   "execution_count": 21,
   "metadata": {},
   "outputs": [],
   "source": [
    "automl_config = AutoMLConfig(task='classification', \n",
    "                             preprocess=False,\n",
    "                             name=experiment_name,\n",
    "                             debug_log='automl_errors.log',\n",
    "                             primary_metric='AUC_weighted',\n",
    "                             max_time_sec=1200,\n",
    "                             iterations=2,\n",
    "                             n_cross_validations=2,\n",
    "                             verbosity=logging.INFO,\n",
    "                             X = X_train.values, # we convert from pandas to numpy arrays using .vaules\n",
    "                             y = y_train.values[:, 0], # we convert from pandas to numpy arrays using .vaules\n",
    "                             path=project_folder)"
   ]
  },
  {
   "cell_type": "markdown",
   "metadata": {},
   "source": [
    "## Run training experiment"
   ]
  },
  {
   "cell_type": "markdown",
   "metadata": {},
   "source": [
    "You can call the submit method on the experiment object and pass the run configuration. For Local runs the execution is synchronous. Depending on the data and number of iterations this can run for while.\n",
    "You will see the currently running iterations printing to the console."
   ]
  },
  {
   "cell_type": "code",
   "execution_count": 22,
   "metadata": {},
   "outputs": [
    {
     "name": "stdout",
     "output_type": "stream",
     "text": [
      "Parent Run ID: AutoML_a03293e1-66be-4d2e-8960-6d89f51dcef6\n",
      "***********************************************************************************************\n",
      "ITERATION: The iteration being evaluated.\n",
      "PIPELINE: A summary description of the pipeline being evaluated.\n",
      "DURATION: Time taken for the current iteration.\n",
      "METRIC: The result of computing score on the fitted pipeline.\n",
      "BEST: The best observed score thus far.\n",
      "***********************************************************************************************\n",
      "\n",
      " ITERATION     PIPELINE                               DURATION                METRIC      BEST\n",
      "         0      StandardScalerWrapper LogisticRegressi0:00:25.376682           0.969     0.969\n",
      "         1      MaxAbsScaler LightGBMClassifier       0:01:12.869259           0.993     0.993\n"
     ]
    }
   ],
   "source": [
    "local_run = experiment.submit(automl_config, show_output=True)"
   ]
  },
  {
   "cell_type": "markdown",
   "metadata": {},
   "source": [
    "## Retrieve the Best Model\n",
    "\n",
    "Below we select the best pipeline from our iterations. The *get_output* method on automl_classifier returns the best run and the fitted model for the last *fit* invocation. There are overloads on *get_output* that allow you to retrieve the best run and fitted model for *any* logged metric or a particular *iteration*."
   ]
  },
  {
   "cell_type": "code",
   "execution_count": 23,
   "metadata": {},
   "outputs": [],
   "source": [
    "best_run, fitted_model = local_run.get_output()"
   ]
  },
  {
   "cell_type": "code",
   "execution_count": 24,
   "metadata": {},
   "outputs": [
    {
     "data": {
      "text/plain": [
       "Pipeline(memory=None,\n",
       "     steps=[('MaxAbsScaler', MaxAbsScaler(copy=True)), ('LightGBMClassifier', <automl.client.core.common.model_wrappers.LightGBMClassifier object at 0x7fa7c8753c88>)])"
      ]
     },
     "execution_count": 24,
     "metadata": {},
     "output_type": "execute_result"
    }
   ],
   "source": [
    "fitted_model"
   ]
  },
  {
   "cell_type": "markdown",
   "metadata": {},
   "source": [
    "We can see from the above results that `StandardScalerWrapper` was used to scale the features and a `LightGBMClassifier` was chosen as the best model based on the metric we defined. This of course does NOT automatically also make it the best model in production, but choosing the right model for production is beyond the scope of this course so we will not address it here."
   ]
  },
  {
   "cell_type": "markdown",
   "metadata": {},
   "source": [
    "### Hands-on lab"
   ]
  },
  {
   "cell_type": "markdown",
   "metadata": {},
   "source": [
    "<div class=\"alert alert-info\">\n",
    "Uncomment and run the following cell and go to the link provided under Details Page. This links will take us to the Azure portal. Examine the content of the page. Can you find what resource group this resource is under? What kind of resource is it?\n",
    "</div>"
   ]
  },
  {
   "cell_type": "code",
   "execution_count": 25,
   "metadata": {},
   "outputs": [
    {
     "data": {
      "text/html": [
       "<table style=\"width:100%\"><tr><th>Experiment</th><th>Id</th><th>Type</th><th>Status</th><th>Details Page</th><th>Docs Page</th></tr><tr><td>pred-maint-automl</td><td>AutoML_a03293e1-66be-4d2e-8960-6d89f51dcef6_1</td><td></td><td>Completed</td><td><a href=\"https://mlworkspace.azure.ai/portal/subscriptions/507d3cfb-2fe3-47d6-8366-5e5cfed2dc8e/resourceGroups/ODL-ai-detect-anomalies-40451-01/providers/Microsoft.MachineLearningServices/workspaces/amitworkspace/experiments/pred-maint-automl/runs/AutoML_a03293e1-66be-4d2e-8960-6d89f51dcef6_1\" target=\"_blank\" rel=\"noopener\">Link to Azure Portal</a></td><td><a href=\"https://docs.microsoft.com/en-us/python/api/azureml-core/azureml.core.run.Run?view=azure-ml-py\" target=\"_blank\" rel=\"noopener\">Link to Documentation</a></td></tr></table>"
      ],
      "text/plain": [
       "Run(Experiment: pred-maint-automl,\n",
       "Id: AutoML_a03293e1-66be-4d2e-8960-6d89f51dcef6_1,\n",
       "Type: None,\n",
       "Status: Completed)"
      ]
     },
     "execution_count": 25,
     "metadata": {},
     "output_type": "execute_result"
    }
   ],
   "source": [
    " best_run"
   ]
  },
  {
   "cell_type": "markdown",
   "metadata": {},
   "source": [
    "<div class=\"alert alert-info\">\n",
    "In addition to choosing a good algorithm, the experiment also tuned hyper-parameters. So our model didn't just run with the default hyper-parameter values. Find out how we can get the chosen hyper-parameters from the `fitted_model` object. Describe the hyper-parameters you see. Which ones do you think are the most critical ones?\n",
    "</div>"
   ]
  },
  {
   "cell_type": "code",
   "execution_count": 26,
   "metadata": {},
   "outputs": [
    {
     "data": {
      "text/plain": [
       "Pipeline(memory=None,\n",
       "     steps=[('MaxAbsScaler', MaxAbsScaler(copy=True)), ('LightGBMClassifier', <automl.client.core.common.model_wrappers.LightGBMClassifier object at 0x7fa7c8753c88>)])"
      ]
     },
     "execution_count": 26,
     "metadata": {},
     "output_type": "execute_result"
    }
   ],
   "source": [
    "fitted_model"
   ]
  },
  {
   "cell_type": "markdown",
   "metadata": {},
   "source": [
    "### End of lab"
   ]
  },
  {
   "cell_type": "markdown",
   "metadata": {},
   "source": [
    "## Manually train selected model (optional - only as a sanity check)"
   ]
  },
  {
   "cell_type": "markdown",
   "metadata": {},
   "source": [
    "With the following Python snippet, we can take the information above and store the hyper-parameters for the chosen scaler and chosen model into separate dictionaries we call `scaler_params` and `model_params`."
   ]
  },
  {
   "cell_type": "code",
   "execution_count": 27,
   "metadata": {},
   "outputs": [],
   "source": [
    "import re\n",
    "\n",
    "params = re.findall(r\"StandardScalerWrapper__\\w+\", \" \".join(fitted_model.get_params().keys()))\n",
    "vals = [fitted_model.get_params()[k] for k in params]\n",
    "keys = [re.split(\"__\", p)[1] for p in params]\n",
    "\n",
    "scaler_params = {k:v for k,v in zip(keys, vals)}\n",
    "\n",
    "params = re.findall(r\"LightGBMClassifier__\\w+\", \" \".join(fitted_model.get_params().keys()))\n",
    "vals = [fitted_model.get_params()[k] for k in params]\n",
    "keys = [re.split(\"__\", p)[1] for p in params]\n",
    "\n",
    "model_params = {k:v for k,v in zip(keys, vals)}"
   ]
  },
  {
   "cell_type": "markdown",
   "metadata": {},
   "source": [
    "### Hands-on lab"
   ]
  },
  {
   "cell_type": "markdown",
   "metadata": {},
   "source": [
    "<div class=\"alert alert-info\">\n",
    "Let's now re-create the model that we found above by passing the parameters directly to the scaler and the algorithm. We already have our model, so there's no need to do this other than as a sanity check. Train a `LightGBMClassifier` (using `model_params`) after using `StandardScaler` (with `scaler_params`) to rescale the data. You can do both in a single line of code by using `Pipeline`. Please add your code to the chunk below:\n",
    "</div>"
   ]
  },
  {
   "cell_type": "code",
   "execution_count": 28,
   "metadata": {},
   "outputs": [],
   "source": [
    "from sklearn.pipeline import Pipeline\n",
    "from sklearn.preprocessing import StandardScaler\n",
    "from azureml.train.automl.model_wrappers import LightGBMClassifier\n",
    "\n",
    "## YOUR CODE GOES HERE (manual_model = Pipeline(...))\n",
    "\n",
    "## YOUR CODE GOES HERE (train the model on the data)\n",
    "## YOUR CODE GOES HERE (score the test data with the trained model)"
   ]
  },
  {
   "cell_type": "code",
   "execution_count": 29,
   "metadata": {},
   "outputs": [],
   "source": [
    "# %load ../solutions/train_manually.py\n",
    "from sklearn.pipeline import Pipeline\n",
    "from sklearn.preprocessing import StandardScaler\n",
    "from azureml.train.automl.model_wrappers import LightGBMClassifier\n",
    "\n",
    "manual_model = Pipeline(memory=None, steps=[('StandardScaler', StandardScaler(**scaler_params)), ('LightGBMClassifier', LightGBMClassifier(**model_params))])\n",
    "\n",
    "manual_model.fit(X_train.values, y_train.values[:, 0])\n",
    "y_pred = manual_model.predict(X_test)"
   ]
  },
  {
   "cell_type": "markdown",
   "metadata": {},
   "source": [
    "<div class=\"alert alert-info\">\n",
    "We saw in the above code snippet how we can re-create the same model that automated ML gave us. Print the confusion matrix to see counts for correct classifications and mis-classified examples.\n",
    "</div>"
   ]
  },
  {
   "cell_type": "code",
   "execution_count": 30,
   "metadata": {},
   "outputs": [
    {
     "data": {
      "text/plain": [
       "array([[61903,   119],\n",
       "       [  157,   421]])"
      ]
     },
     "execution_count": 30,
     "metadata": {},
     "output_type": "execute_result"
    }
   ],
   "source": [
    "# %load ../solutions/confusion_matrix_y1.py\n",
    "confusion_matrix(y_test.values[:, 0], y_pred)"
   ]
  },
  {
   "cell_type": "markdown",
   "metadata": {},
   "source": [
    "### End of lab"
   ]
  },
  {
   "cell_type": "markdown",
   "metadata": {},
   "source": [
    "## Score and evaluate the chosen model"
   ]
  },
  {
   "cell_type": "markdown",
   "metadata": {},
   "source": [
    "In the last section we recreated the model generated by the automated ML experiment. This was just a sanity check to make sure that we get the same model. To see that we do, let's now just pick the best model returned by the experiment and use it to get predictions for the test data. This is simply done by replacing `manual_model.predict` with `fitted_model.predict`."
   ]
  },
  {
   "cell_type": "code",
   "execution_count": 31,
   "metadata": {},
   "outputs": [],
   "source": [
    "y_pred = fitted_model.predict(X_test)"
   ]
  },
  {
   "cell_type": "markdown",
   "metadata": {},
   "source": [
    "We should get the same confusion matrix we did in the section above."
   ]
  },
  {
   "cell_type": "code",
   "execution_count": 32,
   "metadata": {},
   "outputs": [
    {
     "data": {
      "text/plain": [
       "array([[61901,   121],\n",
       "       [  170,   408]])"
      ]
     },
     "execution_count": 32,
     "metadata": {},
     "output_type": "execute_result"
    }
   ],
   "source": [
    "confusion_matrix(y_test.values[:, 0], y_pred)"
   ]
  },
  {
   "cell_type": "markdown",
   "metadata": {},
   "source": [
    "We use `classification_report` to automatically calculate precision, recall, and the F-1 score from the confusion matrix above."
   ]
  },
  {
   "cell_type": "code",
   "execution_count": 33,
   "metadata": {},
   "outputs": [
    {
     "name": "stdout",
     "output_type": "stream",
     "text": [
      "             precision    recall  f1-score   support\n",
      "\n",
      "          0       1.00      1.00      1.00     62022\n",
      "          1       0.77      0.71      0.74       578\n",
      "\n",
      "avg / total       1.00      1.00      1.00     62600\n",
      "\n"
     ]
    }
   ],
   "source": [
    "cl_report = classification_report(y_test.values[:, 0], y_pred)\n",
    "print(cl_report)"
   ]
  },
  {
   "cell_type": "markdown",
   "metadata": {},
   "source": [
    "The AUC is just the area under the ROC curve shown here:"
   ]
  },
  {
   "cell_type": "code",
   "execution_count": 34,
   "metadata": {},
   "outputs": [
    {
     "data": {
      "image/png": "[encoded data removed]",
      "text/plain": [
       "<Figure size 432x288 with 1 Axes>"
      ]
     },
     "metadata": {
      "needs_background": "light"
     },
     "output_type": "display_data"
    }
   ],
   "source": [
    "from sklearn.metrics import auc, roc_curve\n",
    "fpr, tpr, thresholds = roc_curve(y_test.values[:, 0], y_pred)\n",
    "roc_auc = auc(fpr, tpr)\n",
    "\n",
    "import matplotlib.pyplot as plt\n",
    "plt.plot(fpr, tpr, 'b', label = 'AUC = {0:.2f}'.format(roc_auc))\n",
    "plt.legend(loc = 'lower right')\n",
    "plt.plot([0, 1], [0, 1],'r--')\n",
    "plt.xlim([0, 1])\n",
    "plt.ylim([0, 1])\n",
    "plt.ylabel('True Positive Rate')\n",
    "plt.xlabel('False Positive Rate')\n",
    "plt.show()"
   ]
  },
  {
   "cell_type": "markdown",
   "metadata": {},
   "source": [
    "## Register fitted model for deployment"
   ]
  },
  {
   "cell_type": "markdown",
   "metadata": {},
   "source": [
    "Now that we have a model we're happy with, we register it to our Azure ML account. This will be the first step toward model management and deployment, which we cover in the next Notebook. Registered models can also be loaded into other workspaces."
   ]
  },
  {
   "cell_type": "code",
   "execution_count": 35,
   "metadata": {},
   "outputs": [
    {
     "name": "stdout",
     "output_type": "stream",
     "text": [
      "Registering model AutoMLa03293e16best\n"
     ]
    },
    {
     "data": {
      "text/plain": [
       "'AutoMLa03293e16best'"
      ]
     },
     "execution_count": 35,
     "metadata": {},
     "output_type": "execute_result"
    }
   ],
   "source": [
    "description = 'automated ML PdM (predict y_1)'\n",
    "tags = None\n",
    "model = local_run.register_model(description=description, tags=tags)\n",
    "local_run.model_id # Use this id to deploy the model as a web service in Azur"
   ]
  },
  {
   "cell_type": "markdown",
   "metadata": {},
   "source": [
    "Optionally, we can also take the model and save it on disk as a pickle file, as shown here:"
   ]
  },
  {
   "cell_type": "code",
   "execution_count": 36,
   "metadata": {},
   "outputs": [
    {
     "data": {
      "text/plain": [
       "['model.pkl']"
      ]
     },
     "execution_count": 36,
     "metadata": {},
     "output_type": "execute_result"
    }
   ],
   "source": [
    "from sklearn.externals import joblib\n",
    "joblib.dump(value=fitted_model, filename='model.pkl')"
   ]
  },
  {
   "cell_type": "markdown",
   "metadata": {},
   "source": [
    "### Hands-on lab"
   ]
  },
  {
   "cell_type": "markdown",
   "metadata": {},
   "source": [
    "<div class=\"alert alert-info\">\n",
    "So far we used automated ML to automatically train a classification model for only one of the four failure types, namely `y_1`. Write a loop to use automated ML to train, score and evaluate and finally register a classification model for `y_2`, `y_3` and `y_4`. In each case, compare the evaluation metrics we obtain to the ones we obtained in the previous Notebook when we hand-trained a model.\n",
    "</div>"
   ]
  },
  {
   "cell_type": "code",
   "execution_count": 37,
   "metadata": {},
   "outputs": [],
   "source": [
    "# all_output = {'y_1': {'local_run': local_run, 'model': model, 'cl_report': cl_report}}\n",
    "\n",
    "# for i in range(1, 4): ## loop over each target class\n",
    "#     print(\"Running automl on y_\" + str(i+1))\n",
    "#     ## YOUR CODE GOES HERE (modify the config file to point to the right target class)\n",
    "#     ## YOUR CODE GOES HERE (submit the automated ML experiment)\n",
    "#     ## YOUR CODE GOES HERE (extract the best model)\n",
    "#     ## YOUR CODE GOES HERE (predict on the test data)\n",
    "#     ## YOUR CODE GOES HERE (find the classification report for the best model and add it to y_report)\n",
    "#     ## YOUR CODE GOES HERE (add results to all_output)\n",
    "#     ## YOUR CODE GOES HERE (register the final model)"
   ]
  },
  {
   "cell_type": "code",
   "execution_count": 38,
   "metadata": {},
   "outputs": [
    {
     "name": "stdout",
     "output_type": "stream",
     "text": [
      "Running automl on y_2\n",
      "Parent Run ID: AutoML_fc2883b6-d432-456c-a9f3-e6beb99c7da1\n",
      "***********************************************************************************************\n",
      "ITERATION: The iteration being evaluated.\n",
      "PIPELINE: A summary description of the pipeline being evaluated.\n",
      "DURATION: Time taken for the current iteration.\n",
      "METRIC: The result of computing score on the fitted pipeline.\n",
      "BEST: The best observed score thus far.\n",
      "***********************************************************************************************\n",
      "\n",
      " ITERATION     PIPELINE                               DURATION                METRIC      BEST\n",
      "         0      MaxAbsScaler LightGBMClassifier       0:00:13.454470           0.992     0.992\n",
      "         1      RobustScaler GradientBoostingClassifie0:01:10.195047           0.988     0.992\n",
      "             precision    recall  f1-score   support\n",
      "\n",
      "          0       0.99      1.00      0.99     61610\n",
      "          1       0.90      0.10      0.18       990\n",
      "\n",
      "avg / total       0.98      0.99      0.98     62600\n",
      "\n",
      "Registering model AutoMLfc2883b6dbest\n",
      "Running automl on y_3\n",
      "Parent Run ID: AutoML_ca96c11f-c713-4574-9b1b-9ea72d506a44\n",
      "***********************************************************************************************\n",
      "ITERATION: The iteration being evaluated.\n",
      "PIPELINE: A summary description of the pipeline being evaluated.\n",
      "DURATION: Time taken for the current iteration.\n",
      "METRIC: The result of computing score on the fitted pipeline.\n",
      "BEST: The best observed score thus far.\n",
      "***********************************************************************************************\n",
      "\n",
      " ITERATION     PIPELINE                               DURATION                METRIC      BEST\n",
      "         0      MaxAbsScaler LightGBMClassifier       0:00:12.313974           0.997     0.997\n",
      "         1      StandardScalerWrapper LightGBMClassifi0:00:13.501903           0.984     0.997\n",
      "             precision    recall  f1-score   support\n",
      "\n",
      "          0       0.99      1.00      1.00     62192\n",
      "          1       1.00      0.01      0.02       408\n",
      "\n",
      "avg / total       0.99      0.99      0.99     62600\n",
      "\n",
      "Registering model AutoMLca96c11fcbest\n",
      "Running automl on y_4\n",
      "Parent Run ID: AutoML_3aeb7d27-4bba-4fec-842d-ba2b23ae0943\n",
      "***********************************************************************************************\n",
      "ITERATION: The iteration being evaluated.\n",
      "PIPELINE: A summary description of the pipeline being evaluated.\n",
      "DURATION: Time taken for the current iteration.\n",
      "METRIC: The result of computing score on the fitted pipeline.\n",
      "BEST: The best observed score thus far.\n",
      "***********************************************************************************************\n",
      "\n",
      " ITERATION     PIPELINE                               DURATION                METRIC      BEST\n",
      "         0      MaxAbsScaler RandomForestClassifier   0:19:25.309279           0.991     0.991\n",
      "         1      RobustScaler LightGBMClassifier       0:00:15.248374           0.995     0.995\n",
      "             precision    recall  f1-score   support\n",
      "\n",
      "          0       0.99      1.00      0.99     61971\n",
      "          1       0.00      0.00      0.00       629\n",
      "\n",
      "avg / total       0.98      0.99      0.98     62600\n",
      "\n",
      "Registering model AutoML3aeb7d274best\n"
     ]
    }
   ],
   "source": [
    "# %load ../solutions/automl_loop.py\n",
    "all_output = {'y_1': {'local_run': local_run, 'model': model, 'cl_report': cl_report}}\n",
    "\n",
    "for i in range(1, 4): ## loop over each target class\n",
    "    print(\"Running automl on y_\" + str(i+1))\n",
    "    automl_config.fit_params.update({'y': y_train.values[:, i]})\n",
    "    local_run = experiment.submit(automl_config, show_output=True)\n",
    "    best_run, fitted_model = local_run.get_output()\n",
    "    y_pred = fitted_model.predict(X_test)\n",
    "    cl_report = classification_report(y_test.values[:, i], y_pred)\n",
    "    print(cl_report)\n",
    "    all_output['y_' + str(i+1)] = {'local_run': local_run, 'cl_report': cl_report}\n",
    "    description = 'autometed ML PdM (predict y_{})'.format(str(i+1))\n",
    "    model = local_run.register_model(description=description, tags=None)"
   ]
  },
  {
   "cell_type": "markdown",
   "metadata": {},
   "source": [
    "<div class=\"alert alert-info\">\n",
    "NOTE: We can use automated ML to directly train a multi-class classification model instead of training many binary classification models. We will explore that in another Notebook.\n",
    "</div>"
   ]
  },
  {
   "cell_type": "markdown",
   "metadata": {},
   "source": [
    "### End of lab"
   ]
  },
  {
   "cell_type": "code",
   "execution_count": 39,
   "metadata": {},
   "outputs": [
    {
     "data": {
      "text/plain": [
       "{'y_1': {'local_run': Run(Experiment: pred-maint-automl,\n",
       "  Id: AutoML_a03293e1-66be-4d2e-8960-6d89f51dcef6,\n",
       "  Type: automl,\n",
       "  Status: Completed),\n",
       "  'model': <azureml.core.model.Model at 0x7fa7ee2ef4a8>,\n",
       "  'cl_report': '             precision    recall  f1-score   support\\n\\n          0       1.00      1.00      1.00     62022\\n          1       0.77      0.71      0.74       578\\n\\navg / total       1.00      1.00      1.00     62600\\n'},\n",
       " 'y_2': {'local_run': Run(Experiment: pred-maint-automl,\n",
       "  Id: AutoML_fc2883b6-d432-456c-a9f3-e6beb99c7da1,\n",
       "  Type: automl,\n",
       "  Status: Completed),\n",
       "  'cl_report': '             precision    recall  f1-score   support\\n\\n          0       0.99      1.00      0.99     61610\\n          1       0.90      0.10      0.18       990\\n\\navg / total       0.98      0.99      0.98     62600\\n'},\n",
       " 'y_3': {'local_run': Run(Experiment: pred-maint-automl,\n",
       "  Id: AutoML_ca96c11f-c713-4574-9b1b-9ea72d506a44,\n",
       "  Type: automl,\n",
       "  Status: Completed),\n",
       "  'cl_report': '             precision    recall  f1-score   support\\n\\n          0       0.99      1.00      1.00     62192\\n          1       1.00      0.01      0.02       408\\n\\navg / total       0.99      0.99      0.99     62600\\n'},\n",
       " 'y_4': {'local_run': Run(Experiment: pred-maint-automl,\n",
       "  Id: AutoML_3aeb7d27-4bba-4fec-842d-ba2b23ae0943,\n",
       "  Type: automl,\n",
       "  Status: Completed),\n",
       "  'cl_report': '             precision    recall  f1-score   support\\n\\n          0       0.99      1.00      0.99     61971\\n          1       0.00      0.00      0.00       629\\n\\navg / total       0.98      0.99      0.98     62600\\n'}}"
      ]
     },
     "execution_count": 39,
     "metadata": {},
     "output_type": "execute_result"
    }
   ],
   "source": [
    "all_output"
   ]
  },
  {
   "cell_type": "markdown",
   "metadata": {},
   "source": [
    "# The end"
   ]
  },
  {
   "cell_type": "markdown",
   "metadata": {},
   "source": [
    "Copyright (c) Microsoft Corporation. All rights reserved.\n",
    "\n",
    "Licensed under the MIT License."
   ]
  }
 ],
 "metadata": {
  "kernelspec": {
   "display_name": "Python [conda env:py36]",
   "language": "python",
   "name": "conda-env-py36-py"
  },
  "language_info": {
   "codemirror_mode": {
    "name": "ipython",
    "version": 3
   },
   "file_extension": ".py",
   "mimetype": "text/x-python",
   "name": "python",
   "nbconvert_exporter": "python",
   "pygments_lexer": "ipython3",
   "version": "3.6.6"
  },
  "toc": {
   "base_numbering": 1,
   "nav_menu": {},
   "number_sections": true,
   "sideBar": true,
   "skip_h1_title": false,
   "title_cell": "Table of Contents",
   "title_sidebar": "Contents",
   "toc_cell": false,
   "toc_position": {},
   "toc_section_display": true,
   "toc_window_display": false
  }
 },
 "nbformat": 4,
 "nbformat_minor": 2
}
