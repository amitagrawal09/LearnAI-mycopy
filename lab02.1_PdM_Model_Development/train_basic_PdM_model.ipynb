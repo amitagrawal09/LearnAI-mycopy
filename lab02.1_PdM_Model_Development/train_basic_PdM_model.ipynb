{
 "cells": [
  {
   "cell_type": "markdown",
   "metadata": {},
   "source": [
    "Copyright (c) Microsoft Corporation. All rights reserved.\n",
    "\n",
    "Licensed under the MIT License."
   ]
  },
  {
   "cell_type": "markdown",
   "metadata": {},
   "source": [
    "# Building a basic predictive maintenance model"
   ]
  },
  {
   "cell_type": "markdown",
   "metadata": {},
   "source": [
    "Simply put, **predictive maintenance (PdM)** is about pre-emptively finding and fixing flaws in a system (as long as it collects data over time, using sensors for example) in order to reduce downtime. Given a failure in some component or part of the system, we are asking how likely it is that this would result in system failure and downtime soon after. "
   ]
  },
  {
   "cell_type": "markdown",
   "metadata": {},
   "source": [
    "## Loading and examining the data"
   ]
  },
  {
   "cell_type": "code",
   "execution_count": 1,
   "metadata": {},
   "outputs": [],
   "source": [
    "import os # standard lib for OS operations\n",
    "\n",
    "import urllib.request # for downloading data\n",
    "\n",
    "# plotting libs\n",
    "import matplotlib.pyplot as plt\n",
    "import seaborn as sns\n",
    "sns.set(rc={'figure.figsize':(15,8)}) # set figure size\n",
    "\n",
    "# ML classifiers and the like\n",
    "from sklearn.pipeline import Pipeline\n",
    "from sklearn.preprocessing import StandardScaler\n",
    "from sklearn.neural_network import MLPClassifier\n",
    "from sklearn import svm\n",
    "\n",
    "# metrics for evaluating results\n",
    "from sklearn.metrics import classification_report\n",
    "from sklearn.metrics import confusion_matrix\n",
    "from sklearn.metrics import roc_auc_score"
   ]
  },
  {
   "cell_type": "code",
   "execution_count": 2,
   "metadata": {},
   "outputs": [
    {
     "data": {
      "text/plain": [
       "('../data/anoms.csv', <http.client.HTTPMessage at 0x7f7c3d019278>)"
      ]
     },
     "execution_count": 2,
     "metadata": {},
     "output_type": "execute_result"
    }
   ],
   "source": [
    "os.makedirs('../data', exist_ok = True)\n",
    "container = 'https://sethmottstore.blob.core.windows.net/predmaint/'\n",
    "urllib.request.urlretrieve(container + 'telemetry.csv', filename='../data/telemetry.csv')\n",
    "urllib.request.urlretrieve(container + 'maintenance.csv', filename='../data/maintenance.csv')\n",
    "urllib.request.urlretrieve(container + 'machines.csv', filename='../data/machines.csv')\n",
    "urllib.request.urlretrieve(container + 'failures.csv', filename='../data/failures.csv')\n",
    "urllib.request.urlretrieve(container + 'errors.csv', filename='../data/errors.csv')\n",
    "urllib.request.urlretrieve(container + 'anoms.csv', filename='../data/anoms.csv')\n",
    "#urllib.request.urlretrieve(container + 'telemetry_w_anoms.csv', filename='../data/telemetry_w_anoms.csv')"
   ]
  },
  {
   "cell_type": "markdown",
   "metadata": {},
   "source": [
    "The relevant data sources for predictive maintenance include, but are not limited to:\n",
    "  - **Machine operating conditions:** data of the equipment health over time (usually sensor-based and streaming). We will refer to this data as machine *telemetry data*.\n",
    "  - **Error histor:** this data contains logs of *non-breaking* errors that happen thoughout a machine's operation and which parts of the machine they came from\n",
    "  - **Failure history:** this data contains logs of severe errors that broke the machine down (requiring maintenance to operate again) and parts of the machine that caused it\n",
    "  - **Maintenance/repair history:** what parts were fixed/replaced (as part of scheduled maintenance or due to failure) and when\n",
    "  - **Equipment metadata:** anything we know about equipment and parts (such as make, model, etc.)"
   ]
  },
  {
   "cell_type": "markdown",
   "metadata": {},
   "source": [
    "### Quiz"
   ]
  },
  {
   "cell_type": "markdown",
   "metadata": {},
   "source": [
    "<div class=\"alert alert-info\">\n",
    "Pick two of the use cases [mentioned earlier](#usecases), and provide examples of the four kinds of data needed to perform PdM for those use cases.\n",
    "</div>"
   ]
  },
  {
   "cell_type": "code",
   "execution_count": 3,
   "metadata": {},
   "outputs": [],
   "source": [
    "# write solution here"
   ]
  },
  {
   "cell_type": "markdown",
   "metadata": {},
   "source": [
    "From now on we will adopt to following consistent terminology to avoid confusion:\n",
    "\n",
    "- A system as a whole will be called a **machine** and its parts are called **components**\n",
    "- A machine can experience **errors** when anomalies happen. Errors do NOT result in shutdown, and they are NOT tied to any particular components, but they can cause one or several component to *eventually* fail.\n",
    "- A machine can experience **failure** when one of its components shuts down. This requires the component to be replaced before the machine can be operational again.\n",
    "- For our purposes, **maintenance** means a component was replaced. This can be either as part of a routine schedule or because the component failed (prior to its scheduled maintenance)."
   ]
  },
  {
   "cell_type": "markdown",
   "metadata": {},
   "source": [
    "Let's now begin loading all the data and looking at the kind of information it contains. We begin with the telemetry data."
   ]
  },
  {
   "cell_type": "code",
   "execution_count": 4,
   "metadata": {},
   "outputs": [
    {
     "data": {
      "text/html": [
       "<div>\n",
       "<style scoped>\n",
       "    .dataframe tbody tr th:only-of-type {\n",
       "        vertical-align: middle;\n",
       "    }\n",
       "\n",
       "    .dataframe tbody tr th {\n",
       "        vertical-align: top;\n",
       "    }\n",
       "\n",
       "    .dataframe thead th {\n",
       "        text-align: right;\n",
       "    }\n",
       "</style>\n",
       "<table border=\"1\" class=\"dataframe\">\n",
       "  <thead>\n",
       "    <tr style=\"text-align: right;\">\n",
       "      <th></th>\n",
       "      <th>datetime</th>\n",
       "      <th>machineID</th>\n",
       "      <th>volt</th>\n",
       "      <th>rotate</th>\n",
       "      <th>pressure</th>\n",
       "      <th>vibration</th>\n",
       "    </tr>\n",
       "  </thead>\n",
       "  <tbody>\n",
       "    <tr>\n",
       "      <th>0</th>\n",
       "      <td>2015-01-01 06:00:00</td>\n",
       "      <td>1</td>\n",
       "      <td>176.217853</td>\n",
       "      <td>418.504078</td>\n",
       "      <td>113.077935</td>\n",
       "      <td>45.087686</td>\n",
       "    </tr>\n",
       "    <tr>\n",
       "      <th>1</th>\n",
       "      <td>2015-01-01 07:00:00</td>\n",
       "      <td>1</td>\n",
       "      <td>162.879223</td>\n",
       "      <td>402.747490</td>\n",
       "      <td>95.460525</td>\n",
       "      <td>43.413973</td>\n",
       "    </tr>\n",
       "    <tr>\n",
       "      <th>2</th>\n",
       "      <td>2015-01-01 08:00:00</td>\n",
       "      <td>1</td>\n",
       "      <td>170.989902</td>\n",
       "      <td>527.349825</td>\n",
       "      <td>75.237905</td>\n",
       "      <td>34.178847</td>\n",
       "    </tr>\n",
       "    <tr>\n",
       "      <th>3</th>\n",
       "      <td>2015-01-01 09:00:00</td>\n",
       "      <td>1</td>\n",
       "      <td>162.462833</td>\n",
       "      <td>346.149335</td>\n",
       "      <td>109.248561</td>\n",
       "      <td>41.122144</td>\n",
       "    </tr>\n",
       "    <tr>\n",
       "      <th>4</th>\n",
       "      <td>2015-01-01 10:00:00</td>\n",
       "      <td>1</td>\n",
       "      <td>157.610021</td>\n",
       "      <td>435.376873</td>\n",
       "      <td>111.886648</td>\n",
       "      <td>25.990511</td>\n",
       "    </tr>\n",
       "  </tbody>\n",
       "</table>\n",
       "</div>"
      ],
      "text/plain": [
       "             datetime  machineID        volt      rotate    pressure  \\\n",
       "0 2015-01-01 06:00:00          1  176.217853  418.504078  113.077935   \n",
       "1 2015-01-01 07:00:00          1  162.879223  402.747490   95.460525   \n",
       "2 2015-01-01 08:00:00          1  170.989902  527.349825   75.237905   \n",
       "3 2015-01-01 09:00:00          1  162.462833  346.149335  109.248561   \n",
       "4 2015-01-01 10:00:00          1  157.610021  435.376873  111.886648   \n",
       "\n",
       "   vibration  \n",
       "0  45.087686  \n",
       "1  43.413973  \n",
       "2  34.178847  \n",
       "3  41.122144  \n",
       "4  25.990511  "
      ]
     },
     "execution_count": 4,
     "metadata": {},
     "output_type": "execute_result"
    }
   ],
   "source": [
    "import pandas as pd\n",
    "\n",
    "df_telemetry = pd.read_csv('../data/telemetry.csv', header=0)\n",
    "df_telemetry['datetime'] = pd.to_datetime(df_telemetry['datetime'], format=\"%m/%d/%Y %I:%M:%S %p\")\n",
    "df_telemetry.head()"
   ]
  },
  {
   "cell_type": "markdown",
   "metadata": {},
   "source": [
    "Here's an example of the voltage for one machine over time."
   ]
  },
  {
   "cell_type": "code",
   "execution_count": 5,
   "metadata": {},
   "outputs": [
    {
     "data": {
      "image/png": "[encoded data removed]",
      "text/plain": [
       "<Figure size 432x288 with 1 Axes>"
      ]
     },
     "metadata": {
      "needs_background": "light"
     },
     "output_type": "display_data"
    }
   ],
   "source": [
    "ax = sns.lineplot(x=\"datetime\", y=\"volt\", data=df_telemetry.loc[df_telemetry['machineID'] == 1, ])"
   ]
  },
  {
   "cell_type": "markdown",
   "metadata": {},
   "source": [
    "Next we have the error logs, which contains information about **non-breaking** errors that happened over the course of the machine running."
   ]
  },
  {
   "cell_type": "code",
   "execution_count": 6,
   "metadata": {},
   "outputs": [
    {
     "data": {
      "text/html": [
       "<div>\n",
       "<style scoped>\n",
       "    .dataframe tbody tr th:only-of-type {\n",
       "        vertical-align: middle;\n",
       "    }\n",
       "\n",
       "    .dataframe tbody tr th {\n",
       "        vertical-align: top;\n",
       "    }\n",
       "\n",
       "    .dataframe thead th {\n",
       "        text-align: right;\n",
       "    }\n",
       "</style>\n",
       "<table border=\"1\" class=\"dataframe\">\n",
       "  <thead>\n",
       "    <tr style=\"text-align: right;\">\n",
       "      <th></th>\n",
       "      <th>datetime</th>\n",
       "      <th>machineID</th>\n",
       "      <th>errorID</th>\n",
       "    </tr>\n",
       "  </thead>\n",
       "  <tbody>\n",
       "    <tr>\n",
       "      <th>0</th>\n",
       "      <td>2015-01-16 23:00:00</td>\n",
       "      <td>1</td>\n",
       "      <td>volt</td>\n",
       "    </tr>\n",
       "    <tr>\n",
       "      <th>1</th>\n",
       "      <td>2015-01-17 00:00:00</td>\n",
       "      <td>1</td>\n",
       "      <td>volt</td>\n",
       "    </tr>\n",
       "    <tr>\n",
       "      <th>2</th>\n",
       "      <td>2015-01-17 01:00:00</td>\n",
       "      <td>1</td>\n",
       "      <td>volt</td>\n",
       "    </tr>\n",
       "    <tr>\n",
       "      <th>3</th>\n",
       "      <td>2015-01-17 02:00:00</td>\n",
       "      <td>1</td>\n",
       "      <td>volt</td>\n",
       "    </tr>\n",
       "    <tr>\n",
       "      <th>4</th>\n",
       "      <td>2015-01-17 03:00:00</td>\n",
       "      <td>1</td>\n",
       "      <td>volt</td>\n",
       "    </tr>\n",
       "  </tbody>\n",
       "</table>\n",
       "</div>"
      ],
      "text/plain": [
       "             datetime  machineID errorID\n",
       "0 2015-01-16 23:00:00          1    volt\n",
       "1 2015-01-17 00:00:00          1    volt\n",
       "2 2015-01-17 01:00:00          1    volt\n",
       "3 2015-01-17 02:00:00          1    volt\n",
       "4 2015-01-17 03:00:00          1    volt"
      ]
     },
     "execution_count": 6,
     "metadata": {},
     "output_type": "execute_result"
    }
   ],
   "source": [
    "df_errors = pd.read_csv('../data/anoms.csv', header=0)\n",
    "df_errors['datetime'] = pd.to_datetime(df_errors['datetime'])\n",
    "df_errors.head()"
   ]
  },
  {
   "cell_type": "markdown",
   "metadata": {},
   "source": [
    "We used **anomaly detection** to find errors in the above dataset. There are four kinds of errors, one for each of the telemetry variables we collect, namely voltage, rotation, pressure and vibration. There is a lot to be said about the topic of error detection. For examples, the errors we have here are univariate, meaning that we detect anomalies separately for each telemetry variable. We can also try a multi-variate anomaly detection algorithm. In this case, we could use a method like principal component analysis (PCA) to detect anomalies on the most important principal component(s)."
   ]
  },
  {
   "cell_type": "markdown",
   "metadata": {},
   "source": [
    "### Lab"
   ]
  },
  {
   "cell_type": "markdown",
   "metadata": {
    "hide_input": false,
    "solution2": "hidden",
    "solution2_first": true
   },
   "source": [
    "<div class=\"alert alert-info\">\n",
    "A simple question we can ask is this: Do some errors happen more often in some machines than others? In other words, what is the distribution of errors across machines?\n",
    "\n",
    "Use `pd.crosstab` to answer the above quesion. Hint: use the `normalize` argument.\n",
    "</div>"
   ]
  },
  {
   "cell_type": "code",
   "execution_count": 7,
   "metadata": {},
   "outputs": [],
   "source": [
    "rep_dir = {\"volt\":\"error1\", \"rotate\":\"error2\",\"pressure\":\"error3\",\"vibration\":\"error4\"}\n",
    "df_errors = df_errors.replace({\"errorID\": rep_dir})"
   ]
  },
  {
   "cell_type": "code",
   "execution_count": 8,
   "metadata": {},
   "outputs": [],
   "source": [
    "ct = pd.crosstab(df_errors['machineID'], df_errors['errorID'], rownames=['device'], colnames=['error'], normalize='columns')"
   ]
  },
  {
   "cell_type": "code",
   "execution_count": 9,
   "metadata": {
    "hide_input": false,
    "solution2": "hidden"
   },
   "outputs": [
    {
     "name": "stdout",
     "output_type": "stream",
     "text": [
      "ct = pd.crosstab(df_errors['machineID'], df_errors['errorID'], rownames=['device'], colnames=['error'], normalize='columns')"
     ]
    }
   ],
   "source": [
    " %cat ../solutions/crosstab.py"
   ]
  },
  {
   "cell_type": "markdown",
   "metadata": {},
   "source": [
    "<div class=\"alert alert-info\">\n",
    "With so many machines, it may be easier to answer our question visually. We can pass the output of `pd.crosstab` directly to `sns.heatmap` to generate a heat map. How would you answer the question based on the heatmap below? Please provide examples.\n",
    "</div>"
   ]
  },
  {
   "cell_type": "code",
   "execution_count": 10,
   "metadata": {},
   "outputs": [
    {
     "data": {
      "image/png": "[encoded data removed]",
      "text/plain": [
       "<Figure size 432x288 with 2 Axes>"
      ]
     },
     "metadata": {
      "needs_background": "light"
     },
     "output_type": "display_data"
    }
   ],
   "source": [
    "ax = sns.heatmap(ct, xticklabels=2, yticklabels=False)"
   ]
  },
  {
   "cell_type": "code",
   "execution_count": 11,
   "metadata": {
    "scrolled": true
   },
   "outputs": [
    {
     "name": "stdout",
     "output_type": "stream",
     "text": [
      "ax = sns.heatmap(ct, xticklabels=2, yticklabels=False)"
     ]
    }
   ],
   "source": [
    "%cat ../solutions/heatmap.py"
   ]
  },
  {
   "cell_type": "markdown",
   "metadata": {},
   "source": [
    "### End of lab"
   ]
  },
  {
   "cell_type": "markdown",
   "metadata": {},
   "source": [
    "We can visualize the errors that happen on a given machine to get a sense of how they spread over time."
   ]
  },
  {
   "cell_type": "code",
   "execution_count": 12,
   "metadata": {
    "scrolled": true
   },
   "outputs": [
    {
     "data": {
      "image/png": "[encoded data removed]",
      "text/plain": [
       "<Figure size 432x288 with 1 Axes>"
      ]
     },
     "metadata": {
      "needs_background": "light"
     },
     "output_type": "display_data"
    }
   ],
   "source": [
    "df_subset = df_errors.loc[(df_errors.datetime.between('2015-01-01', '2016-01-01')) & (df_errors.machineID == 1)]\n",
    "df_subset.head()\n",
    "ax = sns.stripplot(x=\"datetime\", y=\"errorID\", data=df_subset, jitter=0)\n",
    "del df_subset"
   ]
  },
  {
   "cell_type": "markdown",
   "metadata": {},
   "source": [
    "Let's now move on to the dataset that logs failures. As we can see, failures are logged by component (although any component failing will result in the machine as a whole failing)."
   ]
  },
  {
   "cell_type": "code",
   "execution_count": 13,
   "metadata": {},
   "outputs": [
    {
     "data": {
      "text/html": [
       "<div>\n",
       "<style scoped>\n",
       "    .dataframe tbody tr th:only-of-type {\n",
       "        vertical-align: middle;\n",
       "    }\n",
       "\n",
       "    .dataframe tbody tr th {\n",
       "        vertical-align: top;\n",
       "    }\n",
       "\n",
       "    .dataframe thead th {\n",
       "        text-align: right;\n",
       "    }\n",
       "</style>\n",
       "<table border=\"1\" class=\"dataframe\">\n",
       "  <thead>\n",
       "    <tr style=\"text-align: right;\">\n",
       "      <th></th>\n",
       "      <th>datetime</th>\n",
       "      <th>machineID</th>\n",
       "      <th>failure</th>\n",
       "    </tr>\n",
       "  </thead>\n",
       "  <tbody>\n",
       "    <tr>\n",
       "      <th>0</th>\n",
       "      <td>2015-01-05 06:00:00</td>\n",
       "      <td>1</td>\n",
       "      <td>comp4</td>\n",
       "    </tr>\n",
       "    <tr>\n",
       "      <th>1</th>\n",
       "      <td>2015-03-06 06:00:00</td>\n",
       "      <td>1</td>\n",
       "      <td>comp1</td>\n",
       "    </tr>\n",
       "    <tr>\n",
       "      <th>2</th>\n",
       "      <td>2015-04-20 06:00:00</td>\n",
       "      <td>1</td>\n",
       "      <td>comp2</td>\n",
       "    </tr>\n",
       "    <tr>\n",
       "      <th>3</th>\n",
       "      <td>2015-06-19 06:00:00</td>\n",
       "      <td>1</td>\n",
       "      <td>comp4</td>\n",
       "    </tr>\n",
       "    <tr>\n",
       "      <th>4</th>\n",
       "      <td>2015-09-02 06:00:00</td>\n",
       "      <td>1</td>\n",
       "      <td>comp4</td>\n",
       "    </tr>\n",
       "  </tbody>\n",
       "</table>\n",
       "</div>"
      ],
      "text/plain": [
       "             datetime  machineID failure\n",
       "0 2015-01-05 06:00:00          1   comp4\n",
       "1 2015-03-06 06:00:00          1   comp1\n",
       "2 2015-04-20 06:00:00          1   comp2\n",
       "3 2015-06-19 06:00:00          1   comp4\n",
       "4 2015-09-02 06:00:00          1   comp4"
      ]
     },
     "execution_count": 13,
     "metadata": {},
     "output_type": "execute_result"
    }
   ],
   "source": [
    "df_fails = pd.read_csv('../data/failures.csv', header=0)\n",
    "df_fails['datetime'] = pd.to_datetime(df_fails['datetime'], format=\"%m/%d/%Y %I:%M:%S %p\")\n",
    "df_fails.head()"
   ]
  },
  {
   "cell_type": "markdown",
   "metadata": {},
   "source": [
    "Now we look at the dataset of maintenance log, which is also by component."
   ]
  },
  {
   "cell_type": "code",
   "execution_count": 14,
   "metadata": {},
   "outputs": [
    {
     "data": {
      "text/html": [
       "<div>\n",
       "<style scoped>\n",
       "    .dataframe tbody tr th:only-of-type {\n",
       "        vertical-align: middle;\n",
       "    }\n",
       "\n",
       "    .dataframe tbody tr th {\n",
       "        vertical-align: top;\n",
       "    }\n",
       "\n",
       "    .dataframe thead th {\n",
       "        text-align: right;\n",
       "    }\n",
       "</style>\n",
       "<table border=\"1\" class=\"dataframe\">\n",
       "  <thead>\n",
       "    <tr style=\"text-align: right;\">\n",
       "      <th></th>\n",
       "      <th>datetime</th>\n",
       "      <th>machineID</th>\n",
       "      <th>comp</th>\n",
       "    </tr>\n",
       "  </thead>\n",
       "  <tbody>\n",
       "    <tr>\n",
       "      <th>0</th>\n",
       "      <td>2014-06-01 06:00:00</td>\n",
       "      <td>1</td>\n",
       "      <td>comp2</td>\n",
       "    </tr>\n",
       "    <tr>\n",
       "      <th>1</th>\n",
       "      <td>2014-07-16 06:00:00</td>\n",
       "      <td>1</td>\n",
       "      <td>comp4</td>\n",
       "    </tr>\n",
       "    <tr>\n",
       "      <th>2</th>\n",
       "      <td>2014-07-31 06:00:00</td>\n",
       "      <td>1</td>\n",
       "      <td>comp3</td>\n",
       "    </tr>\n",
       "    <tr>\n",
       "      <th>3</th>\n",
       "      <td>2014-12-13 06:00:00</td>\n",
       "      <td>1</td>\n",
       "      <td>comp1</td>\n",
       "    </tr>\n",
       "    <tr>\n",
       "      <th>4</th>\n",
       "      <td>2015-01-05 06:00:00</td>\n",
       "      <td>1</td>\n",
       "      <td>comp4</td>\n",
       "    </tr>\n",
       "  </tbody>\n",
       "</table>\n",
       "</div>"
      ],
      "text/plain": [
       "             datetime  machineID   comp\n",
       "0 2014-06-01 06:00:00          1  comp2\n",
       "1 2014-07-16 06:00:00          1  comp4\n",
       "2 2014-07-31 06:00:00          1  comp3\n",
       "3 2014-12-13 06:00:00          1  comp1\n",
       "4 2015-01-05 06:00:00          1  comp4"
      ]
     },
     "execution_count": 14,
     "metadata": {},
     "output_type": "execute_result"
    }
   ],
   "source": [
    "df_maint = pd.read_csv('../data/maintenance.csv', header=0)\n",
    "df_maint['datetime'] = pd.to_datetime(df_maint['datetime'], format=\"%m/%d/%Y %I:%M:%S %p\")\n",
    "df_maint.head()"
   ]
  },
  {
   "cell_type": "markdown",
   "metadata": {},
   "source": [
    "### Lab"
   ]
  },
  {
   "cell_type": "markdown",
   "metadata": {
    "hide_input": false,
    "solution2": "hidden",
    "solution2_first": true
   },
   "source": [
    "<div class=\"alert alert-info\">\n",
    "For each component, find the percentage of replacements that are due to component failure (as opposed to scheduled maintenance).\n",
    "</div>"
   ]
  },
  {
   "cell_type": "code",
   "execution_count": 15,
   "metadata": {},
   "outputs": [
    {
     "data": {
      "text/html": [
       "<div>\n",
       "<style scoped>\n",
       "    .dataframe tbody tr th:only-of-type {\n",
       "        vertical-align: middle;\n",
       "    }\n",
       "\n",
       "    .dataframe tbody tr th {\n",
       "        vertical-align: top;\n",
       "    }\n",
       "\n",
       "    .dataframe thead th {\n",
       "        text-align: right;\n",
       "    }\n",
       "</style>\n",
       "<table border=\"1\" class=\"dataframe\">\n",
       "  <thead>\n",
       "    <tr style=\"text-align: right;\">\n",
       "      <th></th>\n",
       "      <th>replacements</th>\n",
       "      <th>failures</th>\n",
       "      <th>percent_due_to_failure</th>\n",
       "    </tr>\n",
       "  </thead>\n",
       "  <tbody>\n",
       "    <tr>\n",
       "      <th>comp1</th>\n",
       "      <td>804</td>\n",
       "      <td>192</td>\n",
       "      <td>0.238806</td>\n",
       "    </tr>\n",
       "    <tr>\n",
       "      <th>comp2</th>\n",
       "      <td>863</td>\n",
       "      <td>259</td>\n",
       "      <td>0.300116</td>\n",
       "    </tr>\n",
       "    <tr>\n",
       "      <th>comp3</th>\n",
       "      <td>808</td>\n",
       "      <td>131</td>\n",
       "      <td>0.162129</td>\n",
       "    </tr>\n",
       "    <tr>\n",
       "      <th>comp4</th>\n",
       "      <td>811</td>\n",
       "      <td>179</td>\n",
       "      <td>0.220715</td>\n",
       "    </tr>\n",
       "  </tbody>\n",
       "</table>\n",
       "</div>"
      ],
      "text/plain": [
       "       replacements  failures  percent_due_to_failure\n",
       "comp1           804       192                0.238806\n",
       "comp2           863       259                0.300116\n",
       "comp3           808       131                0.162129\n",
       "comp4           811       179                0.220715"
      ]
     },
     "execution_count": 15,
     "metadata": {},
     "output_type": "execute_result"
    }
   ],
   "source": [
    "df_counts = pd.DataFrame({'replacements' : df_maint.groupby(['comp']).count()['machineID'],\n",
    "                          'failures' : df_fails.groupby(['failure']).count()['machineID']})\n",
    "\n",
    "df_counts['percent_due_to_failure'] = df_counts['failures'] / df_counts['replacements']\n",
    "df_counts"
   ]
  },
  {
   "cell_type": "code",
   "execution_count": 16,
   "metadata": {
    "solution2": "hidden"
   },
   "outputs": [
    {
     "name": "stdout",
     "output_type": "stream",
     "text": [
      "df_counts = pd.DataFrame({'replacements' : df_maint.groupby(['comp']).count()['machineID'],\r\n",
      "                          'failures' : df_fails.groupby(['failure']).count()['machineID']})\r\n",
      "\r\n",
      "df_counts['percent_due_to_failure'] = df_counts['failures'] / df_counts['replacements']\r\n",
      "df_counts"
     ]
    }
   ],
   "source": [
    " %cat ../solutions/percent_replacements.py"
   ]
  },
  {
   "cell_type": "markdown",
   "metadata": {},
   "source": [
    "### End of lab"
   ]
  },
  {
   "cell_type": "markdown",
   "metadata": {},
   "source": [
    "We can obtain the same answer in a more detailed way by doing an **outer join** of the maintenance logs and the failure logs to see how many records matched and where they came from (in `pd.merge` we can use the `indicator=True` argument to get a column called `_merge` that indicates if the keys were present in the left, right, or both datasets."
   ]
  },
  {
   "cell_type": "code",
   "execution_count": 17,
   "metadata": {},
   "outputs": [
    {
     "data": {
      "text/html": [
       "<div>\n",
       "<style scoped>\n",
       "    .dataframe tbody tr th:only-of-type {\n",
       "        vertical-align: middle;\n",
       "    }\n",
       "\n",
       "    .dataframe tbody tr th {\n",
       "        vertical-align: top;\n",
       "    }\n",
       "\n",
       "    .dataframe thead th {\n",
       "        text-align: right;\n",
       "    }\n",
       "</style>\n",
       "<table border=\"1\" class=\"dataframe\">\n",
       "  <thead>\n",
       "    <tr style=\"text-align: right;\">\n",
       "      <th></th>\n",
       "      <th>datetime</th>\n",
       "      <th>machineID</th>\n",
       "      <th>comp</th>\n",
       "      <th>_merge</th>\n",
       "    </tr>\n",
       "  </thead>\n",
       "  <tbody>\n",
       "    <tr>\n",
       "      <th>0</th>\n",
       "      <td>2014-06-01 06:00:00</td>\n",
       "      <td>1</td>\n",
       "      <td>comp2</td>\n",
       "      <td>left_only</td>\n",
       "    </tr>\n",
       "    <tr>\n",
       "      <th>1</th>\n",
       "      <td>2014-07-16 06:00:00</td>\n",
       "      <td>1</td>\n",
       "      <td>comp4</td>\n",
       "      <td>left_only</td>\n",
       "    </tr>\n",
       "    <tr>\n",
       "      <th>2</th>\n",
       "      <td>2014-07-31 06:00:00</td>\n",
       "      <td>1</td>\n",
       "      <td>comp3</td>\n",
       "      <td>left_only</td>\n",
       "    </tr>\n",
       "    <tr>\n",
       "      <th>3</th>\n",
       "      <td>2014-12-13 06:00:00</td>\n",
       "      <td>1</td>\n",
       "      <td>comp1</td>\n",
       "      <td>left_only</td>\n",
       "    </tr>\n",
       "    <tr>\n",
       "      <th>4</th>\n",
       "      <td>2015-01-05 06:00:00</td>\n",
       "      <td>1</td>\n",
       "      <td>comp4</td>\n",
       "      <td>both</td>\n",
       "    </tr>\n",
       "  </tbody>\n",
       "</table>\n",
       "</div>"
      ],
      "text/plain": [
       "             datetime  machineID   comp     _merge\n",
       "0 2014-06-01 06:00:00          1  comp2  left_only\n",
       "1 2014-07-16 06:00:00          1  comp4  left_only\n",
       "2 2014-07-31 06:00:00          1  comp3  left_only\n",
       "3 2014-12-13 06:00:00          1  comp1  left_only\n",
       "4 2015-01-05 06:00:00          1  comp4       both"
      ]
     },
     "execution_count": 17,
     "metadata": {},
     "output_type": "execute_result"
    }
   ],
   "source": [
    "df_join = pd.merge(left=df_maint, right=df_fails.rename(columns={'failure':'comp'}), how = 'outer', indicator=True,\n",
    "         on=['datetime', 'machineID', 'comp'], validate='one_to_one')\n",
    "df_join.head()"
   ]
  },
  {
   "cell_type": "markdown",
   "metadata": {},
   "source": [
    "- If a record is present in the left dataset only, it represents a working component being replaced due to scheduled maintenance.\n",
    "- If a record is present in the right dataset only, it represents a failed component that was not replaced immediately. This case should be rare since it would result in downtime.\n",
    "- If a record is present in both datasets, it represents a failed component that was immediately replaced (we can also call this **un-**scheduled maintenance)."
   ]
  },
  {
   "cell_type": "markdown",
   "metadata": {},
   "source": [
    "We can run `pd.crosstab` to get counts for each of the above categories, broken up by component."
   ]
  },
  {
   "cell_type": "code",
   "execution_count": 18,
   "metadata": {},
   "outputs": [
    {
     "data": {
      "text/html": [
       "<div>\n",
       "<style scoped>\n",
       "    .dataframe tbody tr th:only-of-type {\n",
       "        vertical-align: middle;\n",
       "    }\n",
       "\n",
       "    .dataframe tbody tr th {\n",
       "        vertical-align: top;\n",
       "    }\n",
       "\n",
       "    .dataframe thead th {\n",
       "        text-align: right;\n",
       "    }\n",
       "</style>\n",
       "<table border=\"1\" class=\"dataframe\">\n",
       "  <thead>\n",
       "    <tr style=\"text-align: right;\">\n",
       "      <th>_merge</th>\n",
       "      <th>not_failed_but_replaced</th>\n",
       "      <th>failed_not_replaced</th>\n",
       "      <th>failed_and_replaced</th>\n",
       "      <th>All</th>\n",
       "    </tr>\n",
       "    <tr>\n",
       "      <th>comp</th>\n",
       "      <th></th>\n",
       "      <th></th>\n",
       "      <th></th>\n",
       "      <th></th>\n",
       "    </tr>\n",
       "  </thead>\n",
       "  <tbody>\n",
       "    <tr>\n",
       "      <th>comp1</th>\n",
       "      <td>621</td>\n",
       "      <td>9</td>\n",
       "      <td>183</td>\n",
       "      <td>813</td>\n",
       "    </tr>\n",
       "    <tr>\n",
       "      <th>comp2</th>\n",
       "      <td>607</td>\n",
       "      <td>3</td>\n",
       "      <td>256</td>\n",
       "      <td>866</td>\n",
       "    </tr>\n",
       "    <tr>\n",
       "      <th>comp3</th>\n",
       "      <td>680</td>\n",
       "      <td>3</td>\n",
       "      <td>128</td>\n",
       "      <td>811</td>\n",
       "    </tr>\n",
       "    <tr>\n",
       "      <th>comp4</th>\n",
       "      <td>635</td>\n",
       "      <td>3</td>\n",
       "      <td>176</td>\n",
       "      <td>814</td>\n",
       "    </tr>\n",
       "    <tr>\n",
       "      <th>All</th>\n",
       "      <td>2543</td>\n",
       "      <td>18</td>\n",
       "      <td>743</td>\n",
       "      <td>3304</td>\n",
       "    </tr>\n",
       "  </tbody>\n",
       "</table>\n",
       "</div>"
      ],
      "text/plain": [
       "_merge  not_failed_but_replaced  failed_not_replaced  failed_and_replaced  \\\n",
       "comp                                                                        \n",
       "comp1                       621                    9                  183   \n",
       "comp2                       607                    3                  256   \n",
       "comp3                       680                    3                  128   \n",
       "comp4                       635                    3                  176   \n",
       "All                        2543                   18                  743   \n",
       "\n",
       "_merge   All  \n",
       "comp          \n",
       "comp1    813  \n",
       "comp2    866  \n",
       "comp3    811  \n",
       "comp4    814  \n",
       "All     3304  "
      ]
     },
     "execution_count": 18,
     "metadata": {},
     "output_type": "execute_result"
    }
   ],
   "source": [
    "ct = pd.crosstab(df_join['comp'], df_join['_merge'], margins=True)\n",
    "ct.rename(columns={\"left_only\":\"not_failed_but_replaced\", \"right_only\":\"failed_not_replaced\", \"both\":\"failed_and_replaced\"})"
   ]
  },
  {
   "cell_type": "markdown",
   "metadata": {},
   "source": [
    "We can confirm that the second category is rare. This is usually the case in cases where downtime can result in significant costs."
   ]
  },
  {
   "cell_type": "markdown",
   "metadata": {},
   "source": [
    "The last dataset we look at is the machine metadata. In this case, we only have information about the model and age of the machine."
   ]
  },
  {
   "cell_type": "code",
   "execution_count": 19,
   "metadata": {},
   "outputs": [
    {
     "data": {
      "text/html": [
       "<div>\n",
       "<style scoped>\n",
       "    .dataframe tbody tr th:only-of-type {\n",
       "        vertical-align: middle;\n",
       "    }\n",
       "\n",
       "    .dataframe tbody tr th {\n",
       "        vertical-align: top;\n",
       "    }\n",
       "\n",
       "    .dataframe thead th {\n",
       "        text-align: right;\n",
       "    }\n",
       "</style>\n",
       "<table border=\"1\" class=\"dataframe\">\n",
       "  <thead>\n",
       "    <tr style=\"text-align: right;\">\n",
       "      <th></th>\n",
       "      <th>machineID</th>\n",
       "      <th>model</th>\n",
       "      <th>age</th>\n",
       "    </tr>\n",
       "  </thead>\n",
       "  <tbody>\n",
       "    <tr>\n",
       "      <th>0</th>\n",
       "      <td>1</td>\n",
       "      <td>model3</td>\n",
       "      <td>18</td>\n",
       "    </tr>\n",
       "    <tr>\n",
       "      <th>1</th>\n",
       "      <td>2</td>\n",
       "      <td>model4</td>\n",
       "      <td>7</td>\n",
       "    </tr>\n",
       "    <tr>\n",
       "      <th>2</th>\n",
       "      <td>3</td>\n",
       "      <td>model3</td>\n",
       "      <td>8</td>\n",
       "    </tr>\n",
       "    <tr>\n",
       "      <th>3</th>\n",
       "      <td>4</td>\n",
       "      <td>model3</td>\n",
       "      <td>7</td>\n",
       "    </tr>\n",
       "    <tr>\n",
       "      <th>4</th>\n",
       "      <td>5</td>\n",
       "      <td>model3</td>\n",
       "      <td>2</td>\n",
       "    </tr>\n",
       "  </tbody>\n",
       "</table>\n",
       "</div>"
      ],
      "text/plain": [
       "   machineID   model  age\n",
       "0          1  model3   18\n",
       "1          2  model4    7\n",
       "2          3  model3    8\n",
       "3          4  model3    7\n",
       "4          5  model3    2"
      ]
     },
     "execution_count": 19,
     "metadata": {},
     "output_type": "execute_result"
    }
   ],
   "source": [
    "df_machines = pd.read_csv('../data/machines.csv', header=0)\n",
    "df_machines.head()"
   ]
  },
  {
   "cell_type": "markdown",
   "metadata": {},
   "source": [
    "We are now ready to move on to the next phase, where we gradually combine our datasets into one dataset that will be used for modeling and contains the features we think will be useful."
   ]
  },
  {
   "cell_type": "markdown",
   "metadata": {},
   "source": [
    "## Feature engineering"
   ]
  },
  {
   "cell_type": "markdown",
   "metadata": {},
   "source": [
    "Our approach to getting the data ready for modeling will consist mainly of two things:\n",
    "\n",
    "- for the telemetry data, we get rolling aggregates (means and standard deviation) \n",
    "- for the error, failure and maintenance logs, we get obtain the number of hours since each of these events happened\n",
    "\n",
    "We then combine the result of the above two datasets into one, and add the machine metadata at the end. For the most part the feature engineering steps described above are relatively straight-forward, but in some cases we need to process the data in creative ways to get the results we want."
   ]
  },
  {
   "cell_type": "code",
   "execution_count": 21,
   "metadata": {},
   "outputs": [
    {
     "ename": "TypeError",
     "evalue": "'int' object is not subscriptable",
     "output_type": "error",
     "traceback": [
      "\u001b[0;31m---------------------------------------------------------------------------\u001b[0m",
      "\u001b[0;31mTypeError\u001b[0m                                 Traceback (most recent call last)",
      "\u001b[0;32m<ipython-input-21-4a15a16d16e2>\u001b[0m in \u001b[0;36m<module>\u001b[0;34m()\u001b[0m\n\u001b[1;32m      3\u001b[0m \u001b[0;31m# this will make it easier to automatically create features with the right column names\u001b[0m\u001b[0;34m\u001b[0m\u001b[0;34m\u001b[0m\u001b[0m\n\u001b[1;32m      4\u001b[0m \u001b[0mdf_errors\u001b[0m\u001b[0;34m[\u001b[0m\u001b[0;34m'error'\u001b[0m\u001b[0;34m]\u001b[0m \u001b[0;34m=\u001b[0m \u001b[0mdf_errors\u001b[0m\u001b[0;34m[\u001b[0m\u001b[0;34m'errorID'\u001b[0m\u001b[0;34m]\u001b[0m\u001b[0;34m.\u001b[0m\u001b[0mapply\u001b[0m\u001b[0;34m(\u001b[0m\u001b[0;32mlambda\u001b[0m \u001b[0mx\u001b[0m\u001b[0;34m:\u001b[0m \u001b[0mint\u001b[0m\u001b[0;34m(\u001b[0m\u001b[0mx\u001b[0m\u001b[0;34m[\u001b[0m\u001b[0;34m-\u001b[0m\u001b[0;36m1\u001b[0m\u001b[0;34m]\u001b[0m\u001b[0;34m)\u001b[0m\u001b[0;34m)\u001b[0m\u001b[0;34m\u001b[0m\u001b[0m\n\u001b[0;32m----> 5\u001b[0;31m \u001b[0mdf_maint\u001b[0m\u001b[0;34m[\u001b[0m\u001b[0;34m'comp'\u001b[0m\u001b[0;34m]\u001b[0m \u001b[0;34m=\u001b[0m \u001b[0mdf_maint\u001b[0m\u001b[0;34m[\u001b[0m\u001b[0;34m'comp'\u001b[0m\u001b[0;34m]\u001b[0m\u001b[0;34m.\u001b[0m\u001b[0mapply\u001b[0m\u001b[0;34m(\u001b[0m\u001b[0;32mlambda\u001b[0m \u001b[0mx\u001b[0m\u001b[0;34m:\u001b[0m \u001b[0mint\u001b[0m\u001b[0;34m(\u001b[0m\u001b[0mx\u001b[0m\u001b[0;34m[\u001b[0m\u001b[0;34m-\u001b[0m\u001b[0;36m1\u001b[0m\u001b[0;34m]\u001b[0m\u001b[0;34m)\u001b[0m\u001b[0;34m)\u001b[0m\u001b[0;34m\u001b[0m\u001b[0m\n\u001b[0m\u001b[1;32m      6\u001b[0m \u001b[0mdf_fails\u001b[0m\u001b[0;34m[\u001b[0m\u001b[0;34m'failure'\u001b[0m\u001b[0;34m]\u001b[0m \u001b[0;34m=\u001b[0m \u001b[0mdf_fails\u001b[0m\u001b[0;34m[\u001b[0m\u001b[0;34m'failure'\u001b[0m\u001b[0;34m]\u001b[0m\u001b[0;34m.\u001b[0m\u001b[0mapply\u001b[0m\u001b[0;34m(\u001b[0m\u001b[0;32mlambda\u001b[0m \u001b[0mx\u001b[0m\u001b[0;34m:\u001b[0m \u001b[0mint\u001b[0m\u001b[0;34m(\u001b[0m\u001b[0mx\u001b[0m\u001b[0;34m[\u001b[0m\u001b[0;34m-\u001b[0m\u001b[0;36m1\u001b[0m\u001b[0;34m]\u001b[0m\u001b[0;34m)\u001b[0m\u001b[0;34m)\u001b[0m\u001b[0;34m\u001b[0m\u001b[0m\n",
      "\u001b[0;32m/anaconda/envs/py36/lib/python3.6/site-packages/pandas/core/series.py\u001b[0m in \u001b[0;36mapply\u001b[0;34m(self, func, convert_dtype, args, **kwds)\u001b[0m\n\u001b[1;32m   3192\u001b[0m             \u001b[0;32melse\u001b[0m\u001b[0;34m:\u001b[0m\u001b[0;34m\u001b[0m\u001b[0m\n\u001b[1;32m   3193\u001b[0m                 \u001b[0mvalues\u001b[0m \u001b[0;34m=\u001b[0m \u001b[0mself\u001b[0m\u001b[0;34m.\u001b[0m\u001b[0mastype\u001b[0m\u001b[0;34m(\u001b[0m\u001b[0mobject\u001b[0m\u001b[0;34m)\u001b[0m\u001b[0;34m.\u001b[0m\u001b[0mvalues\u001b[0m\u001b[0;34m\u001b[0m\u001b[0m\n\u001b[0;32m-> 3194\u001b[0;31m                 \u001b[0mmapped\u001b[0m \u001b[0;34m=\u001b[0m \u001b[0mlib\u001b[0m\u001b[0;34m.\u001b[0m\u001b[0mmap_infer\u001b[0m\u001b[0;34m(\u001b[0m\u001b[0mvalues\u001b[0m\u001b[0;34m,\u001b[0m \u001b[0mf\u001b[0m\u001b[0;34m,\u001b[0m \u001b[0mconvert\u001b[0m\u001b[0;34m=\u001b[0m\u001b[0mconvert_dtype\u001b[0m\u001b[0;34m)\u001b[0m\u001b[0;34m\u001b[0m\u001b[0m\n\u001b[0m\u001b[1;32m   3195\u001b[0m \u001b[0;34m\u001b[0m\u001b[0m\n\u001b[1;32m   3196\u001b[0m         \u001b[0;32mif\u001b[0m \u001b[0mlen\u001b[0m\u001b[0;34m(\u001b[0m\u001b[0mmapped\u001b[0m\u001b[0;34m)\u001b[0m \u001b[0;32mand\u001b[0m \u001b[0misinstance\u001b[0m\u001b[0;34m(\u001b[0m\u001b[0mmapped\u001b[0m\u001b[0;34m[\u001b[0m\u001b[0;36m0\u001b[0m\u001b[0;34m]\u001b[0m\u001b[0;34m,\u001b[0m \u001b[0mSeries\u001b[0m\u001b[0;34m)\u001b[0m\u001b[0;34m:\u001b[0m\u001b[0;34m\u001b[0m\u001b[0m\n",
      "\u001b[0;32mpandas/_libs/src/inference.pyx\u001b[0m in \u001b[0;36mpandas._libs.lib.map_infer\u001b[0;34m()\u001b[0m\n",
      "\u001b[0;32m<ipython-input-21-4a15a16d16e2>\u001b[0m in \u001b[0;36m<lambda>\u001b[0;34m(x)\u001b[0m\n\u001b[1;32m      3\u001b[0m \u001b[0;31m# this will make it easier to automatically create features with the right column names\u001b[0m\u001b[0;34m\u001b[0m\u001b[0;34m\u001b[0m\u001b[0m\n\u001b[1;32m      4\u001b[0m \u001b[0mdf_errors\u001b[0m\u001b[0;34m[\u001b[0m\u001b[0;34m'error'\u001b[0m\u001b[0;34m]\u001b[0m \u001b[0;34m=\u001b[0m \u001b[0mdf_errors\u001b[0m\u001b[0;34m[\u001b[0m\u001b[0;34m'errorID'\u001b[0m\u001b[0;34m]\u001b[0m\u001b[0;34m.\u001b[0m\u001b[0mapply\u001b[0m\u001b[0;34m(\u001b[0m\u001b[0;32mlambda\u001b[0m \u001b[0mx\u001b[0m\u001b[0;34m:\u001b[0m \u001b[0mint\u001b[0m\u001b[0;34m(\u001b[0m\u001b[0mx\u001b[0m\u001b[0;34m[\u001b[0m\u001b[0;34m-\u001b[0m\u001b[0;36m1\u001b[0m\u001b[0;34m]\u001b[0m\u001b[0;34m)\u001b[0m\u001b[0;34m)\u001b[0m\u001b[0;34m\u001b[0m\u001b[0m\n\u001b[0;32m----> 5\u001b[0;31m \u001b[0mdf_maint\u001b[0m\u001b[0;34m[\u001b[0m\u001b[0;34m'comp'\u001b[0m\u001b[0;34m]\u001b[0m \u001b[0;34m=\u001b[0m \u001b[0mdf_maint\u001b[0m\u001b[0;34m[\u001b[0m\u001b[0;34m'comp'\u001b[0m\u001b[0;34m]\u001b[0m\u001b[0;34m.\u001b[0m\u001b[0mapply\u001b[0m\u001b[0;34m(\u001b[0m\u001b[0;32mlambda\u001b[0m \u001b[0mx\u001b[0m\u001b[0;34m:\u001b[0m \u001b[0mint\u001b[0m\u001b[0;34m(\u001b[0m\u001b[0mx\u001b[0m\u001b[0;34m[\u001b[0m\u001b[0;34m-\u001b[0m\u001b[0;36m1\u001b[0m\u001b[0;34m]\u001b[0m\u001b[0;34m)\u001b[0m\u001b[0;34m)\u001b[0m\u001b[0;34m\u001b[0m\u001b[0m\n\u001b[0m\u001b[1;32m      6\u001b[0m \u001b[0mdf_fails\u001b[0m\u001b[0;34m[\u001b[0m\u001b[0;34m'failure'\u001b[0m\u001b[0;34m]\u001b[0m \u001b[0;34m=\u001b[0m \u001b[0mdf_fails\u001b[0m\u001b[0;34m[\u001b[0m\u001b[0;34m'failure'\u001b[0m\u001b[0;34m]\u001b[0m\u001b[0;34m.\u001b[0m\u001b[0mapply\u001b[0m\u001b[0;34m(\u001b[0m\u001b[0;32mlambda\u001b[0m \u001b[0mx\u001b[0m\u001b[0;34m:\u001b[0m \u001b[0mint\u001b[0m\u001b[0;34m(\u001b[0m\u001b[0mx\u001b[0m\u001b[0;34m[\u001b[0m\u001b[0;34m-\u001b[0m\u001b[0;36m1\u001b[0m\u001b[0;34m]\u001b[0m\u001b[0;34m)\u001b[0m\u001b[0;34m)\u001b[0m\u001b[0;34m\u001b[0m\u001b[0m\n",
      "\u001b[0;31mTypeError\u001b[0m: 'int' object is not subscriptable"
     ]
    }
   ],
   "source": [
    "df_left = df_telemetry.loc[:, ['datetime', 'machineID']] # we set this aside to this table to join all our results with\n",
    "\n",
    "# this will make it easier to automatically create features with the right column names\n",
    "df_errors['error'] = df_errors['errorID'].apply(lambda x: int(x[-1]))\n",
    "df_maint['comp'] = df_maint['comp'].apply(lambda x: int(x[-1]))\n",
    "df_fails['failure'] = df_fails['failure'].apply(lambda x: int(x[-1]))"
   ]
  },
  {
   "cell_type": "markdown",
   "metadata": {},
   "source": [
    "Let's begin with a function that will give us rolling mean and standard deviation for the telemetry data."
   ]
  },
  {
   "cell_type": "code",
   "execution_count": 22,
   "metadata": {},
   "outputs": [],
   "source": [
    "import numpy as np\n",
    "\n",
    "def get_rolling_aggregates(df, colnames, suffixes, window, on, groupby, lagon = None):\n",
    "    \"\"\"\n",
    "    calculates rolling averages and standard deviations\n",
    "    \n",
    "    Arguments:\n",
    "    df -- dataframe to run it on\n",
    "    colnames -- names of columns we want rolling statistics for\n",
    "    suffixes -- suffixes attached to the new columns (provide a list with strings)\n",
    "    window -- the lag over which rolling statistics are calculated\n",
    "    on -- the interval at which rolling statistics are calculated\n",
    "    groupby -- the column used to group results by\n",
    "    lagon -- the name of the datetime column used to compute lags (if none specified it defaults to row number)\n",
    "      \n",
    "    Returns:\n",
    "    a dataframe with rolling statistics over a specified lag calculated over a specified interval\n",
    "    \"\"\"\n",
    "    \n",
    "    rolling_colnames = [c + suffixes[0] for c in colnames]\n",
    "    df_rolling_mean = df.groupby(groupby).rolling(window=window, on=lagon)[colnames].mean()\n",
    "    df_rolling_mean.columns = rolling_colnames\n",
    "    df_rolling_mean.reset_index(inplace=True)\n",
    "    \n",
    "    rolling_colnames = [c + suffixes[1] for c in colnames]\n",
    "    df_rolling_sd = df.groupby(groupby).rolling(window=window, on=lagon)[colnames].var()\n",
    "    df_rolling_sd.columns = rolling_colnames\n",
    "    df_rolling_sd = df_rolling_sd.apply(np.sqrt)\n",
    "    df_rolling_sd.reset_index(inplace=True, drop=True)\n",
    "    \n",
    "    df_res = pd.concat([df_rolling_mean, df_rolling_sd], axis=1)\n",
    "    df_res = df_res.loc[df_res.index % on == on-1]\n",
    "    return df_res"
   ]
  },
  {
   "cell_type": "markdown",
   "metadata": {},
   "source": [
    "We will apply this function twice, once to get rolling aggregates using a sliding window of 3 hours collected every 3 hours, and a second time to get rolling aggregates using a sliding window of 12 hours also collected every 3 hours."
   ]
  },
  {
   "cell_type": "code",
   "execution_count": 23,
   "metadata": {},
   "outputs": [],
   "source": [
    "cols_to_average = df_telemetry.columns[-4:]\n",
    "\n",
    "df_telemetry_rolling_3h = get_rolling_aggregates(df_telemetry, cols_to_average, \n",
    "                                                 suffixes = ['_ma_3', '_sd_3'], \n",
    "                                                 window = 3, on = 3, \n",
    "                                                 groupby = 'machineID', lagon = 'datetime')\n",
    "# df_telemetry_rolling_3h.head(20)"
   ]
  },
  {
   "cell_type": "code",
   "execution_count": 24,
   "metadata": {},
   "outputs": [],
   "source": [
    "df_telemetry_rolling_12h = get_rolling_aggregates(df_telemetry, cols_to_average, \n",
    "                                                  suffixes = ['_ma_12', '_sd_12'], \n",
    "                                                  window = 12, on = 3, \n",
    "                                                  groupby = 'machineID', lagon = 'datetime')\n",
    "# df_telemetry_rolling_12h.head(20)"
   ]
  },
  {
   "cell_type": "markdown",
   "metadata": {},
   "source": [
    "We can combine both results into a single table and back-fill any missing values."
   ]
  },
  {
   "cell_type": "code",
   "execution_count": 25,
   "metadata": {},
   "outputs": [],
   "source": [
    "df_telemetry_rolling = pd.concat([df_telemetry_rolling_3h, df_telemetry_rolling_12h.drop(['machineID', 'datetime'], axis=1)], \n",
    "                              axis=1, sort = True)\n",
    "# df_telemetry_rolling.head()"
   ]
  },
  {
   "cell_type": "code",
   "execution_count": 26,
   "metadata": {},
   "outputs": [
    {
     "data": {
      "text/html": [
       "<div>\n",
       "<style scoped>\n",
       "    .dataframe tbody tr th:only-of-type {\n",
       "        vertical-align: middle;\n",
       "    }\n",
       "\n",
       "    .dataframe tbody tr th {\n",
       "        vertical-align: top;\n",
       "    }\n",
       "\n",
       "    .dataframe thead th {\n",
       "        text-align: right;\n",
       "    }\n",
       "</style>\n",
       "<table border=\"1\" class=\"dataframe\">\n",
       "  <thead>\n",
       "    <tr style=\"text-align: right;\">\n",
       "      <th></th>\n",
       "      <th>datetime</th>\n",
       "      <th>machineID</th>\n",
       "      <th>volt_ma_3</th>\n",
       "      <th>rotate_ma_3</th>\n",
       "      <th>pressure_ma_3</th>\n",
       "      <th>vibration_ma_3</th>\n",
       "      <th>volt_sd_3</th>\n",
       "      <th>rotate_sd_3</th>\n",
       "      <th>pressure_sd_3</th>\n",
       "      <th>vibration_sd_3</th>\n",
       "      <th>volt_ma_12</th>\n",
       "      <th>rotate_ma_12</th>\n",
       "      <th>pressure_ma_12</th>\n",
       "      <th>vibration_ma_12</th>\n",
       "      <th>volt_sd_12</th>\n",
       "      <th>rotate_sd_12</th>\n",
       "      <th>pressure_sd_12</th>\n",
       "      <th>vibration_sd_12</th>\n",
       "    </tr>\n",
       "  </thead>\n",
       "  <tbody>\n",
       "    <tr>\n",
       "      <th>0</th>\n",
       "      <td>2015-01-01 08:00:00</td>\n",
       "      <td>1</td>\n",
       "      <td>170.028993</td>\n",
       "      <td>449.533798</td>\n",
       "      <td>94.592122</td>\n",
       "      <td>40.893502</td>\n",
       "      <td>6.721032</td>\n",
       "      <td>67.849599</td>\n",
       "      <td>18.934956</td>\n",
       "      <td>5.874970</td>\n",
       "      <td>166.967614</td>\n",
       "      <td>429.934546</td>\n",
       "      <td>102.444134</td>\n",
       "      <td>39.190634</td>\n",
       "      <td>6.849631</td>\n",
       "      <td>49.650872</td>\n",
       "      <td>10.782098</td>\n",
       "      <td>5.619049</td>\n",
       "    </tr>\n",
       "    <tr>\n",
       "      <th>1</th>\n",
       "      <td>2015-01-01 11:00:00</td>\n",
       "      <td>1</td>\n",
       "      <td>164.192565</td>\n",
       "      <td>403.949857</td>\n",
       "      <td>105.687417</td>\n",
       "      <td>34.255891</td>\n",
       "      <td>7.596570</td>\n",
       "      <td>50.120452</td>\n",
       "      <td>8.555032</td>\n",
       "      <td>7.662229</td>\n",
       "      <td>166.967614</td>\n",
       "      <td>429.934546</td>\n",
       "      <td>102.444134</td>\n",
       "      <td>39.190634</td>\n",
       "      <td>6.849631</td>\n",
       "      <td>49.650872</td>\n",
       "      <td>10.782098</td>\n",
       "      <td>5.619049</td>\n",
       "    </tr>\n",
       "    <tr>\n",
       "      <th>2</th>\n",
       "      <td>2015-01-01 14:00:00</td>\n",
       "      <td>1</td>\n",
       "      <td>168.134445</td>\n",
       "      <td>435.781707</td>\n",
       "      <td>107.793709</td>\n",
       "      <td>41.239405</td>\n",
       "      <td>10.124584</td>\n",
       "      <td>55.084734</td>\n",
       "      <td>5.909721</td>\n",
       "      <td>5.169304</td>\n",
       "      <td>166.967614</td>\n",
       "      <td>429.934546</td>\n",
       "      <td>102.444134</td>\n",
       "      <td>39.190634</td>\n",
       "      <td>6.849631</td>\n",
       "      <td>49.650872</td>\n",
       "      <td>10.782098</td>\n",
       "      <td>5.619049</td>\n",
       "    </tr>\n",
       "    <tr>\n",
       "      <th>3</th>\n",
       "      <td>2015-01-01 17:00:00</td>\n",
       "      <td>1</td>\n",
       "      <td>165.514453</td>\n",
       "      <td>430.472823</td>\n",
       "      <td>101.703289</td>\n",
       "      <td>40.373739</td>\n",
       "      <td>4.673269</td>\n",
       "      <td>42.047278</td>\n",
       "      <td>4.554047</td>\n",
       "      <td>2.106108</td>\n",
       "      <td>166.967614</td>\n",
       "      <td>429.934546</td>\n",
       "      <td>102.444134</td>\n",
       "      <td>39.190634</td>\n",
       "      <td>6.849631</td>\n",
       "      <td>49.650872</td>\n",
       "      <td>10.782098</td>\n",
       "      <td>5.619049</td>\n",
       "    </tr>\n",
       "    <tr>\n",
       "      <th>4</th>\n",
       "      <td>2015-01-01 20:00:00</td>\n",
       "      <td>1</td>\n",
       "      <td>168.809347</td>\n",
       "      <td>437.111120</td>\n",
       "      <td>90.911060</td>\n",
       "      <td>41.738542</td>\n",
       "      <td>14.752132</td>\n",
       "      <td>47.048609</td>\n",
       "      <td>4.244158</td>\n",
       "      <td>2.207884</td>\n",
       "      <td>166.662702</td>\n",
       "      <td>426.828877</td>\n",
       "      <td>101.523869</td>\n",
       "      <td>39.401894</td>\n",
       "      <td>8.748726</td>\n",
       "      <td>43.925228</td>\n",
       "      <td>8.536877</td>\n",
       "      <td>5.207254</td>\n",
       "    </tr>\n",
       "  </tbody>\n",
       "</table>\n",
       "</div>"
      ],
      "text/plain": [
       "             datetime  machineID   volt_ma_3  rotate_ma_3  pressure_ma_3  \\\n",
       "0 2015-01-01 08:00:00          1  170.028993   449.533798      94.592122   \n",
       "1 2015-01-01 11:00:00          1  164.192565   403.949857     105.687417   \n",
       "2 2015-01-01 14:00:00          1  168.134445   435.781707     107.793709   \n",
       "3 2015-01-01 17:00:00          1  165.514453   430.472823     101.703289   \n",
       "4 2015-01-01 20:00:00          1  168.809347   437.111120      90.911060   \n",
       "\n",
       "   vibration_ma_3  volt_sd_3  rotate_sd_3  pressure_sd_3  vibration_sd_3  \\\n",
       "0       40.893502   6.721032    67.849599      18.934956        5.874970   \n",
       "1       34.255891   7.596570    50.120452       8.555032        7.662229   \n",
       "2       41.239405  10.124584    55.084734       5.909721        5.169304   \n",
       "3       40.373739   4.673269    42.047278       4.554047        2.106108   \n",
       "4       41.738542  14.752132    47.048609       4.244158        2.207884   \n",
       "\n",
       "   volt_ma_12  rotate_ma_12  pressure_ma_12  vibration_ma_12  volt_sd_12  \\\n",
       "0  166.967614    429.934546      102.444134        39.190634    6.849631   \n",
       "1  166.967614    429.934546      102.444134        39.190634    6.849631   \n",
       "2  166.967614    429.934546      102.444134        39.190634    6.849631   \n",
       "3  166.967614    429.934546      102.444134        39.190634    6.849631   \n",
       "4  166.662702    426.828877      101.523869        39.401894    8.748726   \n",
       "\n",
       "   rotate_sd_12  pressure_sd_12  vibration_sd_12  \n",
       "0     49.650872       10.782098         5.619049  \n",
       "1     49.650872       10.782098         5.619049  \n",
       "2     49.650872       10.782098         5.619049  \n",
       "3     49.650872       10.782098         5.619049  \n",
       "4     43.925228        8.536877         5.207254  "
      ]
     },
     "execution_count": 26,
     "metadata": {},
     "output_type": "execute_result"
    }
   ],
   "source": [
    "df_telemetry_feat_roll = df_left.merge(df_telemetry_rolling, how=\"inner\", on=['machineID', 'datetime'], validate = \"one_to_one\")\n",
    "df_telemetry_feat_roll.fillna(method='bfill', inplace=True)\n",
    "df_telemetry_feat_roll.head()"
   ]
  },
  {
   "cell_type": "code",
   "execution_count": 27,
   "metadata": {},
   "outputs": [],
   "source": [
    "del df_telemetry_rolling, df_telemetry_rolling_3h, df_telemetry_rolling_12h"
   ]
  },
  {
   "cell_type": "markdown",
   "metadata": {},
   "source": [
    "We now write a function that takes care of extracting features showing when events (errors, failures, replacements) occured. The data is then passed to the same 3-hour sliding filter as the telemetry data. Using a rolling max function, we compute if there was an event sometime in the last 3 hours. Finally we compute time elapsed since the last event. \n",
    "\n",
    "We use the following naming convention for the column names in the final dataset. For a given machine at a given date and time:\n",
    "\n",
    "- `e_1` is a flag indicating if error 1 occured, likewise for `e_2` through `e_5`\n",
    "- `de_1` is a numeric feature that represents the hours elapsed since the last time error 1 occured, likewise for `de_2` through `de_5`\n",
    "- `m_1` is a flag indicating if component 1 was replaced, likewise for `m_2` through `m_4`\n",
    "- `dm_1` is a numeric feature that represents the hours elapsed since the last time component 1 was replaced, likewise for `dm_2` through `dm_4`\n",
    "- `f_1` is a flag indicating if component 1 failed, likewise for `f_2` through `f_4`\n",
    "- `df_1` is a numeric feature that represents the hours elapsed since the last time component 1 failed, likewise for `df_2` through `df_4`\n",
    "\n",
    "Finally, we will use `f_1` through `f_4` to create the targets `y_1` through `y_4`:\n",
    "- `y_1` is a flag indicating if component 1 is about to fail, likewise for `y_2` through `y_4`"
   ]
  },
  {
   "cell_type": "code",
   "execution_count": 28,
   "metadata": {},
   "outputs": [],
   "source": [
    "def get_datetime_diffs(df_left, df_right, catvar, prefix, window, on, lagon = None, diff_type = 'timedelta64[h]', validate = 'one_to_one', show_example = True):\n",
    "    \"\"\"\n",
    "    finds the last time an event (error, failure, maintenance) happened over a sliding window and the time elapsed since\n",
    "    \n",
    "    Arguments:\n",
    "    df_left -- dataframe with keys\n",
    "    df_right -- dataframe with events (in this case: errors, failures, or maintenance)\n",
    "    catvar -- the column in df_right which encodes events\n",
    "    prefix -- prefix to add to new column names\n",
    "    window -- the lag over which rolling max is calculated\n",
    "    on -- the interval at which rolling max are calculated\n",
    "    lagon -- the name of the datetime column used to compute lags (if none specified it defaults to row number)\n",
    "    diff_type -- the format to convert time differences to (hours is the default)\n",
    "    validate -- set to 'one_to_one' to ensure the validity of the ensuing merge operation\n",
    "    show_example -- prints an example so we can check results\n",
    "    \n",
    "    Returns:\n",
    "    the dataframe with the following columns for each event: \n",
    "      - a dummy column showing which event happened\n",
    "      - a corresponding difference column showing the time elapsed since the event last occured\n",
    "    \"\"\"\n",
    "\n",
    "    # create dummy columns and merge them with left data\n",
    "    keys = ['machineID', 'datetime']\n",
    "    df_dummies = pd.get_dummies(df_right[catvar], prefix=prefix)\n",
    "    df_wide = pd.concat([df_right.loc[:, keys], df_dummies], axis=1)\n",
    "    df_wide = df_wide.groupby(keys).sum().reset_index()\n",
    "    df = df_left.merge(df_wide, how=\"left\", on=keys, validate = validate).fillna(0)\n",
    "\n",
    "    # run a rolling window through event flags to aggregate data\n",
    "    dummy_col_names = df_dummies.columns\n",
    "    df = df.groupby('machineID').rolling(window=window, on=lagon)[dummy_col_names].max()\n",
    "    df.reset_index(inplace=True)\n",
    "    df = df.loc[df.index % on == on-1]\n",
    "    df.reset_index(inplace=True, drop=True)\n",
    "\n",
    "    df_first = df.groupby('machineID', as_index=False).nth(0)\n",
    "    # calculate the time of the last event and the time elapsed since\n",
    "    for col in dummy_col_names:\n",
    "        whenlast, diffcol = 'last_' + col, 'd' + col\n",
    "        df.loc[:, col].fillna(value = 0, inplace=True)\n",
    "        # let's assume an event happened in row 0, so we don't have missing values for the time elapsed\n",
    "        df.iloc[df_first.index, df.columns.get_loc(col)] = 1\n",
    "        \n",
    "        df.loc[df[col] == 1, whenlast] = df.loc[df[col] == 1, 'datetime']\n",
    "        # for the first occurence we don't know when it last happened, so we assume it happened then\n",
    "        df.iloc[df_first.index, df.columns.get_loc(whenlast)] = df.iloc[df_first.index, df.columns.get_loc('datetime')]\n",
    "        df[whenlast].fillna(method='ffill', inplace=True)\n",
    "        \n",
    "        # df.loc[df[whenlast] > df['datetime'], whenlast] = np.nan\n",
    "        df.loc[df[whenlast] <= df['datetime'], diffcol] = (df['datetime'] - df[whenlast]).astype(diff_type)\n",
    "        df.drop(columns = whenlast, inplace=True)\n",
    "    \n",
    "    if show_example == True:\n",
    "        col = np.random.choice(dummy_col_names, size = 1)[0]\n",
    "        idx = np.random.choice(df.loc[df[col] == 1, :].index.tolist(), size = 1)[0]\n",
    "        print('Example:\\n')\n",
    "        print(df.loc[df.index.isin(range(idx-3, idx+5)), ['datetime', col, 'd' + col]])\n",
    "    \n",
    "    return df"
   ]
  },
  {
   "cell_type": "code",
   "execution_count": 29,
   "metadata": {},
   "outputs": [
    {
     "name": "stdout",
     "output_type": "stream",
     "text": [
      "Example:\n",
      "\n",
      "                  datetime  e_error3  de_error3\n",
      "237109 2015-03-12 14:00:00       1.0        0.0\n",
      "237110 2015-03-12 17:00:00       1.0        0.0\n",
      "237111 2015-03-12 20:00:00       1.0        0.0\n",
      "237112 2015-03-12 23:00:00       1.0        0.0\n",
      "237113 2015-03-13 02:00:00       1.0        0.0\n",
      "237114 2015-03-13 05:00:00       1.0        0.0\n",
      "237115 2015-03-13 08:00:00       1.0        0.0\n",
      "237116 2015-03-13 11:00:00       1.0        0.0\n"
     ]
    },
    {
     "data": {
      "text/html": [
       "<div>\n",
       "<style scoped>\n",
       "    .dataframe tbody tr th:only-of-type {\n",
       "        vertical-align: middle;\n",
       "    }\n",
       "\n",
       "    .dataframe tbody tr th {\n",
       "        vertical-align: top;\n",
       "    }\n",
       "\n",
       "    .dataframe thead th {\n",
       "        text-align: right;\n",
       "    }\n",
       "</style>\n",
       "<table border=\"1\" class=\"dataframe\">\n",
       "  <thead>\n",
       "    <tr style=\"text-align: right;\">\n",
       "      <th></th>\n",
       "      <th>machineID</th>\n",
       "      <th>datetime</th>\n",
       "      <th>e_error1</th>\n",
       "      <th>e_error2</th>\n",
       "      <th>e_error3</th>\n",
       "      <th>e_error4</th>\n",
       "      <th>de_error1</th>\n",
       "      <th>de_error2</th>\n",
       "      <th>de_error3</th>\n",
       "      <th>de_error4</th>\n",
       "    </tr>\n",
       "  </thead>\n",
       "  <tbody>\n",
       "    <tr>\n",
       "      <th>292028</th>\n",
       "      <td>100</td>\n",
       "      <td>2015-12-31 17:00:00</td>\n",
       "      <td>0.0</td>\n",
       "      <td>0.0</td>\n",
       "      <td>0.0</td>\n",
       "      <td>0.0</td>\n",
       "      <td>2694.0</td>\n",
       "      <td>534.0</td>\n",
       "      <td>5118.0</td>\n",
       "      <td>1299.0</td>\n",
       "    </tr>\n",
       "    <tr>\n",
       "      <th>292029</th>\n",
       "      <td>100</td>\n",
       "      <td>2015-12-31 20:00:00</td>\n",
       "      <td>0.0</td>\n",
       "      <td>0.0</td>\n",
       "      <td>0.0</td>\n",
       "      <td>0.0</td>\n",
       "      <td>2697.0</td>\n",
       "      <td>537.0</td>\n",
       "      <td>5121.0</td>\n",
       "      <td>1302.0</td>\n",
       "    </tr>\n",
       "    <tr>\n",
       "      <th>292030</th>\n",
       "      <td>100</td>\n",
       "      <td>2015-12-31 23:00:00</td>\n",
       "      <td>0.0</td>\n",
       "      <td>0.0</td>\n",
       "      <td>0.0</td>\n",
       "      <td>0.0</td>\n",
       "      <td>2700.0</td>\n",
       "      <td>540.0</td>\n",
       "      <td>5124.0</td>\n",
       "      <td>1305.0</td>\n",
       "    </tr>\n",
       "    <tr>\n",
       "      <th>292031</th>\n",
       "      <td>100</td>\n",
       "      <td>2016-01-01 02:00:00</td>\n",
       "      <td>0.0</td>\n",
       "      <td>0.0</td>\n",
       "      <td>0.0</td>\n",
       "      <td>0.0</td>\n",
       "      <td>2703.0</td>\n",
       "      <td>543.0</td>\n",
       "      <td>5127.0</td>\n",
       "      <td>1308.0</td>\n",
       "    </tr>\n",
       "    <tr>\n",
       "      <th>292032</th>\n",
       "      <td>100</td>\n",
       "      <td>2016-01-01 05:00:00</td>\n",
       "      <td>0.0</td>\n",
       "      <td>0.0</td>\n",
       "      <td>0.0</td>\n",
       "      <td>0.0</td>\n",
       "      <td>2706.0</td>\n",
       "      <td>546.0</td>\n",
       "      <td>5130.0</td>\n",
       "      <td>1311.0</td>\n",
       "    </tr>\n",
       "  </tbody>\n",
       "</table>\n",
       "</div>"
      ],
      "text/plain": [
       "        machineID            datetime  e_error1  e_error2  e_error3  e_error4  \\\n",
       "292028        100 2015-12-31 17:00:00       0.0       0.0       0.0       0.0   \n",
       "292029        100 2015-12-31 20:00:00       0.0       0.0       0.0       0.0   \n",
       "292030        100 2015-12-31 23:00:00       0.0       0.0       0.0       0.0   \n",
       "292031        100 2016-01-01 02:00:00       0.0       0.0       0.0       0.0   \n",
       "292032        100 2016-01-01 05:00:00       0.0       0.0       0.0       0.0   \n",
       "\n",
       "        de_error1  de_error2  de_error3  de_error4  \n",
       "292028     2694.0      534.0     5118.0     1299.0  \n",
       "292029     2697.0      537.0     5121.0     1302.0  \n",
       "292030     2700.0      540.0     5124.0     1305.0  \n",
       "292031     2703.0      543.0     5127.0     1308.0  \n",
       "292032     2706.0      546.0     5130.0     1311.0  "
      ]
     },
     "execution_count": 29,
     "metadata": {},
     "output_type": "execute_result"
    }
   ],
   "source": [
    "df_errors_feat_roll = get_datetime_diffs(df_left, df_errors, catvar='errorID', prefix='e', window = 6, lagon = 'datetime', on = 3)\n",
    "df_errors_feat_roll.tail()"
   ]
  },
  {
   "cell_type": "code",
   "execution_count": 30,
   "metadata": {},
   "outputs": [
    {
     "data": {
      "text/html": [
       "<div>\n",
       "<style scoped>\n",
       "    .dataframe tbody tr th:only-of-type {\n",
       "        vertical-align: middle;\n",
       "    }\n",
       "\n",
       "    .dataframe tbody tr th {\n",
       "        vertical-align: top;\n",
       "    }\n",
       "\n",
       "    .dataframe thead th {\n",
       "        text-align: right;\n",
       "    }\n",
       "</style>\n",
       "<table border=\"1\" class=\"dataframe\">\n",
       "  <thead>\n",
       "    <tr style=\"text-align: right;\">\n",
       "      <th></th>\n",
       "      <th>machineID</th>\n",
       "      <th>datetime</th>\n",
       "      <th>e_error1</th>\n",
       "      <th>e_error2</th>\n",
       "      <th>e_error3</th>\n",
       "      <th>e_error4</th>\n",
       "      <th>de_error1</th>\n",
       "      <th>de_error2</th>\n",
       "      <th>de_error3</th>\n",
       "      <th>de_error4</th>\n",
       "    </tr>\n",
       "  </thead>\n",
       "  <tbody>\n",
       "    <tr>\n",
       "      <th>2920</th>\n",
       "      <td>2</td>\n",
       "      <td>2015-01-01 07:00:00</td>\n",
       "      <td>1.0</td>\n",
       "      <td>1.0</td>\n",
       "      <td>1.0</td>\n",
       "      <td>1.0</td>\n",
       "      <td>0.0</td>\n",
       "      <td>0.0</td>\n",
       "      <td>0.0</td>\n",
       "      <td>0.0</td>\n",
       "    </tr>\n",
       "    <tr>\n",
       "      <th>2921</th>\n",
       "      <td>2</td>\n",
       "      <td>2015-01-01 10:00:00</td>\n",
       "      <td>0.0</td>\n",
       "      <td>0.0</td>\n",
       "      <td>0.0</td>\n",
       "      <td>0.0</td>\n",
       "      <td>3.0</td>\n",
       "      <td>3.0</td>\n",
       "      <td>3.0</td>\n",
       "      <td>3.0</td>\n",
       "    </tr>\n",
       "    <tr>\n",
       "      <th>2922</th>\n",
       "      <td>2</td>\n",
       "      <td>2015-01-01 13:00:00</td>\n",
       "      <td>0.0</td>\n",
       "      <td>0.0</td>\n",
       "      <td>0.0</td>\n",
       "      <td>0.0</td>\n",
       "      <td>6.0</td>\n",
       "      <td>6.0</td>\n",
       "      <td>6.0</td>\n",
       "      <td>6.0</td>\n",
       "    </tr>\n",
       "    <tr>\n",
       "      <th>2923</th>\n",
       "      <td>2</td>\n",
       "      <td>2015-01-01 16:00:00</td>\n",
       "      <td>0.0</td>\n",
       "      <td>0.0</td>\n",
       "      <td>0.0</td>\n",
       "      <td>0.0</td>\n",
       "      <td>9.0</td>\n",
       "      <td>9.0</td>\n",
       "      <td>9.0</td>\n",
       "      <td>9.0</td>\n",
       "    </tr>\n",
       "    <tr>\n",
       "      <th>2924</th>\n",
       "      <td>2</td>\n",
       "      <td>2015-01-01 19:00:00</td>\n",
       "      <td>0.0</td>\n",
       "      <td>0.0</td>\n",
       "      <td>0.0</td>\n",
       "      <td>0.0</td>\n",
       "      <td>12.0</td>\n",
       "      <td>12.0</td>\n",
       "      <td>12.0</td>\n",
       "      <td>12.0</td>\n",
       "    </tr>\n",
       "  </tbody>\n",
       "</table>\n",
       "</div>"
      ],
      "text/plain": [
       "      machineID            datetime  e_error1  e_error2  e_error3  e_error4  \\\n",
       "2920          2 2015-01-01 07:00:00       1.0       1.0       1.0       1.0   \n",
       "2921          2 2015-01-01 10:00:00       0.0       0.0       0.0       0.0   \n",
       "2922          2 2015-01-01 13:00:00       0.0       0.0       0.0       0.0   \n",
       "2923          2 2015-01-01 16:00:00       0.0       0.0       0.0       0.0   \n",
       "2924          2 2015-01-01 19:00:00       0.0       0.0       0.0       0.0   \n",
       "\n",
       "      de_error1  de_error2  de_error3  de_error4  \n",
       "2920        0.0        0.0        0.0        0.0  \n",
       "2921        3.0        3.0        3.0        3.0  \n",
       "2922        6.0        6.0        6.0        6.0  \n",
       "2923        9.0        9.0        9.0        9.0  \n",
       "2924       12.0       12.0       12.0       12.0  "
      ]
     },
     "execution_count": 30,
     "metadata": {},
     "output_type": "execute_result"
    }
   ],
   "source": [
    "df_errors_feat_roll.loc[df_errors_feat_roll['machineID'] == 2, :].head()"
   ]
  },
  {
   "cell_type": "code",
   "execution_count": 31,
   "metadata": {},
   "outputs": [
    {
     "data": {
      "text/html": [
       "<div>\n",
       "<style scoped>\n",
       "    .dataframe tbody tr th:only-of-type {\n",
       "        vertical-align: middle;\n",
       "    }\n",
       "\n",
       "    .dataframe tbody tr th {\n",
       "        vertical-align: top;\n",
       "    }\n",
       "\n",
       "    .dataframe thead th {\n",
       "        text-align: right;\n",
       "    }\n",
       "</style>\n",
       "<table border=\"1\" class=\"dataframe\">\n",
       "  <thead>\n",
       "    <tr style=\"text-align: right;\">\n",
       "      <th></th>\n",
       "      <th>machineID</th>\n",
       "      <th>datetime</th>\n",
       "      <th>m_1</th>\n",
       "      <th>m_2</th>\n",
       "      <th>m_3</th>\n",
       "      <th>m_4</th>\n",
       "      <th>dm_1</th>\n",
       "      <th>dm_2</th>\n",
       "      <th>dm_3</th>\n",
       "      <th>dm_4</th>\n",
       "    </tr>\n",
       "  </thead>\n",
       "  <tbody>\n",
       "    <tr>\n",
       "      <th>292028</th>\n",
       "      <td>100</td>\n",
       "      <td>2015-12-31 17:00:00</td>\n",
       "      <td>0.0</td>\n",
       "      <td>0.0</td>\n",
       "      <td>0.0</td>\n",
       "      <td>0.0</td>\n",
       "      <td>1974.0</td>\n",
       "      <td>174.0</td>\n",
       "      <td>1974.0</td>\n",
       "      <td>1254.0</td>\n",
       "    </tr>\n",
       "    <tr>\n",
       "      <th>292029</th>\n",
       "      <td>100</td>\n",
       "      <td>2015-12-31 20:00:00</td>\n",
       "      <td>0.0</td>\n",
       "      <td>0.0</td>\n",
       "      <td>0.0</td>\n",
       "      <td>0.0</td>\n",
       "      <td>1977.0</td>\n",
       "      <td>177.0</td>\n",
       "      <td>1977.0</td>\n",
       "      <td>1257.0</td>\n",
       "    </tr>\n",
       "    <tr>\n",
       "      <th>292030</th>\n",
       "      <td>100</td>\n",
       "      <td>2015-12-31 23:00:00</td>\n",
       "      <td>0.0</td>\n",
       "      <td>0.0</td>\n",
       "      <td>0.0</td>\n",
       "      <td>0.0</td>\n",
       "      <td>1980.0</td>\n",
       "      <td>180.0</td>\n",
       "      <td>1980.0</td>\n",
       "      <td>1260.0</td>\n",
       "    </tr>\n",
       "    <tr>\n",
       "      <th>292031</th>\n",
       "      <td>100</td>\n",
       "      <td>2016-01-01 02:00:00</td>\n",
       "      <td>0.0</td>\n",
       "      <td>0.0</td>\n",
       "      <td>0.0</td>\n",
       "      <td>0.0</td>\n",
       "      <td>1983.0</td>\n",
       "      <td>183.0</td>\n",
       "      <td>1983.0</td>\n",
       "      <td>1263.0</td>\n",
       "    </tr>\n",
       "    <tr>\n",
       "      <th>292032</th>\n",
       "      <td>100</td>\n",
       "      <td>2016-01-01 05:00:00</td>\n",
       "      <td>0.0</td>\n",
       "      <td>0.0</td>\n",
       "      <td>0.0</td>\n",
       "      <td>0.0</td>\n",
       "      <td>1986.0</td>\n",
       "      <td>186.0</td>\n",
       "      <td>1986.0</td>\n",
       "      <td>1266.0</td>\n",
       "    </tr>\n",
       "  </tbody>\n",
       "</table>\n",
       "</div>"
      ],
      "text/plain": [
       "        machineID            datetime  m_1  m_2  m_3  m_4    dm_1   dm_2  \\\n",
       "292028        100 2015-12-31 17:00:00  0.0  0.0  0.0  0.0  1974.0  174.0   \n",
       "292029        100 2015-12-31 20:00:00  0.0  0.0  0.0  0.0  1977.0  177.0   \n",
       "292030        100 2015-12-31 23:00:00  0.0  0.0  0.0  0.0  1980.0  180.0   \n",
       "292031        100 2016-01-01 02:00:00  0.0  0.0  0.0  0.0  1983.0  183.0   \n",
       "292032        100 2016-01-01 05:00:00  0.0  0.0  0.0  0.0  1986.0  186.0   \n",
       "\n",
       "          dm_3    dm_4  \n",
       "292028  1974.0  1254.0  \n",
       "292029  1977.0  1257.0  \n",
       "292030  1980.0  1260.0  \n",
       "292031  1983.0  1263.0  \n",
       "292032  1986.0  1266.0  "
      ]
     },
     "execution_count": 31,
     "metadata": {},
     "output_type": "execute_result"
    }
   ],
   "source": [
    "df_maint_feat_roll = get_datetime_diffs(df_left, df_maint, catvar='comp', prefix='m', \n",
    "                                        window = 6, lagon = 'datetime', on = 3, show_example=False)\n",
    "df_maint_feat_roll.tail()"
   ]
  },
  {
   "cell_type": "code",
   "execution_count": 32,
   "metadata": {},
   "outputs": [
    {
     "data": {
      "text/html": [
       "<div>\n",
       "<style scoped>\n",
       "    .dataframe tbody tr th:only-of-type {\n",
       "        vertical-align: middle;\n",
       "    }\n",
       "\n",
       "    .dataframe tbody tr th {\n",
       "        vertical-align: top;\n",
       "    }\n",
       "\n",
       "    .dataframe thead th {\n",
       "        text-align: right;\n",
       "    }\n",
       "</style>\n",
       "<table border=\"1\" class=\"dataframe\">\n",
       "  <thead>\n",
       "    <tr style=\"text-align: right;\">\n",
       "      <th></th>\n",
       "      <th>machineID</th>\n",
       "      <th>datetime</th>\n",
       "      <th>m_1</th>\n",
       "      <th>m_2</th>\n",
       "      <th>m_3</th>\n",
       "      <th>m_4</th>\n",
       "      <th>dm_1</th>\n",
       "      <th>dm_2</th>\n",
       "      <th>dm_3</th>\n",
       "      <th>dm_4</th>\n",
       "    </tr>\n",
       "  </thead>\n",
       "  <tbody>\n",
       "    <tr>\n",
       "      <th>2920</th>\n",
       "      <td>2</td>\n",
       "      <td>2015-01-01 07:00:00</td>\n",
       "      <td>1.0</td>\n",
       "      <td>1.0</td>\n",
       "      <td>1.0</td>\n",
       "      <td>1.0</td>\n",
       "      <td>0.0</td>\n",
       "      <td>0.0</td>\n",
       "      <td>0.0</td>\n",
       "      <td>0.0</td>\n",
       "    </tr>\n",
       "    <tr>\n",
       "      <th>2921</th>\n",
       "      <td>2</td>\n",
       "      <td>2015-01-01 10:00:00</td>\n",
       "      <td>0.0</td>\n",
       "      <td>0.0</td>\n",
       "      <td>0.0</td>\n",
       "      <td>0.0</td>\n",
       "      <td>3.0</td>\n",
       "      <td>3.0</td>\n",
       "      <td>3.0</td>\n",
       "      <td>3.0</td>\n",
       "    </tr>\n",
       "    <tr>\n",
       "      <th>2922</th>\n",
       "      <td>2</td>\n",
       "      <td>2015-01-01 13:00:00</td>\n",
       "      <td>0.0</td>\n",
       "      <td>0.0</td>\n",
       "      <td>0.0</td>\n",
       "      <td>0.0</td>\n",
       "      <td>6.0</td>\n",
       "      <td>6.0</td>\n",
       "      <td>6.0</td>\n",
       "      <td>6.0</td>\n",
       "    </tr>\n",
       "    <tr>\n",
       "      <th>2923</th>\n",
       "      <td>2</td>\n",
       "      <td>2015-01-01 16:00:00</td>\n",
       "      <td>0.0</td>\n",
       "      <td>0.0</td>\n",
       "      <td>0.0</td>\n",
       "      <td>0.0</td>\n",
       "      <td>9.0</td>\n",
       "      <td>9.0</td>\n",
       "      <td>9.0</td>\n",
       "      <td>9.0</td>\n",
       "    </tr>\n",
       "    <tr>\n",
       "      <th>2924</th>\n",
       "      <td>2</td>\n",
       "      <td>2015-01-01 19:00:00</td>\n",
       "      <td>0.0</td>\n",
       "      <td>0.0</td>\n",
       "      <td>0.0</td>\n",
       "      <td>0.0</td>\n",
       "      <td>12.0</td>\n",
       "      <td>12.0</td>\n",
       "      <td>12.0</td>\n",
       "      <td>12.0</td>\n",
       "    </tr>\n",
       "  </tbody>\n",
       "</table>\n",
       "</div>"
      ],
      "text/plain": [
       "      machineID            datetime  m_1  m_2  m_3  m_4  dm_1  dm_2  dm_3  \\\n",
       "2920          2 2015-01-01 07:00:00  1.0  1.0  1.0  1.0   0.0   0.0   0.0   \n",
       "2921          2 2015-01-01 10:00:00  0.0  0.0  0.0  0.0   3.0   3.0   3.0   \n",
       "2922          2 2015-01-01 13:00:00  0.0  0.0  0.0  0.0   6.0   6.0   6.0   \n",
       "2923          2 2015-01-01 16:00:00  0.0  0.0  0.0  0.0   9.0   9.0   9.0   \n",
       "2924          2 2015-01-01 19:00:00  0.0  0.0  0.0  0.0  12.0  12.0  12.0   \n",
       "\n",
       "      dm_4  \n",
       "2920   0.0  \n",
       "2921   3.0  \n",
       "2922   6.0  \n",
       "2923   9.0  \n",
       "2924  12.0  "
      ]
     },
     "execution_count": 32,
     "metadata": {},
     "output_type": "execute_result"
    }
   ],
   "source": [
    "df_maint_feat_roll.loc[df_maint_feat_roll['machineID'] == 2, :].head()"
   ]
  },
  {
   "cell_type": "code",
   "execution_count": 33,
   "metadata": {},
   "outputs": [
    {
     "data": {
      "text/html": [
       "<div>\n",
       "<style scoped>\n",
       "    .dataframe tbody tr th:only-of-type {\n",
       "        vertical-align: middle;\n",
       "    }\n",
       "\n",
       "    .dataframe tbody tr th {\n",
       "        vertical-align: top;\n",
       "    }\n",
       "\n",
       "    .dataframe thead th {\n",
       "        text-align: right;\n",
       "    }\n",
       "</style>\n",
       "<table border=\"1\" class=\"dataframe\">\n",
       "  <thead>\n",
       "    <tr style=\"text-align: right;\">\n",
       "      <th></th>\n",
       "      <th>machineID</th>\n",
       "      <th>datetime</th>\n",
       "      <th>f_1</th>\n",
       "      <th>f_2</th>\n",
       "      <th>f_3</th>\n",
       "      <th>f_4</th>\n",
       "      <th>df_1</th>\n",
       "      <th>df_2</th>\n",
       "      <th>df_3</th>\n",
       "      <th>df_4</th>\n",
       "    </tr>\n",
       "  </thead>\n",
       "  <tbody>\n",
       "    <tr>\n",
       "      <th>292028</th>\n",
       "      <td>100</td>\n",
       "      <td>2015-12-31 17:00:00</td>\n",
       "      <td>0.0</td>\n",
       "      <td>0.0</td>\n",
       "      <td>0.0</td>\n",
       "      <td>0.0</td>\n",
       "      <td>2694.0</td>\n",
       "      <td>534.0</td>\n",
       "      <td>8745.0</td>\n",
       "      <td>8745.0</td>\n",
       "    </tr>\n",
       "    <tr>\n",
       "      <th>292029</th>\n",
       "      <td>100</td>\n",
       "      <td>2015-12-31 20:00:00</td>\n",
       "      <td>0.0</td>\n",
       "      <td>0.0</td>\n",
       "      <td>0.0</td>\n",
       "      <td>0.0</td>\n",
       "      <td>2697.0</td>\n",
       "      <td>537.0</td>\n",
       "      <td>8748.0</td>\n",
       "      <td>8748.0</td>\n",
       "    </tr>\n",
       "    <tr>\n",
       "      <th>292030</th>\n",
       "      <td>100</td>\n",
       "      <td>2015-12-31 23:00:00</td>\n",
       "      <td>0.0</td>\n",
       "      <td>0.0</td>\n",
       "      <td>0.0</td>\n",
       "      <td>0.0</td>\n",
       "      <td>2700.0</td>\n",
       "      <td>540.0</td>\n",
       "      <td>8751.0</td>\n",
       "      <td>8751.0</td>\n",
       "    </tr>\n",
       "    <tr>\n",
       "      <th>292031</th>\n",
       "      <td>100</td>\n",
       "      <td>2016-01-01 02:00:00</td>\n",
       "      <td>0.0</td>\n",
       "      <td>0.0</td>\n",
       "      <td>0.0</td>\n",
       "      <td>0.0</td>\n",
       "      <td>2703.0</td>\n",
       "      <td>543.0</td>\n",
       "      <td>8754.0</td>\n",
       "      <td>8754.0</td>\n",
       "    </tr>\n",
       "    <tr>\n",
       "      <th>292032</th>\n",
       "      <td>100</td>\n",
       "      <td>2016-01-01 05:00:00</td>\n",
       "      <td>0.0</td>\n",
       "      <td>0.0</td>\n",
       "      <td>0.0</td>\n",
       "      <td>0.0</td>\n",
       "      <td>2706.0</td>\n",
       "      <td>546.0</td>\n",
       "      <td>8757.0</td>\n",
       "      <td>8757.0</td>\n",
       "    </tr>\n",
       "  </tbody>\n",
       "</table>\n",
       "</div>"
      ],
      "text/plain": [
       "        machineID            datetime  f_1  f_2  f_3  f_4    df_1   df_2  \\\n",
       "292028        100 2015-12-31 17:00:00  0.0  0.0  0.0  0.0  2694.0  534.0   \n",
       "292029        100 2015-12-31 20:00:00  0.0  0.0  0.0  0.0  2697.0  537.0   \n",
       "292030        100 2015-12-31 23:00:00  0.0  0.0  0.0  0.0  2700.0  540.0   \n",
       "292031        100 2016-01-01 02:00:00  0.0  0.0  0.0  0.0  2703.0  543.0   \n",
       "292032        100 2016-01-01 05:00:00  0.0  0.0  0.0  0.0  2706.0  546.0   \n",
       "\n",
       "          df_3    df_4  \n",
       "292028  8745.0  8745.0  \n",
       "292029  8748.0  8748.0  \n",
       "292030  8751.0  8751.0  \n",
       "292031  8754.0  8754.0  \n",
       "292032  8757.0  8757.0  "
      ]
     },
     "execution_count": 33,
     "metadata": {},
     "output_type": "execute_result"
    }
   ],
   "source": [
    "df_fails_feat_roll = get_datetime_diffs(df_left, df_fails, catvar='failure', prefix='f', \n",
    "                                        window = 6, lagon = 'datetime', on = 3, show_example=False)\n",
    "df_fails_feat_roll.tail()"
   ]
  },
  {
   "cell_type": "markdown",
   "metadata": {},
   "source": [
    "### Combine features in one dataset\n",
    "\n",
    "We now combine all four datasets into one dataset called `df_all`.  First we check of course that all data frames have the same dimensions."
   ]
  },
  {
   "cell_type": "code",
   "execution_count": 34,
   "metadata": {},
   "outputs": [],
   "source": [
    "assert(df_errors_feat_roll.shape[0] == df_fails_feat_roll.shape[0] == df_maint_feat_roll.shape[0] == df_telemetry_feat_roll.shape[0])\n"
   ]
  },
  {
   "cell_type": "code",
   "execution_count": 35,
   "metadata": {},
   "outputs": [],
   "source": [
    "df_all = pd.concat([df_telemetry_feat_roll,\n",
    "                    df_errors_feat_roll.drop(columns=['machineID', 'datetime']), \n",
    "                    df_maint_feat_roll.drop(columns=['machineID', 'datetime']), \n",
    "                    df_fails_feat_roll.drop(columns=['machineID', 'datetime'])], axis = 1, verify_integrity=True)\n",
    "\n",
    "# df_all = pd.merge(left=df_telemetry_feat_roll, right=df_all, on = ['machineID', 'datetime'], validate='one_to_one')\n",
    "df_all = pd.merge(left=df_all, right=df_machines, how=\"left\", on='machineID', validate = 'many_to_one')"
   ]
  },
  {
   "cell_type": "code",
   "execution_count": 36,
   "metadata": {},
   "outputs": [],
   "source": [
    "del df_join, df_left"
   ]
  },
  {
   "cell_type": "code",
   "execution_count": 37,
   "metadata": {},
   "outputs": [],
   "source": [
    "del df_telemetry_feat_roll, df_errors_feat_roll, df_fails_feat_roll, df_maint_feat_roll"
   ]
  },
  {
   "cell_type": "markdown",
   "metadata": {},
   "source": [
    "### Lab"
   ]
  },
  {
   "cell_type": "markdown",
   "metadata": {
    "hide_input": false,
    "solution2": "shown",
    "solution2_first": true
   },
   "source": [
    "<div class=\"alert alert-info\">\n",
    "This may be a good place to stop and look at the correlation matrix for all the features we have in the data. We expect some obvious correlations, but let's see if we get any less obvious ones too. We will use `sns.heatmap` to visualize the correlation matrix.\n",
    "</div>"
   ]
  },
  {
   "cell_type": "code",
   "execution_count": 39,
   "metadata": {},
   "outputs": [
    {
     "data": {
      "text/plain": [
       "<matplotlib.axes._subplots.AxesSubplot at 0x7f7c3cf9e048>"
      ]
     },
     "execution_count": 39,
     "metadata": {},
     "output_type": "execute_result"
    },
    {
     "data": {
      "image/png": "[encoded data removed]",
      "text/plain": [
       "<Figure size 432x288 with 2 Axes>"
      ]
     },
     "metadata": {
      "needs_background": "light"
     },
     "output_type": "display_data"
    }
   ],
   "source": [
    "import seaborn as sns\n",
    "corr = df_all.corr()\n",
    "sns.heatmap(corr, \n",
    "            xticklabels=corr.columns.values,\n",
    "            yticklabels=corr.columns.values)"
   ]
  },
  {
   "cell_type": "code",
   "execution_count": 38,
   "metadata": {},
   "outputs": [
    {
     "name": "stdout",
     "output_type": "stream",
     "text": [
      "import seaborn as sns\r\n",
      "corr = df_all.corr()\r\n",
      "sns.heatmap(corr, \r\n",
      "            xticklabels=corr.columns.values,\r\n",
      "            yticklabels=corr.columns.values)"
     ]
    }
   ],
   "source": [
    " %cat ../solutions/correlation_matrix.py"
   ]
  },
  {
   "cell_type": "markdown",
   "metadata": {
    "hide_input": false
   },
   "source": [
    "<div class=\"alert alert-info\">\n",
    "Describe what you see in the correlation matrix. What would relatively high correlations between `m_1` through `m_4` suggest? What about the relatively high correlations between `m_1` through `m_4` and `f_1` through `f_4`?\n",
    "</div>"
   ]
  },
  {
   "cell_type": "markdown",
   "metadata": {
    "hide_input": false
   },
   "source": [
    "<div class=\"alert alert-info\">\n",
    "We can export the data for one of the machines to a CSV file. Export the subset of the data corresponding to the machine with ID 51 to CSV, then download the CSV file and open it in Excel to examine its content. Comment on what you see.\n",
    "</div>"
   ]
  },
  {
   "cell_type": "code",
   "execution_count": 41,
   "metadata": {},
   "outputs": [],
   "source": [
    "df_all.loc[(df_all['machineID'] == 51), :].sort_values(['datetime', 'machineID']).to_csv('bla.csv')"
   ]
  },
  {
   "cell_type": "code",
   "execution_count": 40,
   "metadata": {},
   "outputs": [
    {
     "name": "stdout",
     "output_type": "stream",
     "text": [
      "df_all.loc[(df_all['machineID'] == 51), :].sort_values(['datetime', 'machineID']).to_csv('bla.csv')"
     ]
    }
   ],
   "source": [
    "%cat ../solutions/export_csv.py"
   ]
  },
  {
   "cell_type": "markdown",
   "metadata": {},
   "source": [
    "### End of lab"
   ]
  },
  {
   "cell_type": "markdown",
   "metadata": {},
   "source": [
    "Let's look at all the features we've so far added to the data."
   ]
  },
  {
   "cell_type": "code",
   "execution_count": 42,
   "metadata": {},
   "outputs": [
    {
     "name": "stdout",
     "output_type": "stream",
     "text": [
      "<class 'pandas.core.frame.DataFrame'>\n",
      "Int64Index: 292033 entries, 0 to 292032\n",
      "Data columns (total 44 columns):\n",
      "datetime           292033 non-null datetime64[ns]\n",
      "machineID          292033 non-null int64\n",
      "volt_ma_3          292033 non-null float64\n",
      "rotate_ma_3        292033 non-null float64\n",
      "pressure_ma_3      292033 non-null float64\n",
      "vibration_ma_3     292033 non-null float64\n",
      "volt_sd_3          292033 non-null float64\n",
      "rotate_sd_3        292033 non-null float64\n",
      "pressure_sd_3      292033 non-null float64\n",
      "vibration_sd_3     292033 non-null float64\n",
      "volt_ma_12         292033 non-null float64\n",
      "rotate_ma_12       292033 non-null float64\n",
      "pressure_ma_12     292033 non-null float64\n",
      "vibration_ma_12    292033 non-null float64\n",
      "volt_sd_12         292033 non-null float64\n",
      "rotate_sd_12       292033 non-null float64\n",
      "pressure_sd_12     292033 non-null float64\n",
      "vibration_sd_12    292033 non-null float64\n",
      "e_error1           292033 non-null float64\n",
      "e_error2           292033 non-null float64\n",
      "e_error3           292033 non-null float64\n",
      "e_error4           292033 non-null float64\n",
      "de_error1          292033 non-null float64\n",
      "de_error2          292033 non-null float64\n",
      "de_error3          292033 non-null float64\n",
      "de_error4          292033 non-null float64\n",
      "m_1                292033 non-null float64\n",
      "m_2                292033 non-null float64\n",
      "m_3                292033 non-null float64\n",
      "m_4                292033 non-null float64\n",
      "dm_1               292033 non-null float64\n",
      "dm_2               292033 non-null float64\n",
      "dm_3               292033 non-null float64\n",
      "dm_4               292033 non-null float64\n",
      "f_1                292033 non-null float64\n",
      "f_2                292033 non-null float64\n",
      "f_3                292033 non-null float64\n",
      "f_4                292033 non-null float64\n",
      "df_1               292033 non-null float64\n",
      "df_2               292033 non-null float64\n",
      "df_3               292033 non-null float64\n",
      "df_4               292033 non-null float64\n",
      "model              292033 non-null object\n",
      "age                292033 non-null int64\n",
      "dtypes: datetime64[ns](1), float64(40), int64(2), object(1)\n",
      "memory usage: 100.3+ MB\n"
     ]
    }
   ],
   "source": [
    "df_all.info()"
   ]
  },
  {
   "cell_type": "markdown",
   "metadata": {},
   "source": [
    "The last step in data prep is for us to create labels for the PdM model. You might wonder why we don't just use `f_1` through `f_4` as our labels, since they indicate when a machine failed. In fact we could, but PdM is not about predicting when a machine fails, but predicting when it's **about to fail**. So it's better to create labels indicate the state of the machine shortly prior to failure (how far back we want to go is something we need to determine)."
   ]
  },
  {
   "cell_type": "markdown",
   "metadata": {},
   "source": [
    "### Lab"
   ]
  },
  {
   "cell_type": "markdown",
   "metadata": {},
   "source": [
    "<div class=\"alert alert-info\">\n",
    "This is a difficult coding exercise, so we've done part of the work for you already. So far we know that we each machine has four components, and we have a feature column for each, called `f_1`, `f_2`, `f_3`, and `f_4` which tell us when a component failed. Using these features, we want to create four labels called `y_1`, `y_2`, `y_3`, and `y_4` which tell us when a component is about to fail. To get more precise, initiate with `y_1 = 0` and for a given machine, let `y_1 = 1` whenever the date and time is anywhere between 3 hours and 2 days prior to a failure occuring. Similary compute `y_2`, `y_3`, and `y_4`. Places where you need to enter code are marked as `## YOUR CODE GOES HERE`. HINT: Use the `Timedelta` method for `datetime` column types.\n",
    "</div>"
   ]
  },
  {
   "cell_type": "code",
   "execution_count": 43,
   "metadata": {},
   "outputs": [],
   "source": [
    "for i in range(1, 5): # iterate over the four components\n",
    "    # find all the times a component failed for a given machine\n",
    "    df_temp = df_all.loc[df_all['f_' + str(i)] == 1, ['machineID', 'datetime']]\n",
    "    label = 'y_' + str(i) # name of target column (one per component)\n",
    "    ## YOUR CODE GOES HERE (initialize y_i = 0)\n",
    "    for n in range(df_temp.shape[0]): # iterate over all the failure times\n",
    "        machineID, datetime = df_temp.iloc[n, :]\n",
    "        ## YOUR CODE GOES HERE (set y_i = 1 whenever datetime is between 2 days and 3 hours prior to failure)"
   ]
  },
  {
   "cell_type": "code",
   "execution_count": 46,
   "metadata": {},
   "outputs": [
    {
     "name": "stdout",
     "output_type": "stream",
     "text": [
      "a failure occured on machine 1 at 2015-01-01 08:00:00, so y_1 is set to 1 between 2014-12-30 08:00:00 and 2015-01-01 05:00:00\n",
      "a failure occured on machine 1 at 2015-01-01 08:00:00, so y_2 is set to 1 between 2014-12-30 08:00:00 and 2015-01-01 05:00:00\n",
      "a failure occured on machine 82 at 2015-12-09 08:00:00, so y_2 is set to 1 between 2015-12-07 08:00:00 and 2015-12-09 05:00:00\n",
      "a failure occured on machine 1 at 2015-01-01 08:00:00, so y_3 is set to 1 between 2014-12-30 08:00:00 and 2015-01-01 05:00:00\n",
      "a failure occured on machine 1 at 2015-01-01 08:00:00, so y_4 is set to 1 between 2014-12-30 08:00:00 and 2015-01-01 05:00:00\n"
     ]
    }
   ],
   "source": [
    "# %load ../solutions/compute_labels.py\n",
    "for i in range(1, 5): # iterate over the four components\n",
    "    # find all the times a component failed for a given machine\n",
    "    df_temp = df_all.loc[df_all['f_' + str(i)] == 1, ['machineID', 'datetime']]\n",
    "    label = 'y_' + str(i) # name of target column (one per component)\n",
    "    df_all[label] = 0\n",
    "    for n in range(df_temp.shape[0]): # iterate over all the failure times\n",
    "        machineID, datetime = df_temp.iloc[n, :]\n",
    "        dt_end = datetime - pd.Timedelta('3 hours') # 3 hours prior to failure\n",
    "        dt_start = datetime - pd.Timedelta('2 days') # n days prior to failure\n",
    "        if n % 500 == 0: \n",
    "            print(\"a failure occured on machine {0} at {1}, so {2} is set to 1 between {4} and {3}\".format(machineID, datetime, label, dt_end, dt_start))\n",
    "        df_all.loc[(df_all['machineID'] == machineID) & \n",
    "                   (df_all['datetime'].between(dt_start, dt_end)), label] = 1"
   ]
  },
  {
   "cell_type": "markdown",
   "metadata": {},
   "source": [
    "<div class=\"alert alert-info\">\n",
    "To run the above script change the magic `%cat` to `%load` which will load the content of the script into the cell. Then select the cell a second time and run it.\n",
    "</div>"
   ]
  },
  {
   "cell_type": "markdown",
   "metadata": {},
   "source": [
    "### End of lab"
   ]
  },
  {
   "cell_type": "code",
   "execution_count": 47,
   "metadata": {},
   "outputs": [
    {
     "data": {
      "text/html": [
       "<div>\n",
       "<style scoped>\n",
       "    .dataframe tbody tr th:only-of-type {\n",
       "        vertical-align: middle;\n",
       "    }\n",
       "\n",
       "    .dataframe tbody tr th {\n",
       "        vertical-align: top;\n",
       "    }\n",
       "\n",
       "    .dataframe thead th {\n",
       "        text-align: right;\n",
       "    }\n",
       "</style>\n",
       "<table border=\"1\" class=\"dataframe\">\n",
       "  <thead>\n",
       "    <tr style=\"text-align: right;\">\n",
       "      <th></th>\n",
       "      <th>f1=0</th>\n",
       "      <th>f1=1</th>\n",
       "      <th>f2=0</th>\n",
       "      <th>f2=1</th>\n",
       "      <th>f3=0</th>\n",
       "      <th>f3=1</th>\n",
       "      <th>f4=0</th>\n",
       "      <th>f4=1</th>\n",
       "    </tr>\n",
       "  </thead>\n",
       "  <tbody>\n",
       "    <tr>\n",
       "      <th>0</th>\n",
       "      <td>288585</td>\n",
       "      <td>281</td>\n",
       "      <td>287301</td>\n",
       "      <td>356</td>\n",
       "      <td>289614</td>\n",
       "      <td>227</td>\n",
       "      <td>288741</td>\n",
       "      <td>276</td>\n",
       "    </tr>\n",
       "    <tr>\n",
       "      <th>1</th>\n",
       "      <td>2964</td>\n",
       "      <td>203</td>\n",
       "      <td>4114</td>\n",
       "      <td>262</td>\n",
       "      <td>2057</td>\n",
       "      <td>135</td>\n",
       "      <td>2834</td>\n",
       "      <td>182</td>\n",
       "    </tr>\n",
       "  </tbody>\n",
       "</table>\n",
       "</div>"
      ],
      "text/plain": [
       "     f1=0  f1=1    f2=0  f2=1    f3=0  f3=1    f4=0  f4=1\n",
       "0  288585   281  287301   356  289614   227  288741   276\n",
       "1    2964   203    4114   262    2057   135    2834   182"
      ]
     },
     "execution_count": 47,
     "metadata": {},
     "output_type": "execute_result"
    }
   ],
   "source": [
    "import itertools\n",
    "\n",
    "ct = pd.concat([pd.crosstab(df_all['y_' + str(i)], df_all['f_' + str(i)]) for i in range(1, 5)], axis=1)\n",
    "ct.columns = ['f' + str(i) + '=' + str(j) for i, j in itertools.product(range(1, 5), range(2))]\n",
    "ct"
   ]
  },
  {
   "cell_type": "markdown",
   "metadata": {},
   "source": [
    "A word of caution here is in order. We should more carefully examine the distribution of the labels across machines. A brief glance at it for 10 randomly chosen machines shows that the distribution for `y_3` and `y_4` is not evenly distributed and that many machines contain only negative labels (because `f_3` and `f_4` are 0) while the machines with positive labels show a large numbers of failures. Problems like this can cause bias in our models, even when such differences can be legimtimately explained away by differences in the underlying components. As an example of the kind of problem we may run into, consider this: If in the modeling phase we choose to split the data into training and testing by machine ID (assign some machine IDs to training and the rest to testing), we will need to ensure that machines with both positive and negative labels are well represented in both datasets."
   ]
  },
  {
   "cell_type": "code",
   "execution_count": 48,
   "metadata": {},
   "outputs": [
    {
     "data": {
      "text/html": [
       "<div>\n",
       "<style scoped>\n",
       "    .dataframe tbody tr th:only-of-type {\n",
       "        vertical-align: middle;\n",
       "    }\n",
       "\n",
       "    .dataframe tbody tr th {\n",
       "        vertical-align: top;\n",
       "    }\n",
       "\n",
       "    .dataframe thead th {\n",
       "        text-align: right;\n",
       "    }\n",
       "</style>\n",
       "<table border=\"1\" class=\"dataframe\">\n",
       "  <thead>\n",
       "    <tr style=\"text-align: right;\">\n",
       "      <th></th>\n",
       "      <th>y_1=0</th>\n",
       "      <th>y_1=1</th>\n",
       "      <th>y_2=0</th>\n",
       "      <th>y_2=1</th>\n",
       "      <th>y_3=0</th>\n",
       "      <th>y_3=1</th>\n",
       "      <th>y_4=0</th>\n",
       "      <th>y_4=1</th>\n",
       "    </tr>\n",
       "    <tr>\n",
       "      <th>machineID</th>\n",
       "      <th></th>\n",
       "      <th></th>\n",
       "      <th></th>\n",
       "      <th></th>\n",
       "      <th></th>\n",
       "      <th></th>\n",
       "      <th></th>\n",
       "      <th></th>\n",
       "    </tr>\n",
       "  </thead>\n",
       "  <tbody>\n",
       "    <tr>\n",
       "      <th>36</th>\n",
       "      <td>2887</td>\n",
       "      <td>34</td>\n",
       "      <td>2887</td>\n",
       "      <td>34</td>\n",
       "      <td>2921</td>\n",
       "      <td>0</td>\n",
       "      <td>2921</td>\n",
       "      <td>0</td>\n",
       "    </tr>\n",
       "    <tr>\n",
       "      <th>7</th>\n",
       "      <td>2869</td>\n",
       "      <td>51</td>\n",
       "      <td>2852</td>\n",
       "      <td>68</td>\n",
       "      <td>2920</td>\n",
       "      <td>0</td>\n",
       "      <td>2869</td>\n",
       "      <td>51</td>\n",
       "    </tr>\n",
       "    <tr>\n",
       "      <th>33</th>\n",
       "      <td>2887</td>\n",
       "      <td>34</td>\n",
       "      <td>2870</td>\n",
       "      <td>51</td>\n",
       "      <td>2921</td>\n",
       "      <td>0</td>\n",
       "      <td>2853</td>\n",
       "      <td>68</td>\n",
       "    </tr>\n",
       "    <tr>\n",
       "      <th>41</th>\n",
       "      <td>2869</td>\n",
       "      <td>51</td>\n",
       "      <td>2920</td>\n",
       "      <td>0</td>\n",
       "      <td>2920</td>\n",
       "      <td>0</td>\n",
       "      <td>2920</td>\n",
       "      <td>0</td>\n",
       "    </tr>\n",
       "    <tr>\n",
       "      <th>57</th>\n",
       "      <td>2887</td>\n",
       "      <td>34</td>\n",
       "      <td>2921</td>\n",
       "      <td>0</td>\n",
       "      <td>2921</td>\n",
       "      <td>0</td>\n",
       "      <td>2921</td>\n",
       "      <td>0</td>\n",
       "    </tr>\n",
       "    <tr>\n",
       "      <th>83</th>\n",
       "      <td>2852</td>\n",
       "      <td>68</td>\n",
       "      <td>2852</td>\n",
       "      <td>68</td>\n",
       "      <td>2920</td>\n",
       "      <td>0</td>\n",
       "      <td>2827</td>\n",
       "      <td>93</td>\n",
       "    </tr>\n",
       "    <tr>\n",
       "      <th>23</th>\n",
       "      <td>2903</td>\n",
       "      <td>17</td>\n",
       "      <td>2869</td>\n",
       "      <td>51</td>\n",
       "      <td>2852</td>\n",
       "      <td>68</td>\n",
       "      <td>2852</td>\n",
       "      <td>68</td>\n",
       "    </tr>\n",
       "    <tr>\n",
       "      <th>49</th>\n",
       "      <td>2920</td>\n",
       "      <td>0</td>\n",
       "      <td>2869</td>\n",
       "      <td>51</td>\n",
       "      <td>2852</td>\n",
       "      <td>68</td>\n",
       "      <td>2835</td>\n",
       "      <td>85</td>\n",
       "    </tr>\n",
       "    <tr>\n",
       "      <th>66</th>\n",
       "      <td>2853</td>\n",
       "      <td>68</td>\n",
       "      <td>2904</td>\n",
       "      <td>17</td>\n",
       "      <td>2921</td>\n",
       "      <td>0</td>\n",
       "      <td>2921</td>\n",
       "      <td>0</td>\n",
       "    </tr>\n",
       "    <tr>\n",
       "      <th>16</th>\n",
       "      <td>2861</td>\n",
       "      <td>59</td>\n",
       "      <td>2869</td>\n",
       "      <td>51</td>\n",
       "      <td>2827</td>\n",
       "      <td>93</td>\n",
       "      <td>2920</td>\n",
       "      <td>0</td>\n",
       "    </tr>\n",
       "  </tbody>\n",
       "</table>\n",
       "</div>"
      ],
      "text/plain": [
       "           y_1=0  y_1=1  y_2=0  y_2=1  y_3=0  y_3=1  y_4=0  y_4=1\n",
       "machineID                                                        \n",
       "36          2887     34   2887     34   2921      0   2921      0\n",
       "7           2869     51   2852     68   2920      0   2869     51\n",
       "33          2887     34   2870     51   2921      0   2853     68\n",
       "41          2869     51   2920      0   2920      0   2920      0\n",
       "57          2887     34   2921      0   2921      0   2921      0\n",
       "83          2852     68   2852     68   2920      0   2827     93\n",
       "23          2903     17   2869     51   2852     68   2852     68\n",
       "49          2920      0   2869     51   2852     68   2835     85\n",
       "66          2853     68   2904     17   2921      0   2921      0\n",
       "16          2861     59   2869     51   2827     93   2920      0"
      ]
     },
     "execution_count": 48,
     "metadata": {},
     "output_type": "execute_result"
    }
   ],
   "source": [
    "import itertools\n",
    "\n",
    "ct = pd.concat([pd.crosstab(df_all['machineID'], \n",
    "                            df_all['y_' + str(i)]) for i in range(1, 5)], axis=1)\n",
    "ct.columns = ['y_' + str(i) + '=' + str(j) for i, j in itertools.product(range(1, 5), range(2))]\n",
    "ct.loc[np.random.randint(1, 100, 10)]"
   ]
  },
  {
   "cell_type": "markdown",
   "metadata": {},
   "source": [
    "## Modeling"
   ]
  },
  {
   "cell_type": "markdown",
   "metadata": {},
   "source": [
    "See [here](https://docs.microsoft.com/en-us/azure/machine-learning/team-data-science-process/cortana-analytics-playbook-predictive-maintenance#modeling-techniques-for-predictive-maintenance) for more about modeling approaches for PdM."
   ]
  },
  {
   "cell_type": "markdown",
   "metadata": {},
   "source": [
    "We constructed a binary label that can be used to predict the probability that the system will fail in the next $T$ time steps (48 hours, based on our specified choice). If explanability is also a goal here, then we should prefer models that can also help us explain the root cause of a failure.\n",
    "\n",
    "We have two ways of splitting the data into training and testing:\n",
    "- we choose a cut-off time $T_c$ such that the training data is all the data before $T_c - w$ and the test data is all the data after $T_c$, where $w$ is a safe margin to make sure that as we avoid leakage into the training data when we label the data\n",
    "- we split training and test set based machine ID so that assets show up in one or the other split"
   ]
  },
  {
   "cell_type": "markdown",
   "metadata": {},
   "source": [
    "For your benefit, here is a list of [solution templates for predictive maintenance](https://docs.microsoft.com/en-us/azure/machine-learning/team-data-science-process/cortana-analytics-playbook-predictive-maintenance#solution-templates-for-predictive-maintenance)."
   ]
  },
  {
   "cell_type": "code",
   "execution_count": 49,
   "metadata": {},
   "outputs": [
    {
     "data": {
      "text/plain": [
       "Index(['datetime', 'machineID', 'volt_ma_3', 'rotate_ma_3', 'pressure_ma_3',\n",
       "       'vibration_ma_3', 'volt_sd_3', 'rotate_sd_3', 'pressure_sd_3',\n",
       "       'vibration_sd_3', 'volt_ma_12', 'rotate_ma_12', 'pressure_ma_12',\n",
       "       'vibration_ma_12', 'volt_sd_12', 'rotate_sd_12', 'pressure_sd_12',\n",
       "       'vibration_sd_12', 'e_error1', 'e_error2', 'e_error3', 'e_error4',\n",
       "       'de_error1', 'de_error2', 'de_error3', 'de_error4', 'm_1', 'm_2', 'm_3',\n",
       "       'm_4', 'dm_1', 'dm_2', 'dm_3', 'dm_4', 'f_1', 'f_2', 'f_3', 'f_4',\n",
       "       'df_1', 'df_2', 'df_3', 'df_4', 'model', 'age', 'y_1', 'y_2', 'y_3',\n",
       "       'y_4'],\n",
       "      dtype='object')"
      ]
     },
     "execution_count": 49,
     "metadata": {},
     "output_type": "execute_result"
    }
   ],
   "source": [
    "df_all.columns"
   ]
  },
  {
   "cell_type": "markdown",
   "metadata": {},
   "source": [
    "Let's begin by splitting the data into training and test sets, based on a date cut-off."
   ]
  },
  {
   "cell_type": "code",
   "execution_count": 50,
   "metadata": {},
   "outputs": [],
   "source": [
    "X_drop = ['datetime', 'machineID', 'f_1', 'f_2', 'f_3', 'f_4', 'y_1', 'y_2', 'y_3', 'y_4', 'model']\n",
    "Y_keep = ['y_1', 'y_2', 'y_3', 'y_4']\n",
    "\n",
    "X_train = df_all.loc[df_all['datetime'] < '2015-10-01', ].drop(X_drop, axis=1)\n",
    "y_train = df_all.loc[df_all['datetime'] < '2015-10-01', Y_keep]\n",
    "\n",
    "X_test = df_all.loc[df_all['datetime'] > '2015-10-15', ].drop(X_drop, axis=1)\n",
    "y_test = df_all.loc[df_all['datetime'] > '2015-10-15', Y_keep]"
   ]
  },
  {
   "cell_type": "code",
   "execution_count": 51,
   "metadata": {},
   "outputs": [
    {
     "name": "stdout",
     "output_type": "stream",
     "text": [
      "Stored 'X_train' (DataFrame)\n",
      "Stored 'X_test' (DataFrame)\n",
      "Stored 'y_train' (DataFrame)\n",
      "Stored 'y_test' (DataFrame)\n"
     ]
    }
   ],
   "source": [
    "%store X_train ../data\n",
    "%store X_test ../data\n",
    "%store y_train ../data\n",
    "%store y_test ../data"
   ]
  },
  {
   "cell_type": "markdown",
   "metadata": {},
   "source": [
    "### Lab"
   ]
  },
  {
   "cell_type": "markdown",
   "metadata": {},
   "source": [
    "<div class=\"alert alert-info\">\n",
    "Report the number of failures that occur in the training and test data. Do you think the split is adequate or should we split based on a different cut-off? If so, do you recommend a higher or lower cut-off?\n",
    "</div>"
   ]
  },
  {
   "cell_type": "code",
   "execution_count": 55,
   "metadata": {},
   "outputs": [
    {
     "name": "stdout",
     "output_type": "stream",
     "text": [
      "     train  test\n",
      "y_1   2530   578\n",
      "y_2   3172   990\n",
      "y_3   1728   408\n",
      "y_4   2333   629\n"
     ]
    }
   ],
   "source": [
    "print(pd.DataFrame({\"train\": y_train.apply(sum, axis = 0), \"test\": y_test.apply(sum, axis = 0)}))"
   ]
  },
  {
   "cell_type": "code",
   "execution_count": 54,
   "metadata": {},
   "outputs": [
    {
     "name": "stdout",
     "output_type": "stream",
     "text": [
      "print(pd.DataFrame({\"train\": y_train.apply(sum, axis = 0), \"test\": y_test.apply(sum, axis = 0)}))"
     ]
    }
   ],
   "source": [
    " %cat ../solutions/train_test_failures.py"
   ]
  },
  {
   "cell_type": "markdown",
   "metadata": {},
   "source": [
    "### End of lab"
   ]
  },
  {
   "cell_type": "markdown",
   "metadata": {},
   "source": [
    "We can now train our model. We have chosen a MLP (multi-linear perceptron) as our model, which is a basic neural network model."
   ]
  },
  {
   "cell_type": "code",
   "execution_count": 56,
   "metadata": {},
   "outputs": [],
   "source": [
    "pipeline = Pipeline([('scaler', StandardScaler()), ('classifier', MLPClassifier(solver='lbfgs', alpha=1e-5, hidden_layer_sizes=(5, 10), random_state=1))])\n",
    "pipeline.fit(X_train, y_train)\n",
    "y_pred = pipeline.predict(X_test)"
   ]
  },
  {
   "cell_type": "markdown",
   "metadata": {},
   "source": [
    "### Lab"
   ]
  },
  {
   "cell_type": "markdown",
   "metadata": {},
   "source": [
    "<div class=\"alert alert-info\">\n",
    "Print the confusion matrix and precision and recall for each of the four failure types. You can use the functions `confusion_matrix` and `classification report` to do the computation for you.  The rows in the matrix represent actual cases of non-failure and failure. The columns represent predicted cases. How is precision and recall calculated from the confusion matrix?\n",
    "</div>"
   ]
  },
  {
   "cell_type": "code",
   "execution_count": 57,
   "metadata": {},
   "outputs": [],
   "source": [
    "# write solution here"
   ]
  },
  {
   "cell_type": "code",
   "execution_count": 58,
   "metadata": {},
   "outputs": [
    {
     "name": "stdout",
     "output_type": "stream",
     "text": [
      "confusion matrix:\n",
      "---------------- for y_1\n",
      "[[61907   115]\n",
      " [  431   147]]\n",
      "---------------- for y_2\n",
      "[[61534    76]\n",
      " [  926    64]]\n",
      "---------------- for y_3\n",
      "[[62022   170]\n",
      " [  250   158]]\n",
      "---------------- for y_4\n",
      "[[61803   168]\n",
      " [  408   221]]\n",
      "\n",
      "classification report:\n",
      "             precision    recall  f1-score   support\n",
      "\n",
      "          0       0.56      0.25      0.35       578\n",
      "          1       0.46      0.06      0.11       990\n",
      "          2       0.48      0.39      0.43       408\n",
      "          3       0.57      0.35      0.43       629\n",
      "\n",
      "avg / total       0.51      0.23      0.29      2605\n",
      "\n",
      "AUC = 0.6122623056675458\n"
     ]
    }
   ],
   "source": [
    "# %load ../solutions/confusion_matrix.py\n",
    "print(\"confusion matrix:\")\n",
    "for y_idx in range(4):\n",
    "    print(\"---------------- for y_\" + str(y_idx+1))\n",
    "    print(confusion_matrix(y_test.values[:, y_idx], y_pred[:, y_idx]))\n",
    "    \n",
    "print(\"\\nclassification report:\")\n",
    "print(classification_report(y_test, y_pred))\n",
    "print(\"AUC = {}\".format(roc_auc_score(y_test, y_pred, average='weighted')))"
   ]
  },
  {
   "cell_type": "markdown",
   "metadata": {},
   "source": [
    "### End of lab"
   ]
  },
  {
   "cell_type": "markdown",
   "metadata": {},
   "source": [
    "Finally, let's create ROC plots for each type of failure."
   ]
  },
  {
   "cell_type": "code",
   "execution_count": 59,
   "metadata": {},
   "outputs": [],
   "source": [
    "sns.set(rc={'figure.figsize':(18,5)})"
   ]
  },
  {
   "cell_type": "code",
   "execution_count": 60,
   "metadata": {},
   "outputs": [
    {
     "data": {
      "image/png": "[encoded data removed]",
      "text/plain": [
       "<Figure size 1296x360 with 4 Axes>"
      ]
     },
     "metadata": {},
     "output_type": "display_data"
    }
   ],
   "source": [
    "from sklearn.metrics import auc, roc_curve\n",
    "\n",
    "plt.close('all')\n",
    "fig, axs = plt.subplots(ncols=4, sharex=True, sharey=True)\n",
    "\n",
    "for y_idx in range(4): # choose one of the outcomes\n",
    "    fpr, tpr, thresholds = roc_curve(y_test.values[:, y_idx], y_pred[:, y_idx])\n",
    "    roc_auc = auc(fpr, tpr)\n",
    "    axs[y_idx].set_title('ROC of y_' + str(y_idx))\n",
    "    axs[y_idx].set_ylabel('TPR')\n",
    "    axs[y_idx].set_xlabel('FPR')\n",
    "    axs[y_idx].plot(fpr, tpr, 'b', label = 'AUC = {0:.2f}'.format(roc_auc))\n",
    "    axs[y_idx].legend(loc = 'lower right')\n",
    "    axs[y_idx].plot([0, 1], [0, 1],'r--')\n",
    "\n",
    "plt.show()"
   ]
  },
  {
   "cell_type": "markdown",
   "metadata": {},
   "source": [
    "Let's store the training and test data so we can reload it in the next Notebook."
   ]
  },
  {
   "cell_type": "markdown",
   "metadata": {},
   "source": [
    "# The end"
   ]
  },
  {
   "cell_type": "markdown",
   "metadata": {},
   "source": [
    "Copyright (c) Microsoft Corporation. All rights reserved.\n",
    "\n",
    "Licensed under the MIT License."
   ]
  }
 ],
 "metadata": {
  "kernelspec": {
   "display_name": "Python 3.6 - AzureML",
   "language": "python",
   "name": "python3-azureml"
  },
  "language_info": {
   "codemirror_mode": {
    "name": "ipython",
    "version": 3
   },
   "file_extension": ".py",
   "mimetype": "text/x-python",
   "name": "python",
   "nbconvert_exporter": "python",
   "pygments_lexer": "ipython3",
   "version": "3.6.6"
  },
  "toc": {
   "base_numbering": 1,
   "nav_menu": {},
   "number_sections": true,
   "sideBar": true,
   "skip_h1_title": false,
   "title_cell": "Table of Contents",
   "title_sidebar": "Contents",
   "toc_cell": true,
   "toc_position": {
    "height": "calc(100% - 180px)",
    "left": "10px",
    "top": "150px",
    "width": "239px"
   },
   "toc_section_display": true,
   "toc_window_display": false
  }
 },
 "nbformat": 4,
 "nbformat_minor": 2
}
